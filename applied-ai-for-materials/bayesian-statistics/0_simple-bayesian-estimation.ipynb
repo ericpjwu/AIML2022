{
 "cells": [
  {
   "cell_type": "markdown",
   "id": "latin-question",
   "metadata": {},
   "source": [
    "# Simple Example for Bayesian Parameter Estimation\n",
    "We are going to show how to implement MCMC for a simple example: determining whether a coin is fair"
   ]
  },
  {
   "cell_type": "code",
   "execution_count": 1,
   "id": "forty-finance",
   "metadata": {},
   "outputs": [],
   "source": [
    "%matplotlib inline\n",
    "from matplotlib import pyplot as plt\n",
    "from scipy import stats\n",
    "import numpy as np"
   ]
  },
  {
   "cell_type": "markdown",
   "id": "applicable-employer",
   "metadata": {},
   "source": [
    "Configuration parameters"
   ]
  },
  {
   "cell_type": "code",
   "execution_count": 2,
   "id": "historical-kidney",
   "metadata": {},
   "outputs": [],
   "source": [
    "actual_theta = 0.76\n",
    "n_samples = 4"
   ]
  },
  {
   "cell_type": "markdown",
   "id": "super-bible",
   "metadata": {},
   "source": [
    "## Problem Statement\n",
    "\n",
    "Our goal is to determine whether a coin is fair by using Bayesian statistics to evaluate some experimental evidence. \n",
    "\n",
    "Bayesian methods are built around a process of updating your prior beliefs about a system given evidence about how it performs to form a new \"posterior\" set of beliefs.\n",
    "\n",
    "We define these beliefs as models and probability distributions. For example, let's model our coin flipping example as model:\n",
    "\n",
    "$P(H) = \\theta$\n",
    "\n",
    "where we define the fairness of the coin as a variable, $\\theta$.\n",
    "\n",
    "## Prior distribution\n",
    "\n",
    "Starting out, we make no assuptions about the fairness of the coin and assume $\\theta$ can take on any value between 0 and 1.\n",
    "\n",
    "We represent this prior belief using a uniform probability distribution and a so-called diffuse prior: $P(\\theta) = U(0, 1)$"
   ]
  },
  {
   "cell_type": "code",
   "execution_count": 3,
   "id": "median-record",
   "metadata": {},
   "outputs": [],
   "source": [
    "prior = stats.uniform(0, 1)"
   ]
  },
  {
   "cell_type": "code",
   "execution_count": 4,
   "id": "static-mambo",
   "metadata": {},
   "outputs": [
    {
     "data": {
      "text/plain": [
       "Text(0.5, 1.0, 'Prior Distribution')"
      ]
     },
     "execution_count": 4,
     "metadata": {},
     "output_type": "execute_result"
    },
    {
     "data": {
      "image/png": "[encoded data removed]",
      "text/plain": [
       "<Figure size 432x288 with 1 Axes>"
      ]
     },
     "metadata": {
      "needs_background": "light"
     },
     "output_type": "display_data"
    }
   ],
   "source": [
    "fig, ax = plt.subplots()\n",
    "\n",
    "x = np.linspace(-0.1, 1.1, 128)\n",
    "ax.step(x, prior.pdf(x), where='mid')\n",
    "\n",
    "ax.set_xlabel('$\\\\theta$')\n",
    "ax.set_ylabel('$P(\\\\theta)$')\n",
    "ax.set_title('Prior Distribution')"
   ]
  },
  {
   "cell_type": "markdown",
   "id": "subtle-creator",
   "metadata": {},
   "source": [
    "## Introducing Bayes's Rule\n",
    "Bayes's rule lets us update this prior distribution as we gather more data about the problem to form a \"posterior\" distribution that defines our belief about the parameters after we gather data.\n",
    "\n",
    "Expressed mathematically, we can write Bayes rule as\n",
    "\n",
    "$P(\\theta|D, M) = \\frac{P(D|\\theta,M)P(\\theta|M)}{P(D|M)}$\n",
    "\n",
    "where \n",
    "- $P(\\theta|D, M)$ is our posterior - a function that captures the probability of parameters $\\theta$ given our observations ($D$) and chosen model form ($M$).\n",
    "- $P(D|\\theta,M)$ is our likelihood function, the probability of observing data given the model form and choice of parmaeters.\n",
    "- $P(D|M)$ is evidence, our total probability of observing the data given the chosen model.\n",
    "- $P(\\theta|M)$ is our prior beliefs - what we assumed for the parameters before gathering any data.\n",
    "\n",
    "## Performing some experiments\n",
    "Now that we have set up our problem, let's flip a coin many times."
   ]
  },
  {
   "cell_type": "code",
   "execution_count": 5,
   "id": "alternative-designation",
   "metadata": {},
   "outputs": [],
   "source": [
    "coin = stats.bernoulli(actual_theta)  # Make an engine that flips a heads (1), 60% of the time"
   ]
  },
  {
   "cell_type": "code",
   "execution_count": 6,
   "id": "catholic-runner",
   "metadata": {},
   "outputs": [
    {
     "name": "stdout",
     "output_type": "stream",
     "text": [
      "Flipped the coin 4 times\n"
     ]
    }
   ],
   "source": [
    "samples = coin.rvs(n_samples)\n",
    "print(f'Flipped the coin {len(samples)} times')"
   ]
  },
  {
   "cell_type": "code",
   "execution_count": 7,
   "id": "extensive-december",
   "metadata": {},
   "outputs": [
    {
     "name": "stdout",
     "output_type": "stream",
     "text": [
      "The coin flipped heads 75.0% of the time. So, it seems biased but we can be more sure\n"
     ]
    }
   ],
   "source": [
    "print(f'The coin flipped heads {samples.mean()*100:.1f}% of the time. So, it seems biased but we can be more sure')"
   ]
  },
  {
   "cell_type": "markdown",
   "id": "fantastic-cache",
   "metadata": {},
   "source": [
    "## Sampling the Posterior\n",
    "Many analyses you want to perform involve computing properties of the posterior distribution (again, likely distribution of model parameters given your data). \n",
    "\n",
    "Solving that distribution (i.e., the function that gives probability as a function of parameters) analytically is rarely possible. But, there are techniques to be able to draw samples from this distribution without knowing its true shape, such as [Markov-Chain Monte Carlo (MCMC) methods](https://www.nature.com/articles/s43586-020-00001-2/tables/1).\n",
    "\n",
    "Here, we implement a simple one [\"Metropolis-Hasting Monte Carlo\"](https://en.wikipedia.org/wiki/Metropolis%E2%80%93Hastings_algorithm).\n",
    "\n",
    "This algorithm is as follows:\n",
    "1. Begin with a point, $\\theta$, chosen at random from the prior distribution\n",
    "2. Generate a new point, $\\theta_{new}$ by adding random values to $\\theta$.\n",
    "3. Compute the relative posterior probability of $\\theta_{new}$ and $\\theta$.\n",
    "   $r = \\frac{P(\\theta_{new}|D,M)}{P(\\theta|D,M)}=\\frac{P(D|\\theta_{new},M)P(\\theta_{new}|M)}{P(D|\\theta,M)P(\\theta|M)}$\n",
    "   \n",
    "   The second step in that derivation is by applying Bayes's Rule. Note that the evidence term, $P(D|M)$, cancels out\n",
    "4. Pick a random number ($\\beta$) from a uniform distribution between 0 and 1.\n",
    "5. If $\\beta > min(1, r)$, then let $\\theta = \\theta_{new}$\n",
    "6. Repeat from 2.\n",
    "\n",
    "Due to a principle known as \"detailed balance\" the distribution $\\theta$ will be equivalent to the posterior distribution.\n",
    "\n",
    "Here, we show how to implement this algorithm\n",
    "\n",
    "### Step 1: Generate a new point\n",
    "We define a function to generate a new parameter given the previous one. There are few constraints on this function, except that the function should be symmetric. "
   ]
  },
  {
   "cell_type": "code",
   "execution_count": 8,
   "id": "intelligent-petroleum",
   "metadata": {},
   "outputs": [
    {
     "name": "stdout",
     "output_type": "stream",
     "text": [
      "New random point given 0.5: 0.63\n"
     ]
    }
   ],
   "source": [
    "def perturb(th):\n",
    "    return th + np.random.uniform(-0.2, 0.2)\n",
    "print(f'New random point given 0.5: {perturb(0.5):.2f}')"
   ]
  },
  {
   "cell_type": "markdown",
   "id": "undefined-joseph",
   "metadata": {},
   "source": [
    "### Step 2: Compute Posterior Probabilities\n",
    "Our posterior probability has two terms: a likelihood for parameters given data ($P(D|\\theta,M)$) and given the prior distribution ($P(\\theta,M)$). \n",
    "\n",
    "The prior is easy. We defined all points to be equally likely as long as they are between -0.5 and 0.5.\n",
    "\n",
    "The likelihood is more difficult. Here, we must take the model form - a Bernoulii function - into account. \n",
    "\n",
    "See [MathWorld](https://mathworld.wolfram.com/BernoulliDistribution.html) for more details, but we can express the number of heads ($n$) given the number of flips ($N$) observed as a function of the parameter $\\theta$ as:\n",
    "\n",
    "$P(n|\\theta,N) = {N \\choose n}\\theta^n(1-\\theta)^{N-n}$\n",
    "\n",
    "So, we can write the ration between the probabilities as:\n",
    "\n",
    "$r = \\frac{P(D|\\theta_{new},M)P(\\theta_{new}|M)}{P(D|\\theta,M)P(\\theta|M)} = \\frac{\\theta_{new}^n(1-\\theta_{new})^{N-n}}{\\theta^n(1-\\theta)^{N-n}}$\n",
    "\n"
   ]
  },
  {
   "cell_type": "code",
   "execution_count": 9,
   "id": "excited-bathroom",
   "metadata": {},
   "outputs": [],
   "source": [
    "def relative_prob(a, b, n, N):\n",
    "    \"\"\"\n",
    "    Args:\n",
    "        a - New point\n",
    "        b - Old point (must be within -0.5 and 0.5)\n",
    "    Returns:\n",
    "        Relative probability of a and b\n",
    "    \"\"\"\n",
    "    if a < 0 or a > 1:\n",
    "        return 0\n",
    "    return (a ** n) * (1 - a) ** (N - n) / (b ** n * (1 - b) ** (N - n))"
   ]
  },
  {
   "cell_type": "code",
   "execution_count": 10,
   "id": "choice-mayor",
   "metadata": {},
   "outputs": [
    {
     "data": {
      "text/plain": [
       "0.8665364583333336"
      ]
     },
     "execution_count": 10,
     "metadata": {},
     "output_type": "execute_result"
    }
   ],
   "source": [
    "relative_prob(0.55, 0.6, samples.sum(), len(samples))"
   ]
  },
  {
   "cell_type": "markdown",
   "id": "legendary-abraham",
   "metadata": {},
   "source": [
    "### Step 3: Stringing it together\n",
    "Make a function that runs the MCMC loop a certain number of times."
   ]
  },
  {
   "cell_type": "code",
   "execution_count": 11,
   "id": "plain-welsh",
   "metadata": {},
   "outputs": [],
   "source": [
    "def run_mcmc(n_steps):\n",
    "    \"\"\"Run MCMC\n",
    "    \n",
    "    Args:\n",
    "        n_steps - Number of steps to run\n",
    "    \"\"\"\n",
    "    \n",
    "    # Draw a point from the prior distribution\n",
    "    th = prior.rvs()\n",
    "    \n",
    "    # Loop to create new samples\n",
    "    output = np.zeros(n_steps)\n",
    "    for i in range(n_steps):\n",
    "        # Generate a new point\n",
    "        th_new = perturb(th)\n",
    "        \n",
    "        # Get the relative probability\n",
    "        r = relative_prob(th_new, th, samples.sum(), len(samples))\n",
    "        \n",
    "        # Determine if we select the new point\n",
    "        if np.random.random() < r:\n",
    "            th = th_new\n",
    "        \n",
    "        # Store the point\n",
    "        output[i] = th\n",
    "    return output"
   ]
  },
  {
   "cell_type": "markdown",
   "id": "passive-canadian",
   "metadata": {},
   "source": [
    "## Perform the MCMC Sample\n",
    "We will run a large number of samples to generate statistics about the posterior distribution"
   ]
  },
  {
   "cell_type": "code",
   "execution_count": 12,
   "id": "solar-width",
   "metadata": {},
   "outputs": [],
   "source": [
    "post_samples = run_mcmc(32768)"
   ]
  },
  {
   "cell_type": "code",
   "execution_count": 13,
   "id": "thrown-horse",
   "metadata": {},
   "outputs": [
    {
     "data": {
      "text/plain": [
       "Text(0, 0.5, '$P(\\\\theta)$')"
      ]
     },
     "execution_count": 13,
     "metadata": {},
     "output_type": "execute_result"
    },
    {
     "data": {
      "image/png": "[encoded data removed]",
      "text/plain": [
       "<Figure size 432x288 with 1 Axes>"
      ]
     },
     "metadata": {
      "needs_background": "light"
     },
     "output_type": "display_data"
    }
   ],
   "source": [
    "fig, ax = plt.subplots()\n",
    "\n",
    "ax.hist(post_samples, bins=np.linspace(0, 1, 128), density=True)\n",
    "\n",
    "# Plot the actual and the mean\n",
    "ax.set_ylim(ax.get_ylim())\n",
    "ax.plot([actual_theta]*2, ax.get_ylim(), 'k--')\n",
    "ax.plot([samples.mean()]*2, ax.get_ylim(), 'r--')\n",
    "\n",
    "ax.set_xlabel('$\\\\theta$')\n",
    "ax.set_ylabel('$P(\\\\theta)$')"
   ]
  },
  {
   "cell_type": "markdown",
   "id": "enormous-assets",
   "metadata": {},
   "source": [
    "As shown in the above plot, the peak in the distribution is at the observed fraction of heads (red dashed) and the actual value (black dashed) is still within the probability distribution.\n",
    "\n",
    "Change a few parameters see whether: \n",
    "- The distributions moves with the value you choose for the true $\\theta$\n",
    "- More samples makes the distribution converage around the correct value\n",
    "\n",
    "Metropolis-Hastings Monte Carlo is simple to implement and understand, but has some issues. The samples are strongly-correlated (sampling based on the current position means that the points are not truely-random), it also takes a large number of samples to fully explore the distribution of parameters. These issues are addressed in more advanced MCMC methods, which we will use in the later notebooks. That said, the concept of defining a \"likelihood function\" to determine how likely a point is and sampling points from the posterior are constant through these methods and are things you can understand with our simpler method."
   ]
  },
  {
   "cell_type": "code",
   "execution_count": null,
   "id": "abandoned-numbers",
   "metadata": {},
   "outputs": [],
   "source": []
  }
 ],
 "metadata": {
  "kernelspec": {
   "display_name": "Python 3",
   "language": "python",
   "name": "python3"
  },
  "language_info": {
   "codemirror_mode": {
    "name": "ipython",
    "version": 3
   },
   "file_extension": ".py",
   "mimetype": "text/x-python",
   "name": "python",
   "nbconvert_exporter": "python",
   "pygments_lexer": "ipython3",
   "version": "3.7.9"
  }
 },
 "nbformat": 4,
 "nbformat_minor": 5
}
