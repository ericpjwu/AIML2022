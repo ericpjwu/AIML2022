{
 "cells": [
  {
   "cell_type": "markdown",
   "id": "executive-version",
   "metadata": {},
   "source": [
    "# Model Comparison using Kombine\n",
    "We perform a more advanced task in this notebook and use an established bayesian modeling tool: [Kombine](https://github.com/bfarr/kombine)."
   ]
  },
  {
   "cell_type": "code",
   "execution_count": 1,
   "id": "grateful-difference",
   "metadata": {},
   "outputs": [],
   "source": [
    "%matplotlib inline\n",
    "from matplotlib import pyplot as plt\n",
    "from scipy.optimize import curve_fit\n",
    "from scipy import stats\n",
    "from corner import corner\n",
    "import pandas as pd\n",
    "import numpy as np\n",
    "import kombine"
   ]
  },
  {
   "cell_type": "markdown",
   "id": "sunrise-horizon",
   "metadata": {},
   "source": [
    "## Step 1: Gather data\n",
    "We are going to use data from [Dutta and Sherrill (2003)](https://aip.scitation.org/doi/10.1063/1.1531658) who computed the bond energy of the HF molecule as a function of distance"
   ]
  },
  {
   "cell_type": "code",
   "execution_count": 2,
   "id": "union-consent",
   "metadata": {},
   "outputs": [],
   "source": [
    "data = pd.read_csv('datasets/hf-bond-energy.csv')\n",
    "data = data.sample(12).sort_values('R')  # Reduce the amount of data as an experiment later"
   ]
  },
  {
   "cell_type": "code",
   "execution_count": 3,
   "id": "decimal-oakland",
   "metadata": {},
   "outputs": [
    {
     "data": {
      "text/plain": [
       "Text(0, 0.5, 'E (Ha)')"
      ]
     },
     "execution_count": 3,
     "metadata": {},
     "output_type": "execute_result"
    },
    {
     "data": {
      "image/png": "[encoded data removed]",
      "text/plain": [
       "<Figure size 432x288 with 1 Axes>"
      ]
     },
     "metadata": {
      "needs_background": "light"
     },
     "output_type": "display_data"
    }
   ],
   "source": [
    "fig, ax = plt.subplots()\n",
    "\n",
    "ax.plot(data['R'], data['E'], '--o')\n",
    "\n",
    "ax.set_xlabel('R ($\\\\AA$)')\n",
    "ax.set_ylabel('E (Ha)')"
   ]
  },
  {
   "cell_type": "markdown",
   "id": "straight-radius",
   "metadata": {},
   "source": [
    "We see a bond that has a minimum around $0.9 \\unicode{xC5}$ that plateaus out to be around -100, which is the energy of the broken state.\n",
    "\n",
    "For simplicity, we are going to compute an energy where broken is 0"
   ]
  },
  {
   "cell_type": "code",
   "execution_count": 4,
   "id": "exposed-brazil",
   "metadata": {},
   "outputs": [],
   "source": [
    "data['dE'] = data['E'] - data['E'].max()"
   ]
  },
  {
   "cell_type": "markdown",
   "id": "rapid-redhead",
   "metadata": {},
   "source": [
    "## Step 2: Introducing the Models\n",
    "There are many models that can explain bond energy that look like this, we are going to use 2 of them:\n",
    "\n",
    "- [Lennard-Jones](https://en.wikipedia.org/wiki/Lennard-Jones_potential): $E = 4\\epsilon [(\\sigma/r)^{12} - (\\sigma/r)^6]$\n",
    "- [Morse](https://en.wikipedia.org/wiki/Morse_potential): E = $D_e(1 - e^{-\\alpha(r-r_e)})^2 - D_e$\n",
    "- [Buckingham](https://en.wikipedia.org/wiki/Buckingham_potential): $E = A\\exp(-Br) - \\frac{C}{r^6}$\n",
    "\n",
    "Before getting started using Bayesian methods, we must establish reasponable priors for these model.\n",
    "We will do that by finding the optimal parameters by fitting the parameters to the data"
   ]
  },
  {
   "cell_type": "code",
   "execution_count": 5,
   "id": "portable-regard",
   "metadata": {},
   "outputs": [],
   "source": [
    "def lj(r, e, s):\n",
    "    \"\"\"Compute the energy using Lennard-Jones potential\n",
    "    \n",
    "    Args:\n",
    "        r: Bond distances\n",
    "        e: Bond energy term (epsilon)\n",
    "        s: Bond length term (sigma)\n",
    "    Return:\n",
    "        Energies at each distance\n",
    "    \"\"\"\n",
    "    rn = np.divide(s, r)\n",
    "    return 4 * e * (np.power(rn, 12) - np.power(rn, 6))"
   ]
  },
  {
   "cell_type": "code",
   "execution_count": 6,
   "id": "sustainable-landing",
   "metadata": {},
   "outputs": [],
   "source": [
    "def morse(r, d, a, r_e):\n",
    "    \"\"\"Compute the energy using Lennard-Jones potential\n",
    "    \n",
    "    Args:\n",
    "        r: Bond distances\n",
    "        d: Bond energy term (D_e)\n",
    "        a: Bond stretching term (alpha)\n",
    "        r_e: Bond length term (r_e)\n",
    "    Return:\n",
    "        Energies at each distance\n",
    "    \"\"\"\n",
    "    return d * np.power(1 - np.exp(-a * np.subtract(r, r_e)), 2) - d"
   ]
  },
  {
   "cell_type": "code",
   "execution_count": 7,
   "id": "third-cliff",
   "metadata": {},
   "outputs": [],
   "source": [
    "def buckingham(r, A, B, C):\n",
    "    \"\"\"Compute the energy using a Buckingham potential\n",
    "    \n",
    "    Args:\n",
    "        r: Bond distances\n",
    "        A: Repulsion strength\n",
    "        B: Repulsion distance\n",
    "        C: Attraction strength\n",
    "    Return:\n",
    "        Energies at each distance\n",
    "    \"\"\"\n",
    "    return A * np.exp(np.multiply(-B, r)) - np.divide(C, np.power(r, 12))"
   ]
  },
  {
   "cell_type": "markdown",
   "id": "joined-percentage",
   "metadata": {},
   "source": [
    "Fit them using scipy's [`curve_fit` function](https://docs.scipy.org/doc/scipy/reference/generated/scipy.optimize.curve_fit.html)."
   ]
  },
  {
   "cell_type": "code",
   "execution_count": 8,
   "id": "accredited-spectrum",
   "metadata": {},
   "outputs": [],
   "source": [
    "lj_opt, _ = curve_fit(lj, data['R'], data['dE'])"
   ]
  },
  {
   "cell_type": "code",
   "execution_count": 9,
   "id": "careful-chemical",
   "metadata": {},
   "outputs": [],
   "source": [
    "morse_opt, _ = curve_fit(morse, data['R'], data['dE'])"
   ]
  },
  {
   "cell_type": "code",
   "execution_count": 10,
   "id": "unauthorized-flood",
   "metadata": {},
   "outputs": [],
   "source": [
    "buck_opt, _ = curve_fit(buckingham, data['R'], data['dE'])"
   ]
  },
  {
   "cell_type": "markdown",
   "id": "historical-chrome",
   "metadata": {},
   "source": [
    "Plot them"
   ]
  },
  {
   "cell_type": "code",
   "execution_count": 11,
   "id": "dental-begin",
   "metadata": {},
   "outputs": [
    {
     "data": {
      "text/plain": [
       "<matplotlib.legend.Legend at 0x7fa8bc84c850>"
      ]
     },
     "execution_count": 11,
     "metadata": {},
     "output_type": "execute_result"
    },
    {
     "data": {
      "image/png": "[encoded data removed]",
      "text/plain": [
       "<Figure size 432x288 with 1 Axes>"
      ]
     },
     "metadata": {
      "needs_background": "light"
     },
     "output_type": "display_data"
    }
   ],
   "source": [
    "fig, ax = plt.subplots()\n",
    "ax.plot(data['R'], data['dE'], '--o', label='Data')\n",
    "\n",
    "r = np.linspace(0.7, 4, 128)\n",
    "ax.plot(r, lj(r, *lj_opt), label='LJ')\n",
    "ax.plot(r, morse(r, *morse_opt), label='Morse')\n",
    "ax.plot(r, buckingham(r, *buck_opt), label='Buckingham')\n",
    "\n",
    "ax.set_ylim(-0.25, 0.01)\n",
    "\n",
    "ax.legend()"
   ]
  },
  {
   "cell_type": "markdown",
   "id": "stuck-baseline",
   "metadata": {},
   "source": [
    "Morse is clearly the best fit to the data, but let's be precise about it using Bayesian methods"
   ]
  },
  {
   "cell_type": "markdown",
   "id": "integrated-bridge",
   "metadata": {},
   "source": [
    "## Defining the Model Fitting as a Bayesian Problem\n",
    "As shown in the previous notebook, we define our problem by establishing a prior distribution and a \"likelihood\" function.\n",
    "\n",
    "But first, we add an error term to the model that describes our expectation of the model's reliability. Let's choose a Guassian form for that error model, which makes the Morse potential a 4-parameter model:\n",
    "\n",
    "$E(r|D_e,\\alpha,r_e,\\epsilon) = D_e(1 - e^{-\\alpha(r-r_e)})^2 - D_e + N(0, \\epsilon)$\n",
    "\n",
    "where $N(0, \\epsilon)$ is a normal distribution with a mean of 0 and a standard deviation of $\\epsilon$. This will be important when defining our logarithmic function.\n",
    "\n",
    "### Defining a Prior Distribution\n",
    "The prior distribution defines our initial expectation for the values of the parameters. We'll need to establish one for each of the parameters and the error term in the above model, and we'll use the data from the initial fit to build those. \n",
    "\n",
    "Specifically, we'll assume a normal distribution for the model parameters with a mean of those we fit previously and standard deviation of 10% of the mean.\n",
    "\n",
    "We will let the error term be equal to the root mean square error of the model from our previous fitting and assume an expotential distribution.\n",
    "\n",
    "To implement these, we define each distribution using [SciPy](https://docs.scipy.org/doc/scipy/reference/stats.html)."
   ]
  },
  {
   "cell_type": "code",
   "execution_count": 12,
   "id": "chief-edwards",
   "metadata": {},
   "outputs": [],
   "source": [
    "priors = [\n",
    "    stats.norm(p, 0.1 * p) for p in morse_opt\n",
    "]\n",
    "\n",
    "# For the error distribution\n",
    "rmse = np.sqrt(np.power(morse(data['R'], *morse_opt) - data['dE'], 2).sum())\n",
    "priors.append(stats.expon(scale=rmse))"
   ]
  },
  {
   "cell_type": "markdown",
   "id": "removable-casting",
   "metadata": {},
   "source": [
    "These objects give us useful utilities such as being about to plot the distributions"
   ]
  },
  {
   "cell_type": "code",
   "execution_count": 13,
   "id": "foreign-circuit",
   "metadata": {},
   "outputs": [
    {
     "data": {
      "image/png": "[encoded data removed]",
      "text/plain": [
       "<Figure size 468x180 with 4 Axes>"
      ]
     },
     "metadata": {
      "needs_background": "light"
     },
     "output_type": "display_data"
    }
   ],
   "source": [
    "fig, axs = plt.subplots(1, 4, figsize=(6.5, 2.5))\n",
    "\n",
    "# Make the distributiosn for each parameter\n",
    "for ax, prior, m, l in zip(axs, priors, morse_opt, ['$D_e$', '$\\\\alpha$', '$r_e$']):\n",
    "    r = np.linspace(m - 0.4 * m, m + 0.4 * m, 128)\n",
    "    ax.plot(r, prior.pdf(r))\n",
    "    \n",
    "    ax.set_title(f'Prior for {l}')\n",
    "    ax.set_xlabel(l)\n",
    "    \n",
    "# Make the distribution for the model error\n",
    "r = np.linspace(1e-6, 0.04, 128)\n",
    "ax = axs[-1]\n",
    "ax.plot(r, priors[-1].pdf(r))\n",
    "ax.set_title(f'Prior for $\\\\epsilon$')\n",
    "ax.set_xlabel('$\\\\epsilon$')\n",
    "\n",
    "\n",
    "    \n",
    "fig.tight_layout()"
   ]
  },
  {
   "cell_type": "markdown",
   "id": "latin-drill",
   "metadata": {},
   "source": [
    "We can also generate many example model parameters by sampling from these priors"
   ]
  },
  {
   "cell_type": "code",
   "execution_count": 14,
   "id": "varied-volunteer",
   "metadata": {},
   "outputs": [],
   "source": [
    "p0 = np.array(list(zip(p.rvs(size=(32,)) for p in priors)))  # Get 32 shapes from each prior"
   ]
  },
  {
   "cell_type": "code",
   "execution_count": 15,
   "id": "religious-rainbow",
   "metadata": {},
   "outputs": [],
   "source": [
    "p0 = np.squeeze(p0).T  # Shape them into a (32 x 4) array"
   ]
  },
  {
   "cell_type": "code",
   "execution_count": 16,
   "id": "expired-hardware",
   "metadata": {},
   "outputs": [
    {
     "data": {
      "text/plain": [
       "Text(0, 0.5, 'E (Ha)')"
      ]
     },
     "execution_count": 16,
     "metadata": {},
     "output_type": "execute_result"
    },
    {
     "data": {
      "image/png": "[encoded data removed]",
      "text/plain": [
       "<Figure size 432x288 with 1 Axes>"
      ]
     },
     "metadata": {
      "needs_background": "light"
     },
     "output_type": "display_data"
    }
   ],
   "source": [
    "fig, ax = plt.subplots()\n",
    "\n",
    "# Plot the data\n",
    "ax.plot(data['R'], data['dE'], 'k--o')\n",
    "\n",
    "# Plot the data\n",
    "r = np.linspace(0.6, 4, 128)\n",
    "for p in p0:\n",
    "    e = morse(r, *p[:-1])\n",
    "    ax.plot(r, e, 'b-', lw=0.1, alpha=0.9)\n",
    "    \n",
    "    \n",
    "ax.set_ylim(-0.25, 0.01)\n",
    "\n",
    "ax.set_xlabel('R ($\\\\AA$)')\n",
    "ax.set_ylabel('E (Ha)')"
   ]
  },
  {
   "cell_type": "markdown",
   "id": "expanded-official",
   "metadata": {},
   "source": [
    "The above shows a big population of models that *could* explain our data. Our next step is to create a function to mark which ones are more likely. \n",
    "\n",
    "### Defining a Likelihood Function\n",
    "\n",
    "As noted in our previous notebook, the likelihood function requires both assessing the likelihood of observing the data given our model and the parameters:\n",
    "\n",
    "$P(\\theta|D,M)=P(D|\\theta,M)P(\\theta|M)$\n",
    "\n",
    "The function has two parts:\n",
    "1. $P(\\theta|M)$: The probability function of the parameters given our prior expectation\n",
    "1. $P(D|\\theta,M)$: The likelihood of observing the data given our parameters\n",
    "\n",
    "Our goal is to create a probability distribution as a function of $\\theta$ for each. Creating these functions often involves multiplying large and small numbers together, which is problematic due to [how computers perform multiplication](https://en.wikipedia.org/wiki/Floating-point_arithmetic#Accuracy_problems). So, we are going to write functions that compute the logarithm of this probability distribution function - \"log-likelihood\"\n",
    "\n",
    "Computing using the prior is relatively easy. We have the prior distribution defined using Scipy, and we can call the \"PDF\" function to get them. As we have multiple parameters, the likelihood of observing a certain collection of parameters is the [product of the probability functions for each](https://en.wikipedia.org/wiki/Chain_rule_(probability))."
   ]
  },
  {
   "cell_type": "code",
   "execution_count": 17,
   "id": "later-wisdom",
   "metadata": {},
   "outputs": [],
   "source": [
    "def prior_logpdf(params, priors):\n",
    "    \"\"\"Evalulate the logarithm PDF probability distribution function for the prior distributions\n",
    "    \n",
    "    We compute the logarithm of the PDF to avoid issues around multiplying large numbers\n",
    "    \n",
    "    Args:\n",
    "        params: A certain set of parameters\n",
    "        priors: The prior distributiuon for each parameter\n",
    "    \"\"\"\n",
    "    \n",
    "    # Sum the log-liklihood for the parameters in each prior distribution\n",
    "    logpdf = 0\n",
    "    for prior, th in zip(priors, params):\n",
    "        logpdf += prior.logpdf(th)\n",
    "    return logpdf"
   ]
  },
  {
   "cell_type": "markdown",
   "id": "printable-ultimate",
   "metadata": {},
   "source": [
    "Evaluating the $P(D|\\theta,M)$ term uses the error model we define along with the Morse function (that normal distribution term we defined above).\n",
    "\n",
    "Assume we have an observed energy, $E_{obs}$, at distance $r$ and a model for the energy as $E(r) = \\textrm{Morse}(r, D_e, \\alpha, r_e)+ N(0, \\epsilon)$.\n",
    "\n",
    "We can compute the error between the observed energy and that predicted using the model: $\\Delta E = E_obs - E(r) = N(0, \\epsilon)$\n",
    "\n",
    "This relates the error to a distribution, so we can compute the log-likelihood of the value of the error given the error value. We have more than one point, so the probability of seeing all of them is the product of the likelihoods of errors in the model for each points points."
   ]
  },
  {
   "cell_type": "code",
   "execution_count": 18,
   "id": "plain-sailing",
   "metadata": {},
   "outputs": [],
   "source": [
    "def data_loglikelihood(params, model, data):\n",
    "    \"\"\"Compute the log-likelihood of observing our data given the model parameters\n",
    "    \n",
    "    Args:\n",
    "        params: Parameters of the model\n",
    "    Return:\n",
    "        Log-likelihood\n",
    "    \"\"\"\n",
    "    \n",
    "    # Compute the values for the Morse function\n",
    "    e_pred = model(data['R'], *params[:-1])  # The first N-1 parameters are of the morse model\n",
    "    \n",
    "    # Compute the error for each point\n",
    "    e_error = data['dE'] - e_pred\n",
    "    \n",
    "    # Sum the log-likelihoods for observing each error\n",
    "    #  based on the width of the error distribution (the last parameter)\n",
    "    return stats.norm(0, scale=params[-1]).logpdf(e_error).sum()"
   ]
  },
  {
   "cell_type": "markdown",
   "id": "bibliographic-geneva",
   "metadata": {},
   "source": [
    "### Creating a tool to compute the posterior likelihdood.\n",
    "Together, the functions above define the ability to generate the posterior distribution for the parameters.\n",
    "With these in hand, we make a single tool that will compute the log-likelihdoof for any set of parameters using different data sources, models, or prior distributions."
   ]
  },
  {
   "cell_type": "code",
   "execution_count": 19,
   "id": "disciplinary-armenia",
   "metadata": {},
   "outputs": [],
   "source": [
    "class PosteriorPDF(object):\n",
    "    def __init__(self, model, priors, data):\n",
    "        \"\"\"Args:\n",
    "            model: Model used to compute energy\n",
    "            priors: Prior distribution of the parameters\n",
    "            data: Data to use for fitting\n",
    "        \"\"\"\n",
    "        self.model = model\n",
    "        self.priors = priors\n",
    "        self.data = data\n",
    "        \n",
    "    def __call__(self, x):\n",
    "        return prior_logpdf(x, self.priors) + data_loglikelihood(x, self.model, self.data)\n",
    "lnpdf = PosteriorPDF(morse, priors, data)"
   ]
  },
  {
   "cell_type": "markdown",
   "id": "interracial-disposal",
   "metadata": {},
   "source": [
    "We can use this to compute the ratio in posterior probabilities between different sets of parameters"
   ]
  },
  {
   "cell_type": "code",
   "execution_count": 20,
   "id": "civil-morning",
   "metadata": {},
   "outputs": [
    {
     "name": "stdout",
     "output_type": "stream",
     "text": [
      "Ratio between likelihoods of the first two sampled points: inf\n"
     ]
    },
    {
     "name": "stderr",
     "output_type": "stream",
     "text": [
      "/home/wardlt/miniconda3/envs/bayes/lib/python3.7/site-packages/ipykernel_launcher.py:2: RuntimeWarning: overflow encountered in exp\n",
      "  \n"
     ]
    }
   ],
   "source": [
    "lnpdf_diff = lnpdf(p0[0, :]) - lnpdf(p0[1, :])\n",
    "print(f'Ratio between likelihoods of the first two sampled points: {np.exp(lnpdf_diff):.2e}')"
   ]
  },
  {
   "cell_type": "markdown",
   "id": "equipped-eleven",
   "metadata": {},
   "source": [
    "We now are ready to MCMC sampling!\n",
    "\n",
    "## Sampling from the Posterior\n",
    "As discussed in our previous notebook, Metropolis-Hastings (MH) sampling is effective but inefficient. The small jumps in parameters lead to correlation between guesses, which slows down the rate at which parameter space is explored (you get stuck around your current guess). The [`kombine` program](https://pages.uoregon.edu/bfarr/kombine/index.html) uses an [ensemble algorithm](https://projecteuclid.org/euclid.camcos/1513731992) that avoids these issues for reasons out-of-scope for this class.\n",
    "\n",
    "Here, we describe how to use it.\n",
    "\n",
    "### Step 1: Seed the sampling algorithm\n",
    "We will generate samples from our prior distribution to produce an initial set of points to begin our sampling.\n",
    "We choose 500 as an experiment."
   ]
  },
  {
   "cell_type": "code",
   "execution_count": 21,
   "id": "dental-intake",
   "metadata": {},
   "outputs": [
    {
     "name": "stdout",
     "output_type": "stream",
     "text": [
      "Created a starting array of shape: (128, 4)\n"
     ]
    }
   ],
   "source": [
    "n_walkers = 128  # Number of samples to start with\n",
    "p0 = np.vstack([  # Combines samples from each prior to form one array\n",
    "    p.rvs(size=(n_walkers,)) for p in priors  # Generate random samples from each prior\n",
    "]).T  # Flips it from <parameters>x<walkers> to <walkers>x<parameters>, as expected by kombine\n",
    "print(f'Created a starting array of shape: {p0.shape}')"
   ]
  },
  {
   "cell_type": "markdown",
   "id": "single-packet",
   "metadata": {},
   "source": [
    "### Step 2: Make the Sampler\n",
    "The [`Sampler` class](https://pages.uoregon.edu/bfarr/kombine/kombine.html#kombine.sampler.Sampler) is the tool in combine that generates samples from the posterior\n",
    "distribution. We create it by telling how many \"walkers\" to use (we perform sampling from many different random starting points), the number of parameters in the model, and a function that gives their likelihood over time"
   ]
  },
  {
   "cell_type": "code",
   "execution_count": 22,
   "id": "arabic-lambda",
   "metadata": {},
   "outputs": [],
   "source": [
    "sampler = kombine.Sampler(n_walkers, 4, lnpdf) \n",
    "# Recall that lnpdf is the log-likelihood given the Morse model and our full dataset we defined earlier"
   ]
  },
  {
   "cell_type": "markdown",
   "id": "greek-translator",
   "metadata": {},
   "source": [
    "### Step 3: Burn In\n",
    "The initial points we provided is not from the posterior distribution. We need to re-run the make-new-guesses-then-choose-whether-to-accept procedure enough times to be able to transform the initial population of points that looks like posterior distribution.\n",
    "\n",
    "Kombine does this by running the sampling until the probability of accepting a new move remains constant over time."
   ]
  },
  {
   "cell_type": "code",
   "execution_count": 23,
   "id": "armed-surge",
   "metadata": {},
   "outputs": [
    {
     "name": "stdout",
     "output_type": "stream",
     "text": [
      "CPU times: user 2.23 s, sys: 229 ms, total: 2.46 s\n",
      "Wall time: 1min 33s\n"
     ]
    }
   ],
   "source": [
    "%%time\n",
    "output = sampler.burnin(p0)"
   ]
  },
  {
   "cell_type": "code",
   "execution_count": 24,
   "id": "centered-processing",
   "metadata": {},
   "outputs": [
    {
     "name": "stdout",
     "output_type": "stream",
     "text": [
      "Burn-in required 147 steps\n"
     ]
    }
   ],
   "source": [
    "burn_in_length = len(sampler.acceptance_fraction)\n",
    "print(f'Burn-in required {burn_in_length} steps')"
   ]
  },
  {
   "cell_type": "code",
   "execution_count": 25,
   "id": "naked-scotland",
   "metadata": {},
   "outputs": [
    {
     "data": {
      "text/plain": [
       "Text(0, 0.5, 'P(Accept)')"
      ]
     },
     "execution_count": 25,
     "metadata": {},
     "output_type": "execute_result"
    },
    {
     "data": {
      "image/png": "[encoded data removed]",
      "text/plain": [
       "<Figure size 432x288 with 1 Axes>"
      ]
     },
     "metadata": {
      "needs_background": "light"
     },
     "output_type": "display_data"
    }
   ],
   "source": [
    "fig, ax = plt.subplots()\n",
    "\n",
    "ax.plot(sampler.acceptance_fraction)\n",
    "\n",
    "ax.set_xlabel('Step')\n",
    "ax.set_ylabel('P(Accept)')"
   ]
  },
  {
   "cell_type": "markdown",
   "id": "chubby-whale",
   "metadata": {},
   "source": [
    "You can look at the distribution for the $D_e$ parameter to see how it changes over time.\n",
    "\n",
    "We do that by looking at the \"chain,\" which records the state of the sampling at each step"
   ]
  },
  {
   "cell_type": "code",
   "execution_count": 26,
   "id": "intended-developer",
   "metadata": {},
   "outputs": [
    {
     "name": "stdout",
     "output_type": "stream",
     "text": [
      "The chain is an array of shape: (147, 128, 4). N Steps x N Walkers x N Parameters\n"
     ]
    }
   ],
   "source": [
    "print(f'The chain is an array of shape: {sampler.chain.shape}. N Steps x N Walkers x N Parameters')"
   ]
  },
  {
   "cell_type": "code",
   "execution_count": 27,
   "id": "occasional-quality",
   "metadata": {},
   "outputs": [
    {
     "data": {
      "text/plain": [
       "Text(0, 0.5, '$P(D_e)$')"
      ]
     },
     "execution_count": 27,
     "metadata": {},
     "output_type": "execute_result"
    },
    {
     "data": {
      "image/png": "[encoded data removed]",
      "text/plain": [
       "<Figure size 468x180 with 3 Axes>"
      ]
     },
     "metadata": {
      "needs_background": "light"
     },
     "output_type": "display_data"
    }
   ],
   "source": [
    "fig, axs = plt.subplots(1, 3, figsize=(6.5, 2.5), sharey=True)\n",
    "\n",
    "bins = np.linspace(0.175, 0.225, 128)\n",
    "for i, ax in zip([0, burn_in_length // 4, burn_in_length - 1], axs):\n",
    "    ax.hist(sampler.chain[i, :, 0], bins=bins)\n",
    "    ax.set_xlabel('$D_e$')\n",
    "    ax.set_title(f'Step {i}')\n",
    "    \n",
    "axs[0].set_ylabel('$P(D_e)$')"
   ]
  },
  {
   "cell_type": "markdown",
   "id": "discrete-tobacco",
   "metadata": {},
   "source": [
    "Note how the distribution evolves significantly over time\n",
    "\n",
    "## Step 4: Sampling from the Posterior\n",
    "\n",
    "Now that our sampler is ready, we can generate samples from the posterior and use that to evaluate properties of our model."
   ]
  },
  {
   "cell_type": "code",
   "execution_count": 28,
   "id": "chief-nursing",
   "metadata": {},
   "outputs": [
    {
     "name": "stdout",
     "output_type": "stream",
     "text": [
      "CPU times: user 612 ms, sys: 28.3 ms, total: 640 ms\n",
      "Wall time: 36.3 s\n"
     ]
    }
   ],
   "source": [
    "%%time\n",
    "# Get more samples by running with the now-converged sampler\n",
    "outputs = sampler.run_mcmc(64)"
   ]
  },
  {
   "cell_type": "code",
   "execution_count": 29,
   "id": "distinguished-fourth",
   "metadata": {},
   "outputs": [
    {
     "name": "stdout",
     "output_type": "stream",
     "text": [
      "Retrieved 4576 samples from the posterior\n"
     ]
    }
   ],
   "source": [
    "samples = sampler.get_samples()  # Gets only the samples after burn-in\n",
    "print(f'Retrieved {len(samples)} samples from the posterior')"
   ]
  },
  {
   "cell_type": "markdown",
   "id": "sought-creation",
   "metadata": {},
   "source": [
    "Such as the joint probability distribution between two parameters"
   ]
  },
  {
   "cell_type": "code",
   "execution_count": 30,
   "id": "periodic-toolbox",
   "metadata": {},
   "outputs": [
    {
     "data": {
      "text/plain": [
       "Text(0, 0.5, '$\\\\alpha$')"
      ]
     },
     "execution_count": 30,
     "metadata": {},
     "output_type": "execute_result"
    },
    {
     "data": {
      "image/png": "[encoded data removed]",
      "text/plain": [
       "<Figure size 252x252 with 1 Axes>"
      ]
     },
     "metadata": {
      "needs_background": "light"
     },
     "output_type": "display_data"
    }
   ],
   "source": [
    "fig, ax = plt.subplots(figsize=(3.5, 3.5))\n",
    "\n",
    "ax.hist2d(samples[:, 0], samples[:, 1], bins=32, cmap='Blues');\n",
    "\n",
    "ax.set_xlabel('$D_e$')\n",
    "ax.set_ylabel('$\\\\alpha$')"
   ]
  },
  {
   "cell_type": "markdown",
   "id": "divided-steel",
   "metadata": {},
   "source": [
    "Or confidence intervalues for certain predictions"
   ]
  },
  {
   "cell_type": "code",
   "execution_count": 31,
   "id": "consecutive-source",
   "metadata": {},
   "outputs": [],
   "source": [
    "# Predict the energy for each sampled parameter\n",
    "r = np.linspace(0.75, 1.25, 128)\n",
    "eng_predictions = [morse(r, *s[:-1]) for s in samples]"
   ]
  },
  {
   "cell_type": "code",
   "execution_count": 32,
   "id": "double-irish",
   "metadata": {},
   "outputs": [
    {
     "data": {
      "text/plain": [
       "Text(0, 0.5, 'E')"
      ]
     },
     "execution_count": 32,
     "metadata": {},
     "output_type": "execute_result"
    },
    {
     "data": {
      "image/png": "[encoded data removed]",
      "text/plain": [
       "<Figure size 432x288 with 1 Axes>"
      ]
     },
     "metadata": {
      "needs_background": "light"
     },
     "output_type": "display_data"
    }
   ],
   "source": [
    "fig, ax = plt.subplots()\n",
    "\n",
    "# Plot between the 2.5th and 97.5th percentiles\n",
    "ax.fill_between(\n",
    "    r, np.percentile(eng_predictions, 2.5, axis=0), np.percentile(eng_predictions, 97.5, axis=0),\n",
    "    alpha=0.5\n",
    ")\n",
    "\n",
    "# Plot the mean\n",
    "ax.plot(r, np.mean(eng_predictions, axis=0))\n",
    "ax.set_xlim(0.75, 1.25)\n",
    "\n",
    "ax.set_xlabel('r')\n",
    "ax.set_ylabel('E')"
   ]
  },
  {
   "cell_type": "markdown",
   "id": "after-aaron",
   "metadata": {},
   "source": [
    "## Comparing Models\n",
    "Another key benefit of Bayesian modeling is we can get statistically-robust measures of which models best describe data using the so-called \"marginal likelihood\":\n",
    "\n",
    "$P(D|M) = \\int_\\theta P(D|\\theta,M)P(\\theta|M)d\\theta$\n",
    "\n",
    "As discussed in the lecture, we can compute this integral by averaging the value of $P(D|\\theta, M)$ over many samples of $\\theta$ from our posterior distribution"
   ]
  },
  {
   "cell_type": "code",
   "execution_count": 33,
   "id": "hairy-space",
   "metadata": {},
   "outputs": [
    {
     "name": "stdout",
     "output_type": "stream",
     "text": [
      "CPU times: user 8.48 s, sys: 36.6 ms, total: 8.52 s\n",
      "Wall time: 8.47 s\n"
     ]
    }
   ],
   "source": [
    "%%time\n",
    "# Using the data_loglikelihood function we defined earlier\n",
    "log_evidence = [\n",
    "    data_loglikelihood(x, morse, data) for x in samples\n",
    "]"
   ]
  },
  {
   "cell_type": "markdown",
   "id": "similar-explorer",
   "metadata": {},
   "source": [
    "These are log-likehoods, so we have to use numpy's [logaddexp](https://numpy.org/doc/stable/reference/generated/numpy.logaddexp.html) to avoid numerical problems."
   ]
  },
  {
   "cell_type": "code",
   "execution_count": 34,
   "id": "southwest-titanium",
   "metadata": {},
   "outputs": [
    {
     "name": "stdout",
     "output_type": "stream",
     "text": [
      "Log model evidence for Morse is: 51.87\n"
     ]
    }
   ],
   "source": [
    "evidence = np.logaddexp.reduce(log_evidence) - np.log(len(samples)) # Subtracting logarithms is equivalent to dividing\n",
    "print(f'Log model evidence for Morse is: {evidence:.2f}')"
   ]
  },
  {
   "cell_type": "markdown",
   "id": "neither-ottawa",
   "metadata": {},
   "source": [
    "This number is not particularly meaningful on its own, but we can compare that of another model to see which has greater evidence"
   ]
  },
  {
   "cell_type": "markdown",
   "id": "progressive-amsterdam",
   "metadata": {},
   "source": [
    "### Repeating with the Buckingham Model\n",
    "We are going to go through the steps of making priors, defining likelihood functions and sampling the posterior with Kombine.\n",
    "\n",
    "Step 1: Make the prior distributions"
   ]
  },
  {
   "cell_type": "code",
   "execution_count": 35,
   "id": "vulnerable-motorcycle",
   "metadata": {},
   "outputs": [],
   "source": [
    "priors_buck = priors = [\n",
    "    stats.norm(p, 0.1 * abs(p)) for p in buck_opt\n",
    "]\n",
    "\n",
    "# For the error distribution\n",
    "rmse = np.sqrt(np.power(buckingham(data['R'], *buck_opt) - data['dE'], 2).sum())\n",
    "priors_buck.append(stats.expon(scale=rmse))"
   ]
  },
  {
   "cell_type": "markdown",
   "id": "overhead-charger",
   "metadata": {},
   "source": [
    "Define the likelihood functions"
   ]
  },
  {
   "cell_type": "code",
   "execution_count": 36,
   "id": "driving-powell",
   "metadata": {},
   "outputs": [],
   "source": [
    "lnpdf_buck = PosteriorPDF(buckingham, priors_buck, data)"
   ]
  },
  {
   "cell_type": "markdown",
   "id": "ranging-montgomery",
   "metadata": {},
   "source": [
    "Define the initial population"
   ]
  },
  {
   "cell_type": "code",
   "execution_count": 37,
   "id": "hawaiian-repeat",
   "metadata": {},
   "outputs": [
    {
     "name": "stdout",
     "output_type": "stream",
     "text": [
      "Created a starting array of shape: (128, 4)\n"
     ]
    }
   ],
   "source": [
    "p0_buck = np.vstack([p.rvs(size=(n_walkers,)) for p in priors]).T\n",
    "print(f'Created a starting array of shape: {p0_buck.shape}')"
   ]
  },
  {
   "cell_type": "markdown",
   "id": "rubber-bumper",
   "metadata": {},
   "source": [
    "Burn in with Kombine sampler"
   ]
  },
  {
   "cell_type": "code",
   "execution_count": 38,
   "id": "single-stomach",
   "metadata": {},
   "outputs": [
    {
     "name": "stdout",
     "output_type": "stream",
     "text": [
      "CPU times: user 1.8 s, sys: 194 ms, total: 1.99 s\n",
      "Wall time: 50.5 s\n"
     ]
    }
   ],
   "source": [
    "%%time\n",
    "sampler_buck = kombine.Sampler(n_walkers, 4, lnpdf_buck) \n",
    "output = sampler_buck.burnin(p0_buck)"
   ]
  },
  {
   "cell_type": "code",
   "execution_count": 39,
   "id": "turkish-luxury",
   "metadata": {},
   "outputs": [
    {
     "data": {
      "text/plain": [
       "Text(0, 0.5, 'P(Accept)')"
      ]
     },
     "execution_count": 39,
     "metadata": {},
     "output_type": "execute_result"
    },
    {
     "data": {
      "image/png": "[encoded data removed]",
      "text/plain": [
       "<Figure size 432x288 with 1 Axes>"
      ]
     },
     "metadata": {
      "needs_background": "light"
     },
     "output_type": "display_data"
    }
   ],
   "source": [
    "fig, ax = plt.subplots()\n",
    "\n",
    "ax.plot(sampler_buck.acceptance_fraction)\n",
    "\n",
    "ax.set_xlabel('Step')\n",
    "ax.set_ylabel('P(Accept)')"
   ]
  },
  {
   "cell_type": "markdown",
   "id": "collectible-equilibrium",
   "metadata": {},
   "source": [
    "Run MCMC to get more samples"
   ]
  },
  {
   "cell_type": "code",
   "execution_count": 40,
   "id": "nuclear-investigation",
   "metadata": {},
   "outputs": [
    {
     "name": "stdout",
     "output_type": "stream",
     "text": [
      "CPU times: user 1.21 s, sys: 117 ms, total: 1.33 s\n",
      "Wall time: 1min 13s\n"
     ]
    }
   ],
   "source": [
    "%%time\n",
    "output = sampler_buck.run_mcmc(128)"
   ]
  },
  {
   "cell_type": "markdown",
   "id": "bigger-wilson",
   "metadata": {},
   "source": [
    "Computing the evidence interval"
   ]
  },
  {
   "cell_type": "code",
   "execution_count": 41,
   "id": "naked-composer",
   "metadata": {},
   "outputs": [
    {
     "name": "stdout",
     "output_type": "stream",
     "text": [
      "Log model evidence for Buckingham is: 34.09\n",
      "CPU times: user 13.9 s, sys: 95.8 ms, total: 14 s\n",
      "Wall time: 14.1 s\n"
     ]
    }
   ],
   "source": [
    "%%time\n",
    "samples_buck = sampler_buck.get_samples()\n",
    "# Using the data_loglikelihood function we defined earlier\n",
    "log_evidence_buck = [\n",
    "    data_loglikelihood(x, buckingham, data) for x in samples_buck\n",
    "]\n",
    "evidence_buck = np.logaddexp.reduce(log_evidence_buck) - np.log(len(samples_buck)) # Subtracting logarithms is equivalent to dividing\n",
    "print(f'Log model evidence for Buckingham is: {evidence_buck:.2f}')"
   ]
  },
  {
   "cell_type": "markdown",
   "id": "muslim-relevance",
   "metadata": {},
   "source": [
    "Taking the difference between the evidences gives you a [\"Bayes Factor.\"](https://en.wikipedia.org/wiki/Bayes_factor)"
   ]
  },
  {
   "cell_type": "code",
   "execution_count": 42,
   "id": "dress-inspiration",
   "metadata": {},
   "outputs": [
    {
     "name": "stdout",
     "output_type": "stream",
     "text": [
      "The Bayes Factor for Morse potential compared to Buckingham is 5.28e+07\n"
     ]
    }
   ],
   "source": [
    "bayes_factor = np.exp(evidence - evidence_buck)\n",
    "print(f'The Bayes Factor for Morse potential compared to Buckingham is {bayes_factor:.2e}')"
   ]
  },
  {
   "cell_type": "markdown",
   "id": "cosmetic-postage",
   "metadata": {},
   "source": [
    "Larger values mean greater confidence and a Bayes factor of 100 is labeled as \"decisive.\" So, as we expected earlier, the Morse model is clearly better.\n",
    "\n",
    "Things to try: \n",
    "- Sample fewer points of data in the second cell. How does that change your Bayes factor? \n",
    "- Increase the number of walkers. How does that affect computation time?"
   ]
  },
  {
   "cell_type": "code",
   "execution_count": null,
   "id": "satisfactory-legend",
   "metadata": {},
   "outputs": [],
   "source": []
  }
 ],
 "metadata": {
  "kernelspec": {
   "display_name": "Python 3",
   "language": "python",
   "name": "python3"
  },
  "language_info": {
   "codemirror_mode": {
    "name": "ipython",
    "version": 3
   },
   "file_extension": ".py",
   "mimetype": "text/x-python",
   "name": "python",
   "nbconvert_exporter": "python",
   "pygments_lexer": "ipython3",
   "version": "3.7.9"
  }
 },
 "nbformat": 4,
 "nbformat_minor": 5
}
