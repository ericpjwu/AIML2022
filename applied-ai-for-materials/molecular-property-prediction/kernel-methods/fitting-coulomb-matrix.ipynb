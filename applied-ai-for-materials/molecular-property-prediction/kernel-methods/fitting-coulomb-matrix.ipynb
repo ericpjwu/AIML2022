{
 "cells": [
  {
   "cell_type": "markdown",
   "id": "sensitive-operation",
   "metadata": {},
   "source": [
    "# Fitting a Kernel Ridge Regression Model with a Coulomb Matrix\n",
    "This notebook show how to use [DScribe](https://singroup.github.io/dscribe/latest/index.html) and [Kernel Ridge Regression](https://scikit-learn.org/stable/modules/kernel_ridge.html#kernel-ridge) to fit a model using the [Coulomb Matrix](https://journals.aps.org/prl/abstract/10.1103/PhysRevLett.108.058301) method."
   ]
  },
  {
   "cell_type": "code",
   "execution_count": 1,
   "id": "weighted-heaven",
   "metadata": {
    "execution": {
     "iopub.execute_input": "2021-01-25T14:31:30.023674Z",
     "iopub.status.busy": "2021-01-25T14:31:30.022962Z",
     "iopub.status.idle": "2021-01-25T14:31:30.764820Z",
     "shell.execute_reply": "2021-01-25T14:31:30.765191Z"
    }
   },
   "outputs": [],
   "source": [
    "%matplotlib inline\n",
    "from matplotlib import pyplot as plt\n",
    "from sklearn.kernel_ridge import KernelRidge\n",
    "from sklearn.pipeline import Pipeline\n",
    "from sklearn.preprocessing import StandardScaler\n",
    "from sklearn.model_selection import train_test_split, GridSearchCV\n",
    "from sklearn.metrics import mean_absolute_error\n",
    "from dscribe.descriptors import CoulombMatrix\n",
    "from ase.io.xyz import read_xyz\n",
    "from io import StringIO\n",
    "import pandas as pd\n",
    "import numpy as np"
   ]
  },
  {
   "cell_type": "markdown",
   "id": "appropriate-measure",
   "metadata": {},
   "source": [
    "## Load in Sample Data\n",
    "The same subsample of QM9 we have used in previous exercises. We will read it in and convert it into a format useful to DScribe."
   ]
  },
  {
   "cell_type": "code",
   "execution_count": 2,
   "id": "unlimited-greensboro",
   "metadata": {
    "execution": {
     "iopub.execute_input": "2021-01-25T14:31:30.769595Z",
     "iopub.status.busy": "2021-01-25T14:31:30.769031Z",
     "iopub.status.idle": "2021-01-25T14:31:31.852627Z",
     "shell.execute_reply": "2021-01-25T14:31:31.852150Z"
    }
   },
   "outputs": [],
   "source": [
    "data = pd.read_json('../datasets/qm9.json.gz', lines=True)"
   ]
  },
  {
   "cell_type": "markdown",
   "id": "billion-spoke",
   "metadata": {},
   "source": [
    "DScribe is built to interface with the [Atomic Simulation Environment (ase)](https://wiki.fysik.dtu.dk/ase/) - a library that supports many tools for atom-scale modeling. So, we are going to convert the data into [ASE \"Atoms\" objects](https://wiki.fysik.dtu.dk/ase/ase/atoms.html).\n",
    "\n",
    "We need the 3D coordinates of each molecule, which are stored in the XYZ format."
   ]
  },
  {
   "cell_type": "code",
   "execution_count": 3,
   "id": "promotional-newman",
   "metadata": {
    "execution": {
     "iopub.execute_input": "2021-01-25T14:31:31.856843Z",
     "iopub.status.busy": "2021-01-25T14:31:31.856363Z",
     "iopub.status.idle": "2021-01-25T14:31:31.859354Z",
     "shell.execute_reply": "2021-01-25T14:31:31.858849Z"
    }
   },
   "outputs": [
    {
     "name": "stdout",
     "output_type": "stream",
     "text": [
      "22\n",
      "Properties=species:S:1:pos:R:3 unique_id=ef4cdf48825f07674198527d13db3dc3 pbc=\"F F F\"\n",
      "C      -0.17614419       1.39345250      -0.43811956 \n",
      "C      -0.10132148      -0.08319296      -0.20355091 \n",
      "C      -1.09461082      -0.93598396       0.08985599 \n",
      "C      -0.56360192      -2.33047133       0.37869574 \n",
      "C       0.88516072      -2.28325019      -0.15816488 \n",
      "C       1.24464651      -0.78046234      -0.19160858 \n",
      "C      -2.54443201      -0.65136129       0.24608243 \n",
      "C      -3.32420388       0.12403331      -0.75238071 \n",
      "N      -3.52628769      -1.33123661      -0.63493168 \n",
      "H       0.46084631       1.92711776       0.27957779 \n",
      "H       0.20027334       1.65730407      -1.43517277 \n",
      "H      -1.19160754       1.78019296      -0.33879310 \n",
      "H      -0.59344147      -2.52969714       1.46039334 \n",
      "H      -1.16327028      -3.12038045      -0.08786904 \n",
      "H       1.58237317      -2.87632366       0.43897106 \n",
      "H       0.90888906      -2.68629980      -1.17590800 \n",
      "H       1.86609861      -0.51106442      -1.05464442 \n",
      "H       1.81577447      -0.47440367       0.69797037 \n",
      "H      -2.89472207      -0.62231544       1.27866128 \n",
      "H      -4.16784868       0.72958652      -0.43222679 \n",
      "H      -2.80205145       0.50161931      -1.62631976 \n",
      "H      -3.01998637      -1.79045202      -1.38999486 \n",
      "\n"
     ]
    }
   ],
   "source": [
    "print(data['xyz'].iloc[0])"
   ]
  },
  {
   "cell_type": "markdown",
   "id": "spectacular-wallpaper",
   "metadata": {},
   "source": [
    "This format can be read by ase, but we need some tricks to make it work. The [`read_xyz` function](https://wiki.fysik.dtu.dk/ase/_modules/ase/io/xyz.html#read_xyz) takes a file as input and returns a generator of Atoms object. We turn our string-format into a file-like object using [`StringIO`](https://docs.python.org/3/library/io.html#io.StringIO) and call `next` to remove the data from the generator."
   ]
  },
  {
   "cell_type": "code",
   "execution_count": 4,
   "id": "commercial-custody",
   "metadata": {
    "execution": {
     "iopub.execute_input": "2021-01-25T14:31:31.911279Z",
     "iopub.status.busy": "2021-01-25T14:31:31.910839Z",
     "iopub.status.idle": "2021-01-25T14:31:38.690888Z",
     "shell.execute_reply": "2021-01-25T14:31:38.690221Z"
    }
   },
   "outputs": [],
   "source": [
    "data['atoms'] = data['xyz'].map(lambda x: next(read_xyz(StringIO(x))))  # Lambda makes a temporary function"
   ]
  },
  {
   "cell_type": "markdown",
   "id": "ready-constitutional",
   "metadata": {},
   "source": [
    "## Compute the Coulomb Matrix\n",
    "DScribe has a few options with the Coulomb Matrix, allowing you to use it different ways.\n",
    "\n",
    "A first option is to return the full Coulomb matrix."
   ]
  },
  {
   "cell_type": "code",
   "execution_count": 5,
   "id": "special-caution",
   "metadata": {
    "execution": {
     "iopub.execute_input": "2021-01-25T14:31:38.695592Z",
     "iopub.status.busy": "2021-01-25T14:31:38.695104Z",
     "iopub.status.idle": "2021-01-25T14:31:38.702299Z",
     "shell.execute_reply": "2021-01-25T14:31:38.701745Z"
    }
   },
   "outputs": [
    {
     "data": {
      "text/plain": [
       "array([[36.8581052 , 24.04759344, 14.06785315, ...,  0.        ,\n",
       "         0.        ,  0.        ],\n",
       "       [24.04759344, 36.8581052 , 26.83308547, ...,  0.        ,\n",
       "         0.        ,  0.        ],\n",
       "       [14.06785315, 26.83308547, 36.8581052 , ...,  0.        ,\n",
       "         0.        ,  0.        ],\n",
       "       ...,\n",
       "       [ 0.        ,  0.        ,  0.        , ...,  0.        ,\n",
       "         0.        ,  0.        ],\n",
       "       [ 0.        ,  0.        ,  0.        , ...,  0.        ,\n",
       "         0.        ,  0.        ],\n",
       "       [ 0.        ,  0.        ,  0.        , ...,  0.        ,\n",
       "         0.        ,  0.        ]])"
      ]
     },
     "execution_count": 1,
     "metadata": {},
     "output_type": "execute_result"
    }
   ],
   "source": [
    "cm = CoulombMatrix(40, permutation='none', flatten=False)  # 40 defines the size of the array\n",
    "cm.create(data['atoms'].iloc[0])"
   ]
  },
  {
   "cell_type": "markdown",
   "id": "fundamental-possible",
   "metadata": {},
   "source": [
    "You can also return an array sorted by the norm of the rows, which defines a unique order to the atoms. This fits the \"unique\" criterion of representations as the `create` function will return the same matrix regardless of how you number the atoms."
   ]
  },
  {
   "cell_type": "code",
   "execution_count": 6,
   "id": "registered-price",
   "metadata": {
    "execution": {
     "iopub.execute_input": "2021-01-25T14:31:38.707357Z",
     "iopub.status.busy": "2021-01-25T14:31:38.706000Z",
     "iopub.status.idle": "2021-01-25T14:31:38.711780Z",
     "shell.execute_reply": "2021-01-25T14:31:38.711370Z"
    }
   },
   "outputs": [
    {
     "data": {
      "text/plain": [
       "array([[53.3587074 , 16.35517711, 11.44193494, ...,  0.        ,\n",
       "         0.        ,  0.        ],\n",
       "       [16.35517711, 36.8581052 , 26.83308547, ...,  0.        ,\n",
       "         0.        ,  0.        ],\n",
       "       [11.44193494, 26.83308547, 36.8581052 , ...,  0.        ,\n",
       "         0.        ,  0.        ],\n",
       "       ...,\n",
       "       [ 0.        ,  0.        ,  0.        , ...,  0.        ,\n",
       "         0.        ,  0.        ],\n",
       "       [ 0.        ,  0.        ,  0.        , ...,  0.        ,\n",
       "         0.        ,  0.        ],\n",
       "       [ 0.        ,  0.        ,  0.        , ...,  0.        ,\n",
       "         0.        ,  0.        ]])"
      ]
     },
     "execution_count": 1,
     "metadata": {},
     "output_type": "execute_result"
    }
   ],
   "source": [
    "cm = CoulombMatrix(40, permutation='sorted_l2', flatten=False)\n",
    "cm.create(data['atoms'].iloc[0])"
   ]
  },
  {
   "cell_type": "markdown",
   "id": "martial-foundation",
   "metadata": {},
   "source": [
    "We want the eigenvalues of the matrix, which are accessible by flattening it."
   ]
  },
  {
   "cell_type": "code",
   "execution_count": 7,
   "id": "mechanical-chuck",
   "metadata": {
    "execution": {
     "iopub.execute_input": "2021-01-25T14:31:38.715878Z",
     "iopub.status.busy": "2021-01-25T14:31:38.715420Z",
     "iopub.status.idle": "2021-01-25T14:31:38.797749Z",
     "shell.execute_reply": "2021-01-25T14:31:38.796936Z"
    }
   },
   "outputs": [
    {
     "data": {
      "text/plain": [
       "array([[ 1.68134501e+02,  6.48085518e+01,  3.83920805e+01,\n",
       "         2.79904445e+01,  1.95189692e+01,  1.66540903e+01,\n",
       "         1.17890333e+01,  8.83261885e+00,  3.40122666e+00,\n",
       "        -9.34620750e-01, -8.92017655e-01, -7.82414910e-01,\n",
       "        -6.58229431e-01, -4.90163018e-01, -3.67224705e-01,\n",
       "        -2.75108095e-01, -1.65192791e-01, -1.21944806e-01,\n",
       "        -8.85454287e-02,  7.10197837e-02, -6.07606172e-02,\n",
       "        -3.27645940e-02,  0.00000000e+00,  0.00000000e+00,\n",
       "         0.00000000e+00,  0.00000000e+00,  0.00000000e+00,\n",
       "         0.00000000e+00,  0.00000000e+00,  0.00000000e+00,\n",
       "         0.00000000e+00,  0.00000000e+00,  0.00000000e+00,\n",
       "         0.00000000e+00,  0.00000000e+00,  0.00000000e+00,\n",
       "         0.00000000e+00,  0.00000000e+00,  0.00000000e+00,\n",
       "         0.00000000e+00]])"
      ]
     },
     "execution_count": 1,
     "metadata": {},
     "output_type": "execute_result"
    }
   ],
   "source": [
    "cm = CoulombMatrix(40, permutation='eigenspectrum')\n",
    "cm.create(data['atoms'].iloc[0])"
   ]
  },
  {
   "cell_type": "markdown",
   "id": "statewide-administrator",
   "metadata": {},
   "source": [
    "We now show a simple way to compute the Coulomb matrix for all molecules in our training set"
   ]
  },
  {
   "cell_type": "code",
   "execution_count": 8,
   "id": "urban-somerset",
   "metadata": {
    "execution": {
     "iopub.execute_input": "2021-01-25T14:31:38.806944Z",
     "iopub.status.busy": "2021-01-25T14:31:38.803091Z",
     "iopub.status.idle": "2021-01-25T14:31:55.143597Z",
     "shell.execute_reply": "2021-01-25T14:31:55.144059Z"
    }
   },
   "outputs": [
    {
     "name": "stdout",
     "output_type": "stream",
     "text": [
      "CPU times: user 7.91 s, sys: 176 ms, total: 8.09 s\n",
      "Wall time: 16.3 s\n"
     ]
    }
   ],
   "source": [
    "%%time\n",
    "cms = cm.create(data['atoms'], n_jobs=2)  # Runs in parallel with 2 workers"
   ]
  },
  {
   "cell_type": "code",
   "execution_count": 9,
   "id": "advanced-namibia",
   "metadata": {
    "execution": {
     "iopub.execute_input": "2021-01-25T14:31:55.216511Z",
     "iopub.status.busy": "2021-01-25T14:31:55.186884Z",
     "iopub.status.idle": "2021-01-25T14:31:55.219430Z",
     "shell.execute_reply": "2021-01-25T14:31:55.218818Z"
    }
   },
   "outputs": [],
   "source": [
    "data['cm'] = cms.tolist()  # Makes it possible to set array values in a Pandas dataframe"
   ]
  },
  {
   "cell_type": "markdown",
   "id": "royal-brown",
   "metadata": {},
   "source": [
    "## Training a KRR Model\n",
    "We are going to use a Gaussian kernel as the basis of our model, following the original work of Rupp et al. \n",
    "\n",
    "We build this model using the [KernelRidge](https://scikit-learn.org/stable/modules/generated/sklearn.kernel_ridge.KernelRidge.html) model using the [radial basis function (RBF) kernel](https://scikit-learn.org/stable/modules/generated/sklearn.metrics.pairwise.rbf_kernel.html#sklearn.metrics.pairwise.rbf_kernel)."
   ]
  },
  {
   "cell_type": "code",
   "execution_count": 10,
   "id": "applicable-invalid",
   "metadata": {
    "execution": {
     "iopub.execute_input": "2021-01-25T14:31:55.222996Z",
     "iopub.status.busy": "2021-01-25T14:31:55.222559Z",
     "iopub.status.idle": "2021-01-25T14:31:55.224738Z",
     "shell.execute_reply": "2021-01-25T14:31:55.224276Z"
    }
   },
   "outputs": [],
   "source": [
    "model = Pipeline([\n",
    "    ('scale', StandardScaler()),\n",
    "    ('krr', KernelRidge(kernel='rbf'))\n",
    "])"
   ]
  },
  {
   "cell_type": "markdown",
   "id": "contrary-dublin",
   "metadata": {},
   "source": [
    "Let's make a training and test set to start off with"
   ]
  },
  {
   "cell_type": "code",
   "execution_count": 11,
   "id": "armed-galaxy",
   "metadata": {
    "execution": {
     "iopub.execute_input": "2021-01-25T14:31:55.228263Z",
     "iopub.status.busy": "2021-01-25T14:31:55.227506Z",
     "iopub.status.idle": "2021-01-25T14:31:55.262551Z",
     "shell.execute_reply": "2021-01-25T14:31:55.262062Z"
    }
   },
   "outputs": [],
   "source": [
    "train_data, test_data = train_test_split(data, train_size=1000, test_size=1000)"
   ]
  },
  {
   "cell_type": "markdown",
   "id": "prescribed-might",
   "metadata": {},
   "source": [
    "Try to fit a model for atomization energy (`u0_atom`) with default parameters"
   ]
  },
  {
   "cell_type": "code",
   "execution_count": 12,
   "id": "competitive-massachusetts",
   "metadata": {
    "execution": {
     "iopub.execute_input": "2021-01-25T14:31:55.271310Z",
     "iopub.status.busy": "2021-01-25T14:31:55.270860Z",
     "iopub.status.idle": "2021-01-25T14:31:55.355170Z",
     "shell.execute_reply": "2021-01-25T14:31:55.355592Z"
    }
   },
   "outputs": [
    {
     "data": {
      "text/plain": [
       "Pipeline(steps=[('scale', StandardScaler()),\n",
       "                ('krr', KernelRidge(kernel='rbf'))])"
      ]
     },
     "execution_count": 1,
     "metadata": {},
     "output_type": "execute_result"
    }
   ],
   "source": [
    "# np.vstack converts list to a big matrix\n",
    "model.fit(np.vstack(train_data['cm']), train_data['u0_atom'])"
   ]
  },
  {
   "cell_type": "code",
   "execution_count": 13,
   "id": "absent-reminder",
   "metadata": {
    "execution": {
     "iopub.execute_input": "2021-01-25T14:31:55.365108Z",
     "iopub.status.busy": "2021-01-25T14:31:55.364662Z",
     "iopub.status.idle": "2021-01-25T14:31:55.384523Z",
     "shell.execute_reply": "2021-01-25T14:31:55.385019Z"
    }
   },
   "outputs": [],
   "source": [
    "y_pred = model.predict(np.vstack(test_data['cm']))"
   ]
  },
  {
   "cell_type": "code",
   "execution_count": 14,
   "id": "civic-marker",
   "metadata": {
    "execution": {
     "iopub.execute_input": "2021-01-25T14:31:55.386918Z",
     "iopub.status.busy": "2021-01-25T14:31:55.386499Z",
     "iopub.status.idle": "2021-01-25T14:31:55.776765Z",
     "shell.execute_reply": "2021-01-25T14:31:55.776125Z"
    }
   },
   "outputs": [
    {
     "data": {
      "text/plain": [
       "Text(0, 0.5, '$E_{atom}$, ML (Ha)')"
      ]
     },
     "execution_count": 1,
     "metadata": {},
     "output_type": "execute_result"
    },
    {
     "data": {
      "image/png": "[encoded data removed]",
      "text/plain": [
       "<Figure size 252x252 with 1 Axes>"
      ]
     },
     "metadata": {
      "needs_background": "light"
     },
     "output_type": "display_data"
    }
   ],
   "source": [
    "fig, ax = plt.subplots(figsize=(3.5, 3.5))\n",
    "\n",
    "ax.scatter(test_data['u0_atom'], y_pred)\n",
    "\n",
    "# Make a y=x line\n",
    "ax.set_xlim(ax.get_xlim())\n",
    "ax.set_ylim(ax.get_xlim())\n",
    "ax.plot(ax.get_xlim(), ax.get_xlim(), 'k--')\n",
    "\n",
    "ax.text(0.5, 0.1, f'MAE: {mean_absolute_error(y_pred, test_data[\"u0_atom\"]):.2f} Ha',\n",
    "       transform=ax.transAxes)\n",
    "ax.set_xlabel('$E_{atom}$, DFT (Ha)')\n",
    "ax.set_ylabel('$E_{atom}$, ML (Ha)')"
   ]
  },
  {
   "cell_type": "markdown",
   "id": "secondary-disease",
   "metadata": {},
   "source": [
    "Most of the points lie along the line, so the model is working. But, we can do better."
   ]
  },
  {
   "cell_type": "markdown",
   "id": "seasonal-inspiration",
   "metadata": {},
   "source": [
    "## Fitting Hyperparameters for KRR\n",
    "The are two key parameters for ridge regression:\n",
    "\n",
    "1. $\\alpha$: Controls the strength of the fitting. Larger values penalize the model from fitting closely to the data, biasing it towards simpler models.\n",
    "2. $\\gamma$: Controls the \"smoothness\" of the model\n",
    "\n",
    "We are going to fit these models using [GridSearchCV](https://scikit-learn.org/stable/modules/generated/sklearn.model_selection.GridSearchCV.html): a tool in Scikit-Learn for fitting the hyperpameters of a machine learning models. It runs a series of cross-validation experiments and determines which parameters perform the best.\n",
    "\n",
    "*Note*: We use the term \"hyperparameters\" to describe those options that control how a machine learning algorithm learns, which is in constrast to the \"parameters\" that could be learned from the data (e.g., the coefficients of a linear regression model)."
   ]
  },
  {
   "cell_type": "code",
   "execution_count": 15,
   "id": "temporal-consideration",
   "metadata": {
    "execution": {
     "iopub.execute_input": "2021-01-25T14:31:55.781736Z",
     "iopub.status.busy": "2021-01-25T14:31:55.781129Z",
     "iopub.status.idle": "2021-01-25T14:31:55.783912Z",
     "shell.execute_reply": "2021-01-25T14:31:55.783263Z"
    }
   },
   "outputs": [],
   "source": [
    "gs = GridSearchCV(\n",
    "    model,  # The model I would like to tune\n",
    "    {'krr__gamma': np.logspace(-8, 2, 32)},  # The parameters to be adjusted\n",
    "    cv=10,  # How I perform the cross-validation (here: 10-fold cross-validation),\n",
    "    scoring='neg_mean_squared_error'  # Negative mean squared error, so that better models have greater values\n",
    ")"
   ]
  },
  {
   "cell_type": "code",
   "execution_count": 16,
   "id": "stuffed-difficulty",
   "metadata": {
    "execution": {
     "iopub.execute_input": "2021-01-25T14:31:55.795539Z",
     "iopub.status.busy": "2021-01-25T14:31:55.795085Z",
     "iopub.status.idle": "2021-01-25T14:32:10.847579Z",
     "shell.execute_reply": "2021-01-25T14:32:10.846544Z"
    }
   },
   "outputs": [
    {
     "name": "stdout",
     "output_type": "stream",
     "text": [
      "CPU times: user 49.3 s, sys: 2.5 s, total: 51.8 s\n",
      "Wall time: 15 s\n"
     ]
    },
    {
     "data": {
      "text/plain": [
       "GridSearchCV(cv=10,\n",
       "             estimator=Pipeline(steps=[('scale', StandardScaler()),\n",
       "                                       ('krr', KernelRidge(kernel='rbf'))]),\n",
       "             param_grid={'krr__gamma': array([1.00000000e-08, 2.10174801e-08, 4.41734470e-08, 9.28414545e-08,\n",
       "       1.95129342e-07, 4.10112707e-07, 8.61953566e-07, 1.81160919e-06,\n",
       "       3.80754602e-06, 8.00250228e-06, 1.68192432e-05, 3.53498111e-05,\n",
       "       7.42963951e-05, 1.56152301e-04, 3.28192787e-04, 6.89778538e-04,\n",
       "       1.44974067e-03, 3.04698957e-03, 6.40400427e-03, 1.34596032e-02,\n",
       "       2.82886943e-02, 5.94557071e-02, 1.24960914e-01, 2.62636353e-01,\n",
       "       5.51995432e-01, 1.16015530e+00, 2.43835410e+00, 5.12480588e+00,\n",
       "       1.07710506e+01, 2.26380341e+01, 4.75794431e+01, 1.00000000e+02])},\n",
       "             scoring='neg_mean_squared_error')"
      ]
     },
     "execution_count": 1,
     "metadata": {},
     "output_type": "execute_result"
    }
   ],
   "source": [
    "%%time\n",
    "gs.fit(np.vstack(train_data['cm']), train_data['u0_atom']);"
   ]
  },
  {
   "cell_type": "markdown",
   "id": "comparative-piece",
   "metadata": {},
   "source": [
    "Plot the results"
   ]
  },
  {
   "cell_type": "code",
   "execution_count": 17,
   "id": "brutal-chicken",
   "metadata": {
    "execution": {
     "iopub.execute_input": "2021-01-25T14:32:10.857343Z",
     "iopub.status.busy": "2021-01-25T14:32:10.856909Z",
     "iopub.status.idle": "2021-01-25T14:32:11.277255Z",
     "shell.execute_reply": "2021-01-25T14:32:11.277911Z"
    }
   },
   "outputs": [
    {
     "data": {
      "text/plain": [
       "Text(0, 0.5, 'MAE (Ha)')"
      ]
     },
     "execution_count": 1,
     "metadata": {},
     "output_type": "execute_result"
    },
    {
     "data": {
      "image/png": "[encoded data removed]",
      "text/plain": [
       "<Figure size 432x288 with 1 Axes>"
      ]
     },
     "metadata": {
      "needs_background": "light"
     },
     "output_type": "display_data"
    }
   ],
   "source": [
    "fig, ax = plt.subplots()\n",
    "\n",
    "params = pd.DataFrame(gs.cv_results_['params'])\n",
    "ax.loglog(params['krr__gamma'], -gs.cv_results_['mean_test_score'])\n",
    "\n",
    "ax.set_xlabel('$\\gamma$')\n",
    "ax.set_ylabel('MAE (Ha)')"
   ]
  },
  {
   "cell_type": "markdown",
   "id": "civic-light",
   "metadata": {},
   "source": [
    "See how well the best model performed"
   ]
  },
  {
   "cell_type": "code",
   "execution_count": 18,
   "id": "opened-gender",
   "metadata": {
    "execution": {
     "iopub.execute_input": "2021-01-25T14:32:11.281989Z",
     "iopub.status.busy": "2021-01-25T14:32:11.281549Z",
     "iopub.status.idle": "2021-01-25T14:32:11.283784Z",
     "shell.execute_reply": "2021-01-25T14:32:11.283404Z"
    }
   },
   "outputs": [],
   "source": [
    "model = gs.best_estimator_"
   ]
  },
  {
   "cell_type": "code",
   "execution_count": 19,
   "id": "remarkable-subscription",
   "metadata": {
    "execution": {
     "iopub.execute_input": "2021-01-25T14:32:11.294344Z",
     "iopub.status.busy": "2021-01-25T14:32:11.293838Z",
     "iopub.status.idle": "2021-01-25T14:32:11.363924Z",
     "shell.execute_reply": "2021-01-25T14:32:11.363445Z"
    }
   },
   "outputs": [],
   "source": [
    "model.fit(np.vstack(train_data['cm']), train_data['u0_atom'])\n",
    "y_pred = model.predict(np.vstack(test_data['cm']))"
   ]
  },
  {
   "cell_type": "code",
   "execution_count": 20,
   "id": "excess-anthropology",
   "metadata": {
    "execution": {
     "iopub.execute_input": "2021-01-25T14:32:11.370697Z",
     "iopub.status.busy": "2021-01-25T14:32:11.370256Z",
     "iopub.status.idle": "2021-01-25T14:32:11.566652Z",
     "shell.execute_reply": "2021-01-25T14:32:11.566064Z"
    }
   },
   "outputs": [
    {
     "data": {
      "text/plain": [
       "Text(0, 0.5, '$E_{atom}$, ML (Ha)')"
      ]
     },
     "execution_count": 1,
     "metadata": {},
     "output_type": "execute_result"
    },
    {
     "data": {
      "image/png": "[encoded data removed]",
      "text/plain": [
       "<Figure size 252x252 with 1 Axes>"
      ]
     },
     "metadata": {
      "needs_background": "light"
     },
     "output_type": "display_data"
    }
   ],
   "source": [
    "fig, ax = plt.subplots(figsize=(3.5, 3.5))\n",
    "\n",
    "ax.scatter(test_data['u0_atom'], y_pred)\n",
    "\n",
    "# Make a y=x line\n",
    "ax.set_xlim(ax.get_xlim())\n",
    "ax.set_ylim(ax.get_xlim())\n",
    "ax.plot(ax.get_xlim(), ax.get_xlim(), 'k--')\n",
    "\n",
    "ax.text(0.5, 0.1, f'MAE: {mean_absolute_error(y_pred, test_data[\"u0_atom\"]):.2f} Ha',\n",
    "       transform=ax.transAxes)\n",
    "ax.set_xlabel('$E_{atom}$, DFT (Ha)')\n",
    "ax.set_ylabel('$E_{atom}$, ML (Ha)')"
   ]
  },
  {
   "cell_type": "markdown",
   "id": "traditional-purple",
   "metadata": {},
   "source": [
    "Great! We reduced the error by a factor of 2  by changing one of the two parameters. Now, lets adjust both $\\alpha$ and $\\gamma$\n",
    "\n",
    "*Note*: I intentionally did not use the test data to tune the parameters of my model. The test data is kept completely separate from any method used to determine the parameters (hyperparameters or not)"
   ]
  },
  {
   "cell_type": "code",
   "execution_count": 21,
   "id": "chubby-juice",
   "metadata": {
    "execution": {
     "iopub.execute_input": "2021-01-25T14:32:11.570456Z",
     "iopub.status.busy": "2021-01-25T14:32:11.570034Z",
     "iopub.status.idle": "2021-01-25T14:32:11.572073Z",
     "shell.execute_reply": "2021-01-25T14:32:11.571681Z"
    }
   },
   "outputs": [],
   "source": [
    "gs = GridSearchCV(model,\n",
    "    {'krr__gamma': np.logspace(-8, 2, 16), 'krr__alpha': np.logspace(-8, 2, 16)},\n",
    "    cv=10,\n",
    "    scoring='neg_mean_squared_error'  # Negative mean squared error, so that better models have greater values\n",
    ")"
   ]
  },
  {
   "cell_type": "code",
   "execution_count": 22,
   "id": "settled-internet",
   "metadata": {
    "execution": {
     "iopub.execute_input": "2021-01-25T14:32:11.581456Z",
     "iopub.status.busy": "2021-01-25T14:32:11.580936Z",
     "iopub.status.idle": "2021-01-25T14:33:58.965178Z",
     "shell.execute_reply": "2021-01-25T14:33:58.965714Z"
    }
   },
   "outputs": [
    {
     "name": "stdout",
     "output_type": "stream",
     "text": [
      "CPU times: user 5min 49s, sys: 17.3 s, total: 6min 7s\n",
      "Wall time: 1min 47s\n"
     ]
    },
    {
     "data": {
      "text/plain": [
       "GridSearchCV(cv=10,\n",
       "             estimator=Pipeline(steps=[('scale', StandardScaler()),\n",
       "                                       ('krr',\n",
       "                                        KernelRidge(gamma=0.0003281927872511471,\n",
       "                                                    kernel='rbf'))]),\n",
       "             param_grid={'krr__alpha': array([1.00000000e-08, 4.64158883e-08, 2.15443469e-07, 1.00000000e-06,\n",
       "       4.64158883e-06, 2.15443469e-05, 1.00000000e-04, 4.64158883e-04,\n",
       "       2.15443469e-03, 1.00000000e-02, 4.64158883e-02, 2.15443469e-01,\n",
       "       1....00e+00, 4.64158883e+00, 2.15443469e+01, 1.00000000e+02]),\n",
       "                         'krr__gamma': array([1.00000000e-08, 4.64158883e-08, 2.15443469e-07, 1.00000000e-06,\n",
       "       4.64158883e-06, 2.15443469e-05, 1.00000000e-04, 4.64158883e-04,\n",
       "       2.15443469e-03, 1.00000000e-02, 4.64158883e-02, 2.15443469e-01,\n",
       "       1.00000000e+00, 4.64158883e+00, 2.15443469e+01, 1.00000000e+02])},\n",
       "             scoring='neg_mean_squared_error')"
      ]
     },
     "execution_count": 1,
     "metadata": {},
     "output_type": "execute_result"
    }
   ],
   "source": [
    "%%time\n",
    "gs.fit(np.vstack(train_data['cm']), train_data['u0_atom']);"
   ]
  },
  {
   "cell_type": "code",
   "execution_count": 23,
   "id": "treated-jersey",
   "metadata": {
    "execution": {
     "iopub.execute_input": "2021-01-25T14:33:58.968742Z",
     "iopub.status.busy": "2021-01-25T14:33:58.967536Z",
     "iopub.status.idle": "2021-01-25T14:33:59.288718Z",
     "shell.execute_reply": "2021-01-25T14:33:59.289301Z"
    }
   },
   "outputs": [
    {
     "data": {
      "text/plain": [
       "Text(0, 0.5, 'MAE (Ha)')"
      ]
     },
     "execution_count": 1,
     "metadata": {},
     "output_type": "execute_result"
    },
    {
     "data": {
      "image/png": "[encoded data removed]",
      "text/plain": [
       "<Figure size 432x288 with 2 Axes>"
      ]
     },
     "metadata": {
      "needs_background": "light"
     },
     "output_type": "display_data"
    }
   ],
   "source": [
    "fig, ax = plt.subplots()\n",
    "\n",
    "# Plot all of the parameters\n",
    "params = pd.DataFrame(gs.cv_results_['params'])\n",
    "sd = ax.scatter(params['krr__gamma'], params['krr__alpha'], c=-gs.cv_results_['mean_test_score'],\n",
    "                vmax=0.5, cmap='Blues_r')\n",
    "ax.set_xscale('log')\n",
    "ax.set_yscale('log')\n",
    "\n",
    "# Mark the best\n",
    "ax.scatter(gs.best_params_['krr__alpha'], gs.best_params_['krr__gamma'], facecolor='none', edgecolor='red',\n",
    "           s=50, lw=3)\n",
    "\n",
    "fig.colorbar(sd, label='MAE (Ha)')\n",
    "\n",
    "ax.set_xlabel('$\\gamma$')\n",
    "ax.set_ylabel('MAE (Ha)')"
   ]
  },
  {
   "cell_type": "markdown",
   "id": "medieval-stake",
   "metadata": {},
   "source": [
    "Now, see how well we do with the fully-tuned model"
   ]
  },
  {
   "cell_type": "code",
   "execution_count": 24,
   "id": "damaged-austria",
   "metadata": {
    "execution": {
     "iopub.execute_input": "2021-01-25T14:33:59.293111Z",
     "iopub.status.busy": "2021-01-25T14:33:59.292684Z",
     "iopub.status.idle": "2021-01-25T14:33:59.295078Z",
     "shell.execute_reply": "2021-01-25T14:33:59.294495Z"
    }
   },
   "outputs": [],
   "source": [
    "model = gs.best_estimator_"
   ]
  },
  {
   "cell_type": "code",
   "execution_count": 25,
   "id": "outside-latest",
   "metadata": {
    "execution": {
     "iopub.execute_input": "2021-01-25T14:33:59.303115Z",
     "iopub.status.busy": "2021-01-25T14:33:59.302502Z",
     "iopub.status.idle": "2021-01-25T14:33:59.368241Z",
     "shell.execute_reply": "2021-01-25T14:33:59.367757Z"
    }
   },
   "outputs": [],
   "source": [
    "model.fit(np.vstack(train_data['cm']), train_data['u0_atom'])\n",
    "y_pred = model.predict(np.vstack(test_data['cm']))"
   ]
  },
  {
   "cell_type": "code",
   "execution_count": 26,
   "id": "extensive-stewart",
   "metadata": {
    "execution": {
     "iopub.execute_input": "2021-01-25T14:33:59.374395Z",
     "iopub.status.busy": "2021-01-25T14:33:59.372418Z",
     "iopub.status.idle": "2021-01-25T14:33:59.542864Z",
     "shell.execute_reply": "2021-01-25T14:33:59.542476Z"
    }
   },
   "outputs": [
    {
     "data": {
      "text/plain": [
       "Text(0, 0.5, '$E_{atom}$, ML (Ha)')"
      ]
     },
     "execution_count": 1,
     "metadata": {},
     "output_type": "execute_result"
    },
    {
     "data": {
      "image/png": "[encoded data removed]",
      "text/plain": [
       "<Figure size 252x252 with 1 Axes>"
      ]
     },
     "metadata": {
      "needs_background": "light"
     },
     "output_type": "display_data"
    }
   ],
   "source": [
    "fig, ax = plt.subplots(figsize=(3.5, 3.5))\n",
    "\n",
    "ax.scatter(test_data['u0_atom'], y_pred)\n",
    "\n",
    "# Make a y=x line\n",
    "ax.set_xlim(ax.get_xlim())\n",
    "ax.set_ylim(ax.get_xlim())\n",
    "ax.plot(ax.get_xlim(), ax.get_xlim(), 'k--')\n",
    "\n",
    "ax.text(0.5, 0.1, f'MAE: {mean_absolute_error(y_pred, test_data[\"u0_atom\"]):.2f} Ha',\n",
    "       transform=ax.transAxes)\n",
    "ax.set_xlabel('$E_{atom}$, DFT (Ha)')\n",
    "ax.set_ylabel('$E_{atom}$, ML (Ha)')"
   ]
  },
  {
   "cell_type": "markdown",
   "id": "neither-letter",
   "metadata": {},
   "source": [
    "We have now reduced the error by another 40% by adjusting both parameters. Also note that some outliers have gone away. \n",
    "\n",
    "Parameter tuning for KRR is very important!"
   ]
  },
  {
   "cell_type": "markdown",
   "id": "derived-circumstances",
   "metadata": {},
   "source": [
    "## Show the Need for Scalable Kernels\n",
    "\"Scalable Kernels\" are a technique in molecular ML that make it possible for KRR models to automatically learn the linear relationship between some properties and molecular size.\n",
    "\n",
    "Here, we demonstrate why it is possible by showing where it is a problem with Coulomb Matrix."
   ]
  },
  {
   "cell_type": "code",
   "execution_count": 27,
   "id": "divided-savage",
   "metadata": {
    "execution": {
     "iopub.execute_input": "2021-01-25T14:33:59.546829Z",
     "iopub.status.busy": "2021-01-25T14:33:59.546383Z",
     "iopub.status.idle": "2021-01-25T14:33:59.564009Z",
     "shell.execute_reply": "2021-01-25T14:33:59.563422Z"
    }
   },
   "outputs": [
    {
     "name": "stdout",
     "output_type": "stream",
     "text": [
      "Made a training set of 23221 entries and a test set of 1779 by splitting based on molecule size.\n"
     ]
    }
   ],
   "source": [
    "size = np.percentile(data['n_atom'], 90)\n",
    "train_data = data.query(f'n_atom<={size}')\n",
    "test_data = data.query(f'n_atom>{size}')\n",
    "print(f'Made a training set of {len(train_data)} entries and a test set of {len(test_data)} by splitting based on molecule size.')"
   ]
  },
  {
   "cell_type": "markdown",
   "id": "conservative-geneva",
   "metadata": {},
   "source": [
    "Train a model on 1000 of the smaller molecules. Note that we are going to use the GridSearchCV tool to re-fit the parameters"
   ]
  },
  {
   "cell_type": "code",
   "execution_count": 28,
   "id": "employed-crawford",
   "metadata": {
    "execution": {
     "iopub.execute_input": "2021-01-25T14:33:59.569230Z",
     "iopub.status.busy": "2021-01-25T14:33:59.568786Z",
     "iopub.status.idle": "2021-01-25T14:33:59.572027Z",
     "shell.execute_reply": "2021-01-25T14:33:59.571551Z"
    }
   },
   "outputs": [],
   "source": [
    "train_subset = train_data.sample(1000)"
   ]
  },
  {
   "cell_type": "code",
   "execution_count": 29,
   "id": "sought-sheet",
   "metadata": {
    "execution": {
     "iopub.execute_input": "2021-01-25T14:33:59.580599Z",
     "iopub.status.busy": "2021-01-25T14:33:59.580132Z",
     "iopub.status.idle": "2021-01-25T14:35:54.337318Z",
     "shell.execute_reply": "2021-01-25T14:35:54.336931Z"
    }
   },
   "outputs": [
    {
     "name": "stdout",
     "output_type": "stream",
     "text": [
      "CPU times: user 5min 51s, sys: 18 s, total: 6min 9s\n",
      "Wall time: 1min 54s\n"
     ]
    },
    {
     "data": {
      "text/plain": [
       "GridSearchCV(cv=10,\n",
       "             estimator=Pipeline(steps=[('scale', StandardScaler()),\n",
       "                                       ('krr',\n",
       "                                        KernelRidge(gamma=0.0003281927872511471,\n",
       "                                                    kernel='rbf'))]),\n",
       "             param_grid={'krr__alpha': array([1.00000000e-08, 4.64158883e-08, 2.15443469e-07, 1.00000000e-06,\n",
       "       4.64158883e-06, 2.15443469e-05, 1.00000000e-04, 4.64158883e-04,\n",
       "       2.15443469e-03, 1.00000000e-02, 4.64158883e-02, 2.15443469e-01,\n",
       "       1....00e+00, 4.64158883e+00, 2.15443469e+01, 1.00000000e+02]),\n",
       "                         'krr__gamma': array([1.00000000e-08, 4.64158883e-08, 2.15443469e-07, 1.00000000e-06,\n",
       "       4.64158883e-06, 2.15443469e-05, 1.00000000e-04, 4.64158883e-04,\n",
       "       2.15443469e-03, 1.00000000e-02, 4.64158883e-02, 2.15443469e-01,\n",
       "       1.00000000e+00, 4.64158883e+00, 2.15443469e+01, 1.00000000e+02])},\n",
       "             scoring='neg_mean_squared_error')"
      ]
     },
     "execution_count": 1,
     "metadata": {},
     "output_type": "execute_result"
    }
   ],
   "source": [
    "%%time\n",
    "gs.fit(np.vstack(train_subset['cm']), train_subset['u0_atom']);"
   ]
  },
  {
   "cell_type": "markdown",
   "id": "close-medicaid",
   "metadata": {},
   "source": [
    "Plot the model performance"
   ]
  },
  {
   "cell_type": "code",
   "execution_count": 30,
   "id": "international-rating",
   "metadata": {
    "execution": {
     "iopub.execute_input": "2021-01-25T14:35:54.339984Z",
     "iopub.status.busy": "2021-01-25T14:35:54.339555Z",
     "iopub.status.idle": "2021-01-25T14:35:54.341729Z",
     "shell.execute_reply": "2021-01-25T14:35:54.341283Z"
    }
   },
   "outputs": [],
   "source": [
    "model = gs.best_estimator_"
   ]
  },
  {
   "cell_type": "code",
   "execution_count": 31,
   "id": "found-robin",
   "metadata": {
    "execution": {
     "iopub.execute_input": "2021-01-25T14:35:54.351196Z",
     "iopub.status.busy": "2021-01-25T14:35:54.350738Z",
     "iopub.status.idle": "2021-01-25T14:35:54.456855Z",
     "shell.execute_reply": "2021-01-25T14:35:54.457411Z"
    }
   },
   "outputs": [],
   "source": [
    "model.fit(np.vstack(train_subset['cm']), train_subset['u0_atom'])\n",
    "y_pred = model.predict(np.vstack(test_data['cm']))"
   ]
  },
  {
   "cell_type": "code",
   "execution_count": 32,
   "id": "wrapped-truck",
   "metadata": {
    "execution": {
     "iopub.execute_input": "2021-01-25T14:35:54.459945Z",
     "iopub.status.busy": "2021-01-25T14:35:54.459148Z",
     "iopub.status.idle": "2021-01-25T14:35:54.693273Z",
     "shell.execute_reply": "2021-01-25T14:35:54.692786Z"
    }
   },
   "outputs": [
    {
     "data": {
      "text/plain": [
       "Text(0, 0.5, '$E_{atom}$, ML (Ha)')"
      ]
     },
     "execution_count": 1,
     "metadata": {},
     "output_type": "execute_result"
    },
    {
     "data": {
      "image/png": "[encoded data removed]",
      "text/plain": [
       "<Figure size 252x252 with 1 Axes>"
      ]
     },
     "metadata": {
      "needs_background": "light"
     },
     "output_type": "display_data"
    }
   ],
   "source": [
    "fig, ax = plt.subplots(figsize=(3.5, 3.5))\n",
    "\n",
    "ax.scatter(test_data['u0_atom'], y_pred)\n",
    "\n",
    "# Make a y=x line\n",
    "min_value = min(ax.get_xlim() + ax.get_ylim())\n",
    "max_value = max(ax.get_xlim() + ax.get_ylim())\n",
    "ax.set_xlim((min_value, max_value))\n",
    "ax.set_ylim(ax.get_xlim())\n",
    "ax.plot(ax.get_xlim(), ax.get_xlim(), 'k--')\n",
    "\n",
    "ax.text(0.5, 0.1, f'MAE: {mean_absolute_error(y_pred, test_data[\"u0_atom\"]):.2f} Ha',\n",
    "       transform=ax.transAxes)\n",
    "ax.set_xlabel('$E_{atom}$, DFT (Ha)')\n",
    "ax.set_ylabel('$E_{atom}$, ML (Ha)')"
   ]
  },
  {
   "cell_type": "markdown",
   "id": "conditional-princess",
   "metadata": {},
   "source": [
    "The error here is much larger than what we observed in a previous test.\n",
    "\n",
    "This brings us to our key points from this notebook:\n",
    "1. *You must tune hyperparameters with KRR.* In our demo here, we can see an improvement of 3-4x and the elimination of outlier predictions.\n",
    "1. *Coulomb Matrix, which lacks a scalable kernel, cannot predict the energies of molecules larger than the training set.* Consider (and maybe, test!) whether this would be a problem for other properties.\n",
    "1. *Validate models in the way you want to use them*. If I intended to use my model to predict the properties of large molecules, a simple \"split randomly\" cross validation test would be very misleading."
   ]
  },
  {
   "cell_type": "code",
   "execution_count": null,
   "id": "sought-temple",
   "metadata": {},
   "outputs": [],
   "source": []
  }
 ],
 "metadata": {
  "kernelspec": {
   "display_name": "Python 3",
   "language": "python",
   "name": "python3"
  },
  "language_info": {
   "codemirror_mode": {
    "name": "ipython",
    "version": 3
   },
   "file_extension": ".py",
   "mimetype": "text/x-python",
   "name": "python",
   "nbconvert_exporter": "python",
   "pygments_lexer": "ipython3",
   "version": "3.7.9"
  }
 },
 "nbformat": 4,
 "nbformat_minor": 5
}
