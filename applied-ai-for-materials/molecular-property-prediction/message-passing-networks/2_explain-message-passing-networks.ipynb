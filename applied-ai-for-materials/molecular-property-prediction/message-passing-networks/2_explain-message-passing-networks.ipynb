{
 "cells": [
  {
   "cell_type": "markdown",
   "id": "varied-empire",
   "metadata": {},
   "source": [
    "# Explain Message Passing Neural Networks\n",
    "A discussed in [our lecture](https://1drv.ms/b/s!AswJEkleh18Ah5QeJTjZ0V8fI0AJ-w?e=gsM2hK) and [Gilmer et al.](https://arxiv.org/abs/1704.01212), neural networks are composed of message passing, update, and readout functions. \n",
    "This notebook will demonstrate how to build these functions using Tensorflow."
   ]
  },
  {
   "cell_type": "code",
   "execution_count": 23,
   "id": "manufactured-swedish",
   "metadata": {},
   "outputs": [],
   "source": [
    "%matplotlib inline\n",
    "from matplotlib import pyplot as plt\n",
    "from mpnn.data import make_data_loader\n",
    "from tensorflow.keras.models import Model\n",
    "from tensorflow.keras import layers\n",
    "import tensorflow as tf\n",
    "import numpy as np"
   ]
  },
  {
   "cell_type": "markdown",
   "id": "confused-guidance",
   "metadata": {},
   "source": [
    "## Get a Batch of Data\n",
    "We are going to use same data loader functions from the previous notebooks to create a batch of training examples.\n",
    "\n",
    "These functions are stored in the stripped-down MPNN library, [`mpnn`](./mpnn), I provide with these notebooks"
   ]
  },
  {
   "cell_type": "code",
   "execution_count": 2,
   "id": "solved-sector",
   "metadata": {},
   "outputs": [],
   "source": [
    "loader = make_data_loader('datasets/train_data.proto', batch_size=2, output_property='u0_atom')"
   ]
  },
  {
   "cell_type": "code",
   "execution_count": 3,
   "id": "silent-dream",
   "metadata": {},
   "outputs": [
    {
     "name": "stdout",
     "output_type": "stream",
     "text": [
      "Produced a batch with the following tensors: ['atom', 'bond', 'connectivity', 'n_atom', 'n_bond', 'node_graph_indices', 'bond_graph_indices']\n"
     ]
    }
   ],
   "source": [
    "inputs, outputs = next(iter(loader))\n",
    "print(f'Produced a batch with the following tensors: {list(inputs.keys())}')"
   ]
  },
  {
   "cell_type": "markdown",
   "id": "atmospheric-garage",
   "metadata": {},
   "source": [
    "## Initial Processing: Embeddings\n",
    "The `atom` and `bond` tensors contain the types of each atom and bond but are not particularly meaningful. "
   ]
  },
  {
   "cell_type": "code",
   "execution_count": 4,
   "id": "mounted-article",
   "metadata": {},
   "outputs": [
    {
     "data": {
      "text/plain": [
       "<tf.Tensor: shape=(37,), dtype=int64, numpy=\n",
       "array([1, 1, 1, 1, 1, 1, 3, 1, 1, 0, 0, 0, 0, 0, 0, 0, 0, 0, 0, 2, 1, 1,\n",
       "       1, 1, 1, 1, 1, 3, 0, 0, 0, 0, 0, 0, 0, 0, 0])>"
      ]
     },
     "execution_count": 4,
     "metadata": {},
     "output_type": "execute_result"
    }
   ],
   "source": [
    "inputs['atom']"
   ]
  },
  {
   "cell_type": "markdown",
   "id": "unlikely-cathedral",
   "metadata": {},
   "source": [
    "For example, the person who defined this file format and as a chemist, I know that atom type `1` is a Carbon and some information about how Carbon should behave.\n",
    "The computer only sees discrete categories.\n",
    "Our first step to building the network is to map these categories to features that could represent the data. \n",
    "A quick way to do that is to use [\"embeddings\"](https://towardsdatascience.com/neural-network-embeddings-explained-4d028e6f0526) that enable the machine learning model learn how these categories relate to each other automatically."
   ]
  },
  {
   "cell_type": "code",
   "execution_count": 5,
   "id": "excellent-saturday",
   "metadata": {},
   "outputs": [],
   "source": [
    "atom_embeddings = layers.Embedding(6, 2)  # Defines 6 categories of 2 features each\n",
    "bond_embeddings = layers.Embedding(4, 2)"
   ]
  },
  {
   "cell_type": "markdown",
   "id": "mediterranean-colorado",
   "metadata": {},
   "source": [
    "Note how the embedding maps our atom type to a 2 features.\n",
    "\n",
    "Also, note that the the first rows three atoms are the same. These correspond to the same atoms which are all Carbons"
   ]
  },
  {
   "cell_type": "code",
   "execution_count": 6,
   "id": "directed-titanium",
   "metadata": {},
   "outputs": [],
   "source": [
    "atom_features = atom_embeddings(inputs['atom'])\n",
    "bond_features = bond_embeddings(inputs['bond'])"
   ]
  },
  {
   "cell_type": "code",
   "execution_count": 7,
   "id": "welsh-collapse",
   "metadata": {},
   "outputs": [
    {
     "data": {
      "text/plain": [
       "array([[-0.01057253,  0.02447972],\n",
       "       [-0.01057253,  0.02447972],\n",
       "       [-0.01057253,  0.02447972],\n",
       "       [-0.01057253,  0.02447972],\n",
       "       [-0.01057253,  0.02447972],\n",
       "       [-0.01057253,  0.02447972],\n",
       "       [-0.02320048, -0.02239682],\n",
       "       [-0.01057253,  0.02447972],\n",
       "       [-0.01057253,  0.02447972],\n",
       "       [-0.01403613, -0.04443152],\n",
       "       [-0.01403613, -0.04443152],\n",
       "       [-0.01403613, -0.04443152],\n",
       "       [-0.01403613, -0.04443152],\n",
       "       [-0.01403613, -0.04443152],\n",
       "       [-0.01403613, -0.04443152],\n",
       "       [-0.01403613, -0.04443152],\n",
       "       [-0.01403613, -0.04443152],\n",
       "       [-0.01403613, -0.04443152],\n",
       "       [-0.01403613, -0.04443152],\n",
       "       [-0.00364176, -0.03783178],\n",
       "       [-0.01057253,  0.02447972],\n",
       "       [-0.01057253,  0.02447972],\n",
       "       [-0.01057253,  0.02447972],\n",
       "       [-0.01057253,  0.02447972],\n",
       "       [-0.01057253,  0.02447972],\n",
       "       [-0.01057253,  0.02447972],\n",
       "       [-0.01057253,  0.02447972],\n",
       "       [-0.02320048, -0.02239682],\n",
       "       [-0.01403613, -0.04443152],\n",
       "       [-0.01403613, -0.04443152],\n",
       "       [-0.01403613, -0.04443152],\n",
       "       [-0.01403613, -0.04443152],\n",
       "       [-0.01403613, -0.04443152],\n",
       "       [-0.01403613, -0.04443152],\n",
       "       [-0.01403613, -0.04443152],\n",
       "       [-0.01403613, -0.04443152],\n",
       "       [-0.01403613, -0.04443152]], dtype=float32)"
      ]
     },
     "execution_count": 7,
     "metadata": {},
     "output_type": "execute_result"
    }
   ],
   "source": [
    "atom_features.numpy()"
   ]
  },
  {
   "cell_type": "markdown",
   "id": "modular-example",
   "metadata": {},
   "source": [
    "## Message Passing Steps\n",
    "The core of a message passing network is to update the features describing the atoms, bonds or molecules using knowledge about how they are all connected.\n",
    "\n",
    "We use [\"gathering\"](https://www.tensorflow.org/api_docs/python/tf/gather), [\"reduction\"](https://www.tensorflow.org/api_docs/python/tf/math/reduce_sum) and [\"segmentation\"](https://www.tensorflow.org/api_docs/python/tf/math#Segmentation) functions to express the update functions in Tensorflow.\n",
    "\n",
    "Our first step is to gather all of the features for the atoms and the beginning at end fo the bonds"
   ]
  },
  {
   "cell_type": "code",
   "execution_count": 8,
   "id": "liberal-princess",
   "metadata": {},
   "outputs": [
    {
     "name": "stdout",
     "output_type": "stream",
     "text": [
      "Each array is a shape of (80, 2) because we have 80 bonds in this batch and 2 features per atom\n"
     ]
    }
   ],
   "source": [
    "# `inputs['connectivity']` is the mapping of which atoms are bonded\n",
    "source_atom = tf.gather(atom_features, inputs['connectivity'][:, 0])\n",
    "target_atom = tf.gather(atom_features, inputs['connectivity'][:, 1])\n",
    "print(f'Each array is a shape of {target_atom.shape} because we have {tf.reduce_sum(inputs[\"n_bond\"])} bonds in this batch and 2 features per atom')"
   ]
  },
  {
   "cell_type": "markdown",
   "id": "opened-horror",
   "metadata": {},
   "source": [
    "When then modify the features describing the \"target\" atom based on the bond by, simply, multiplying the features that describe the atom by the features of the bond"
   ]
  },
  {
   "cell_type": "code",
   "execution_count": 9,
   "id": "hispanic-palace",
   "metadata": {},
   "outputs": [
    {
     "data": {
      "text/plain": [
       "<tf.Tensor: shape=(80, 2), dtype=float32, numpy=\n",
       "array([[ 2.7637387e-04, -1.3787986e-04],\n",
       "       [ 3.6691496e-04,  2.5025659e-04],\n",
       "       [ 2.8339450e-04,  3.8440424e-04],\n",
       "       [ 2.8339450e-04,  3.8440424e-04],\n",
       "       [ 2.8339450e-04,  3.8440424e-04],\n",
       "       [ 2.8339450e-04,  3.8440424e-04],\n",
       "       [ 3.7623558e-04, -6.9770665e-04],\n",
       "       [ 3.7623558e-04, -6.9770665e-04],\n",
       "       [ 2.8339450e-04,  3.8440424e-04],\n",
       "       [ 2.8339450e-04,  3.8440424e-04],\n",
       "       [ 2.8339450e-04,  3.8440424e-04],\n",
       "       [ 2.8339450e-04,  3.8440424e-04],\n",
       "       [ 2.8339450e-04,  3.8440424e-04],\n",
       "       [ 2.8339450e-04,  3.8440424e-04],\n",
       "       [ 3.7623558e-04, -6.9770665e-04],\n",
       "       [ 3.7623558e-04, -6.9770665e-04],\n",
       "       [ 2.8339450e-04,  3.8440424e-04],\n",
       "       [ 2.8339450e-04,  3.8440424e-04],\n",
       "       [ 6.2188401e-04, -3.5169645e-04],\n",
       "       [ 3.7623558e-04, -6.9770665e-04],\n",
       "       [ 2.8339450e-04,  3.8440424e-04],\n",
       "       [ 2.8339450e-04,  3.8440424e-04],\n",
       "       [ 6.2188401e-04, -3.5169645e-04],\n",
       "       [ 2.8339450e-04,  3.8440424e-04],\n",
       "       [ 3.7623558e-04, -6.9770665e-04],\n",
       "       [ 3.7623558e-04, -6.9770665e-04],\n",
       "       [ 2.8339450e-04,  3.8440424e-04],\n",
       "       [ 2.8339450e-04,  3.8440424e-04],\n",
       "       [ 3.7623558e-04, -6.9770665e-04],\n",
       "       [ 3.7623558e-04, -6.9770665e-04],\n",
       "       [ 2.8339450e-04,  3.8440424e-04],\n",
       "       [ 2.8339450e-04,  3.8440424e-04],\n",
       "       [ 2.8339450e-04,  3.8440424e-04],\n",
       "       [ 2.8339450e-04,  3.8440424e-04],\n",
       "       [ 2.8339450e-04,  3.8440424e-04],\n",
       "       [ 2.8339450e-04,  3.8440424e-04],\n",
       "       [ 2.8339450e-04,  3.8440424e-04],\n",
       "       [ 2.8339450e-04,  3.8440424e-04],\n",
       "       [ 2.8339450e-04,  3.8440424e-04],\n",
       "       [ 2.8339450e-04,  3.8440424e-04],\n",
       "       [ 1.9744886e-04,  3.0746727e-04],\n",
       "       [ 2.6213384e-04, -5.5806345e-04],\n",
       "       [ 9.7616678e-05, -5.9407123e-04],\n",
       "       [ 2.8339450e-04,  3.8440424e-04],\n",
       "       [ 6.2188401e-04, -3.5169645e-04],\n",
       "       [ 2.8339450e-04,  3.8440424e-04],\n",
       "       [ 2.8339450e-04,  3.8440424e-04],\n",
       "       [ 3.7623558e-04, -6.9770665e-04],\n",
       "       [ 3.7623558e-04, -6.9770665e-04],\n",
       "       [ 2.8339450e-04,  3.8440424e-04],\n",
       "       [ 2.8339450e-04,  3.8440424e-04],\n",
       "       [ 2.8339450e-04,  3.8440424e-04],\n",
       "       [ 2.8339450e-04,  3.8440424e-04],\n",
       "       [ 2.8339450e-04,  3.8440424e-04],\n",
       "       [ 2.8339450e-04,  3.8440424e-04],\n",
       "       [ 3.7623558e-04, -6.9770665e-04],\n",
       "       [ 3.7623558e-04, -6.9770665e-04],\n",
       "       [ 2.8339450e-04,  3.8440424e-04],\n",
       "       [ 2.8339450e-04,  3.8440424e-04],\n",
       "       [ 2.8339450e-04,  3.8440424e-04],\n",
       "       [ 6.2188401e-04, -3.5169645e-04],\n",
       "       [ 2.8339450e-04,  3.8440424e-04],\n",
       "       [ 2.8339450e-04,  3.8440424e-04],\n",
       "       [ 3.7623558e-04, -6.9770665e-04],\n",
       "       [ 3.7623558e-04, -6.9770665e-04],\n",
       "       [ 2.8339450e-04,  3.8440424e-04],\n",
       "       [ 2.8339450e-04,  3.8440424e-04],\n",
       "       [ 3.7623558e-04, -6.9770665e-04],\n",
       "       [ 3.7623558e-04, -6.9770665e-04],\n",
       "       [ 2.8339450e-04,  3.8440424e-04],\n",
       "       [ 2.8339450e-04,  3.8440424e-04],\n",
       "       [ 9.7616678e-05, -5.9407123e-04],\n",
       "       [ 2.8339450e-04,  3.8440424e-04],\n",
       "       [ 2.8339450e-04,  3.8440424e-04],\n",
       "       [ 2.8339450e-04,  3.8440424e-04],\n",
       "       [ 2.8339450e-04,  3.8440424e-04],\n",
       "       [ 2.8339450e-04,  3.8440424e-04],\n",
       "       [ 2.8339450e-04,  3.8440424e-04],\n",
       "       [ 2.8339450e-04,  3.8440424e-04],\n",
       "       [ 2.8339450e-04,  3.8440424e-04]], dtype=float32)>"
      ]
     },
     "execution_count": 9,
     "metadata": {},
     "output_type": "execute_result"
    }
   ],
   "source": [
    "all_messages = tf.multiply(bond_features, target_atom)\n",
    "all_messages"
   ]
  },
  {
   "cell_type": "markdown",
   "id": "fixed-tuition",
   "metadata": {},
   "source": [
    "This new array is the messages from each each bond for each atom. \n",
    "\n",
    "We map it to a single message per atom using `segment_sum`."
   ]
  },
  {
   "cell_type": "code",
   "execution_count": 10,
   "id": "cosmetic-joint",
   "metadata": {},
   "outputs": [
    {
     "data": {
      "text/plain": [
       "<tf.Tensor: shape=(37, 2), dtype=float32, numpy=\n",
       "array([[ 6.4328883e-04,  1.1237673e-04],\n",
       "       [ 5.6678901e-04,  7.6880847e-04],\n",
       "       [ 1.3192601e-03, -6.2660483e-04],\n",
       "       [ 1.1335780e-03,  1.5376169e-03],\n",
       "       [ 1.3192601e-03, -6.2660483e-04],\n",
       "       [ 1.5649087e-03, -2.8059463e-04],\n",
       "       [ 5.6678901e-04,  7.6880847e-04],\n",
       "       [ 1.6577496e-03, -1.3627056e-03],\n",
       "       [ 1.3192601e-03, -6.2660483e-04],\n",
       "       [ 2.8339450e-04,  3.8440424e-04],\n",
       "       [ 2.8339450e-04,  3.8440424e-04],\n",
       "       [ 2.8339450e-04,  3.8440424e-04],\n",
       "       [ 2.8339450e-04,  3.8440424e-04],\n",
       "       [ 2.8339450e-04,  3.8440424e-04],\n",
       "       [ 2.8339450e-04,  3.8440424e-04],\n",
       "       [ 2.8339450e-04,  3.8440424e-04],\n",
       "       [ 2.8339450e-04,  3.8440424e-04],\n",
       "       [ 2.8339450e-04,  3.8440424e-04],\n",
       "       [ 2.8339450e-04,  3.8440424e-04],\n",
       "       [ 4.5958269e-04, -2.5059617e-04],\n",
       "       [ 1.0028952e-03, -5.6136341e-04],\n",
       "       [ 1.3192601e-03, -6.2660483e-04],\n",
       "       [ 1.1335780e-03,  1.5376169e-03],\n",
       "       [ 1.3192601e-03, -6.2660483e-04],\n",
       "       [ 1.4720676e-03,  8.0151629e-04],\n",
       "       [ 1.3192601e-03, -6.2660483e-04],\n",
       "       [ 1.3192601e-03, -6.2660483e-04],\n",
       "       [ 5.6678901e-04,  7.6880847e-04],\n",
       "       [ 9.7616678e-05, -5.9407123e-04],\n",
       "       [ 2.8339450e-04,  3.8440424e-04],\n",
       "       [ 2.8339450e-04,  3.8440424e-04],\n",
       "       [ 2.8339450e-04,  3.8440424e-04],\n",
       "       [ 2.8339450e-04,  3.8440424e-04],\n",
       "       [ 2.8339450e-04,  3.8440424e-04],\n",
       "       [ 2.8339450e-04,  3.8440424e-04],\n",
       "       [ 2.8339450e-04,  3.8440424e-04],\n",
       "       [ 2.8339450e-04,  3.8440424e-04]], dtype=float32)>"
      ]
     },
     "execution_count": 10,
     "metadata": {},
     "output_type": "execute_result"
    }
   ],
   "source": [
    "messages = tf.math.segment_sum(all_messages, inputs['connectivity'][:, 0])\n",
    "messages"
   ]
  },
  {
   "cell_type": "markdown",
   "id": "outside-feeding",
   "metadata": {},
   "source": [
    "The message matrix now has only 37 rows, which corresponds to the number of atoms.\n",
    "\n",
    "Our final step is to update the features for each atom using these messages"
   ]
  },
  {
   "cell_type": "code",
   "execution_count": 11,
   "id": "generous-envelope",
   "metadata": {},
   "outputs": [
    {
     "data": {
      "text/plain": [
       "<tf.Tensor: shape=(37, 2), dtype=float32, numpy=\n",
       "array([[-0.00992924,  0.0245921 ],\n",
       "       [-0.01000574,  0.02524853],\n",
       "       [-0.00925327,  0.02385312],\n",
       "       [-0.00943895,  0.02601734],\n",
       "       [-0.00925327,  0.02385312],\n",
       "       [-0.00900762,  0.02419913],\n",
       "       [-0.02263369, -0.02162801],\n",
       "       [-0.00891478,  0.02311702],\n",
       "       [-0.00925327,  0.02385312],\n",
       "       [-0.01375274, -0.04404711],\n",
       "       [-0.01375274, -0.04404711],\n",
       "       [-0.01375274, -0.04404711],\n",
       "       [-0.01375274, -0.04404711],\n",
       "       [-0.01375274, -0.04404711],\n",
       "       [-0.01375274, -0.04404711],\n",
       "       [-0.01375274, -0.04404711],\n",
       "       [-0.01375274, -0.04404711],\n",
       "       [-0.01375274, -0.04404711],\n",
       "       [-0.01375274, -0.04404711],\n",
       "       [-0.00318218, -0.03808238],\n",
       "       [-0.00956964,  0.02391836],\n",
       "       [-0.00925327,  0.02385312],\n",
       "       [-0.00943895,  0.02601734],\n",
       "       [-0.00925327,  0.02385312],\n",
       "       [-0.00910046,  0.02528124],\n",
       "       [-0.00925327,  0.02385312],\n",
       "       [-0.00925327,  0.02385312],\n",
       "       [-0.02263369, -0.02162801],\n",
       "       [-0.01393851, -0.04502559],\n",
       "       [-0.01375274, -0.04404711],\n",
       "       [-0.01375274, -0.04404711],\n",
       "       [-0.01375274, -0.04404711],\n",
       "       [-0.01375274, -0.04404711],\n",
       "       [-0.01375274, -0.04404711],\n",
       "       [-0.01375274, -0.04404711],\n",
       "       [-0.01375274, -0.04404711],\n",
       "       [-0.01375274, -0.04404711]], dtype=float32)>"
      ]
     },
     "execution_count": 11,
     "metadata": {},
     "output_type": "execute_result"
    }
   ],
   "source": [
    "atom_features = atom_features + messages\n",
    "atom_features"
   ]
  },
  {
   "cell_type": "markdown",
   "id": "sacred-silicon",
   "metadata": {},
   "source": [
    "We now have new features for each atom and note how the first 3 rows are now different. Each atom now has new features because they were each bonded in different ways. "
   ]
  },
  {
   "cell_type": "markdown",
   "id": "insured-associate",
   "metadata": {},
   "source": [
    "## Final Step: Readout\n",
    "Our last step is to take the features for each atom and use them to generate a single prediction per molecule. \n",
    "\n",
    "We use the \"segment_sum\" again, but this time to sum all features for each atom in each molecule rather than each message for each atom. The mapping of which atom belongs to what molecule is stored in `inputs['node_graph_indices']`"
   ]
  },
  {
   "cell_type": "code",
   "execution_count": 12,
   "id": "legal-english",
   "metadata": {},
   "outputs": [
    {
     "data": {
      "text/plain": [
       "<tf.Tensor: shape=(2, 2), dtype=float32, numpy=\n",
       "array([[-0.23521714, -0.2673657 ],\n",
       "       [-0.21489835, -0.2864835 ]], dtype=float32)>"
      ]
     },
     "execution_count": 12,
     "metadata": {},
     "output_type": "execute_result"
    }
   ],
   "source": [
    "mol_features = tf.math.segment_sum(atom_features, inputs[\"node_graph_indices\"])\n",
    "mol_features"
   ]
  },
  {
   "cell_type": "markdown",
   "id": "empty-mistake",
   "metadata": {},
   "source": [
    "Great! We now have only two features per molecule. To map them to a single predicted value, we use a [Dense layer](https://keras.io/api/layers/core_layers/dense/)."
   ]
  },
  {
   "cell_type": "code",
   "execution_count": 13,
   "id": "sorted-marketplace",
   "metadata": {},
   "outputs": [
    {
     "data": {
      "text/plain": [
       "<tf.Tensor: shape=(2, 1), dtype=float32, numpy=\n",
       "array([[-0.10109075],\n",
       "       [-0.11985932]], dtype=float32)>"
      ]
     },
     "execution_count": 13,
     "metadata": {},
     "output_type": "execute_result"
    }
   ],
   "source": [
    "output = layers.Dense(1, activation='linear')\n",
    "mol_pred = output(mol_features)\n",
    "mol_pred"
   ]
  },
  {
   "cell_type": "markdown",
   "id": "material-innocent",
   "metadata": {},
   "source": [
    "We are now down to a single prediction per molecule"
   ]
  },
  {
   "cell_type": "markdown",
   "id": "irish-strap",
   "metadata": {},
   "source": [
    "## String it all together with Keras\n",
    "The above cells show the computations that form an MPNN, but are not convenient to use. \n",
    "Keras [Layers](https://keras.io/api/layers/) and [Models](https://keras.io/api/models/) allow you to describe the computations and how they are connected to each other.\n",
    "\n",
    "### Building Layers\n",
    "\n",
    "Some of our steps above already using Keras layers (e.g., `Embedding`). Others use base Tensorflow operations, which we must combine to form Layers so that Keras can keep track of the computations for us.\n",
    "\n",
    "We do that by implementing a new \"Layer\" in Keras. As describe in the [Keras docs](https://keras.io/guides/making_new_layers_and_models_via_subclassing/), these layers define the calculations performed for a certain step in network and, in many cases, the weights associated with the calculations. For simplicity, I do not add any training weights."
   ]
  },
  {
   "cell_type": "code",
   "execution_count": 14,
   "id": "material-spectacular",
   "metadata": {},
   "outputs": [],
   "source": [
    "class MessagePassingLayer(layers.Layer):\n",
    "    \"\"\"Perform the message passing step\"\"\"\n",
    "\n",
    "    def call(self, atom_features, bond_features, connectivity):\n",
    "        \"\"\"Perform the message passing steps.\n",
    "        \n",
    "        Takes the atom and bond features with the connectivity as inputs\n",
    "        and produces a new set of atom features.\n",
    "        \"\"\"\n",
    "        # Get the features for the atoms at each side of a bond\n",
    "        source_atom = tf.gather(atom_features, connectivity[:, 0])\n",
    "        target_atom = tf.gather(atom_features, connectivity[:, 1])\n",
    "\n",
    "        # Make messages based on the \"far side\" of the bond and the bond type\n",
    "        all_messages = tf.multiply(bond_features, target_atom)\n",
    "\n",
    "        # Sum them up and add them to the original features\n",
    "        messages = tf.math.segment_sum(all_messages, connectivity[:, 0])\n",
    "        atom_features = atom_features + messages\n",
    "        return atom_features"
   ]
  },
  {
   "cell_type": "markdown",
   "id": "naked-interpretation",
   "metadata": {},
   "source": [
    "Run it to see how it behaves like our previous collection of 3 different cells!"
   ]
  },
  {
   "cell_type": "code",
   "execution_count": 15,
   "id": "fourth-number",
   "metadata": {},
   "outputs": [],
   "source": [
    "mp = MessagePassingLayer()"
   ]
  },
  {
   "cell_type": "code",
   "execution_count": 16,
   "id": "particular-auckland",
   "metadata": {},
   "outputs": [
    {
     "data": {
      "text/plain": [
       "<tf.Tensor: shape=(37, 2), dtype=float32, numpy=\n",
       "array([[-0.00930818,  0.02469798],\n",
       "       [-0.00949156,  0.02600926],\n",
       "       [-0.00799478,  0.0232748 ],\n",
       "       [-0.00845341,  0.02752103],\n",
       "       [-0.00802154,  0.02325832],\n",
       "       [-0.00753125,  0.02395095],\n",
       "       [-0.02215328, -0.020885  ],\n",
       "       [-0.00732278,  0.02176861],\n",
       "       [-0.00802402,  0.02324133],\n",
       "       [-0.01348658, -0.04366095],\n",
       "       [-0.0135047 , -0.04367255],\n",
       "       [-0.0135047 , -0.04367255],\n",
       "       [-0.0135047 , -0.04367255],\n",
       "       [-0.0135047 , -0.04367255],\n",
       "       [-0.01351129, -0.04366712],\n",
       "       [-0.01351378, -0.04368411],\n",
       "       [-0.01351378, -0.04368411],\n",
       "       [-0.0135047 , -0.04367255],\n",
       "       [-0.0135047 , -0.04367255],\n",
       "       [-0.00274315, -0.03834749],\n",
       "       [-0.00862961,  0.02335529],\n",
       "       [-0.00800647,  0.02325391],\n",
       "       [-0.00845092,  0.02753802],\n",
       "       [-0.00801905,  0.02327532],\n",
       "       [-0.0077447 ,  0.02609929],\n",
       "       [-0.00802402,  0.02324133],\n",
       "       [-0.00801495,  0.02325289],\n",
       "       [-0.02213324, -0.02085543],\n",
       "       [-0.01385322, -0.0456236 ],\n",
       "       [-0.0135047 , -0.04367255],\n",
       "       [-0.0135047 , -0.04367255],\n",
       "       [-0.0135047 , -0.04367255],\n",
       "       [-0.0135047 , -0.04367255],\n",
       "       [-0.0135047 , -0.04367255],\n",
       "       [-0.0135047 , -0.04367255],\n",
       "       [-0.0135047 , -0.04367255],\n",
       "       [-0.0135047 , -0.04367255]], dtype=float32)>"
      ]
     },
     "execution_count": 16,
     "metadata": {},
     "output_type": "execute_result"
    }
   ],
   "source": [
    "mp(atom_features, bond_features, inputs[\"connectivity\"])"
   ]
  },
  {
   "cell_type": "markdown",
   "id": "ranking-nurse",
   "metadata": {},
   "source": [
    "The other base tensorflow method we need to wrap is `tf.math.segment_sum` when we use it to make the molecule property.\n"
   ]
  },
  {
   "cell_type": "code",
   "execution_count": 17,
   "id": "proud-blank",
   "metadata": {},
   "outputs": [],
   "source": [
    "class Readout(layers.Layer):\n",
    "    \"\"\"Convert atomic to molecular features\"\"\"\n",
    "    \n",
    "    def call(self, atom_features, node_graph_indices):\n",
    "        return tf.math.segment_sum(atom_features, node_graph_indices)"
   ]
  },
  {
   "cell_type": "code",
   "execution_count": 18,
   "id": "intense-clerk",
   "metadata": {},
   "outputs": [
    {
     "data": {
      "text/plain": [
       "<tf.Tensor: shape=(2, 2), dtype=float32, numpy=\n",
       "array([[-0.23521714, -0.2673657 ],\n",
       "       [-0.21489835, -0.2864835 ]], dtype=float32)>"
      ]
     },
     "execution_count": 18,
     "metadata": {},
     "output_type": "execute_result"
    }
   ],
   "source": [
    "r = Readout()\n",
    "r(atom_features, inputs[\"node_graph_indices\"])"
   ]
  },
  {
   "cell_type": "markdown",
   "id": "subject-sessions",
   "metadata": {},
   "source": [
    "Also just like before!"
   ]
  },
  {
   "cell_type": "markdown",
   "id": "miniature-legislation",
   "metadata": {},
   "source": [
    "### Stringing Layers together into a Model\n",
    "The Keras Model lets us define how information flows from one step to another. We are going to make a function to describe how to connect layers using Keras's [functional API](https://keras.io/guides/functional_api/)"
   ]
  },
  {
   "cell_type": "code",
   "execution_count": 19,
   "id": "located-machine",
   "metadata": {},
   "outputs": [],
   "source": [
    "def make_model(num_features: int, num_messages: int):\n",
    "    \"\"\"Build an MPNN\n",
    "    \n",
    "    \n",
    "    Args:\n",
    "        num_features: Number of features to use to describe each atom and bond\n",
    "        num_messages: Number of message passing steps\n",
    "    Returns:\n",
    "        Keras models that generate molecule property\n",
    "    \"\"\"\n",
    "    \n",
    "    # The first step is to define which inputs to expand and their shapes/types\n",
    "    node_graph_indices = layers.Input(shape=(1,), name='node_graph_indices', dtype='int32')\n",
    "    atom_types = layers.Input(shape=(1,), name='atom', dtype='int32')\n",
    "    bond_types = layers.Input(shape=(1,), name='bond', dtype='int32')\n",
    "    connectivity = layers.Input(shape=(2,), name='connectivity', dtype='int32')\n",
    "\n",
    "    # Squeeze the node graph and connectivity matrices\n",
    "    #  Keras makes all input arrays 2D, I find it easier to deal with them as 1D vectors\n",
    "    #  The squeeze operation removes the second dimension, and I use Kera's Lambda layer\n",
    "    #  to quickly wrap a simple Tensorflow function\n",
    "    squeeze = layers.Lambda(tf.squeeze, arguments={'axis': 1}, name='squeeze')\n",
    "    snode_graph_indices = squeeze(node_graph_indices)\n",
    "    satom_types = squeeze(atom_types)\n",
    "    sbond_types = squeeze(bond_types)\n",
    "    \n",
    "    # Generate initial features for each atom and bond using embeddings\n",
    "    atom_features = layers.Embedding(6, num_features, name='atom_embedding')(satom_types)\n",
    "    bond_features = layers.Embedding(4, num_features, name='bond_embedding')(sbond_types)\n",
    "    \n",
    "    # Perform a few message passing steps\n",
    "    message_layer = MessagePassingLayer(name='message_passing')\n",
    "    for _ in range(num_messages):\n",
    "        atom_features = message_layer(atom_features, bond_features, connectivity)\n",
    "        \n",
    "    # Reduce to a single set of features per molecule\n",
    "    mol_features = Readout(name='readout')(atom_features, snode_graph_indices)\n",
    "    \n",
    "    # Create the output layer\n",
    "    output = layers.Dense(1, activation='linear', name='output')(mol_features)\n",
    "    \n",
    "    # Create the models by defining which layers are the inputs and which are the outputs\n",
    "    model = Model(inputs=[node_graph_indices, atom_types, bond_types, connectivity], outputs=output)\n",
    "    return model"
   ]
  },
  {
   "cell_type": "markdown",
   "id": "dress-budget",
   "metadata": {},
   "source": [
    "Walk through this summary to make sure you understand it. It should be exactly the workflow that we have earlier."
   ]
  },
  {
   "cell_type": "code",
   "execution_count": 20,
   "id": "bottom-present",
   "metadata": {},
   "outputs": [
    {
     "name": "stdout",
     "output_type": "stream",
     "text": [
      "Model: \"functional_1\"\n",
      "__________________________________________________________________________________________________\n",
      "Layer (type)                    Output Shape         Param #     Connected to                     \n",
      "==================================================================================================\n",
      "atom (InputLayer)               [(None, 1)]          0                                            \n",
      "__________________________________________________________________________________________________\n",
      "bond (InputLayer)               [(None, 1)]          0                                            \n",
      "__________________________________________________________________________________________________\n",
      "squeeze (Lambda)                (None,)              0           node_graph_indices[0][0]         \n",
      "                                                                 atom[0][0]                       \n",
      "                                                                 bond[0][0]                       \n",
      "__________________________________________________________________________________________________\n",
      "atom_embedding (Embedding)      (None, 2)            12          squeeze[1][0]                    \n",
      "__________________________________________________________________________________________________\n",
      "bond_embedding (Embedding)      (None, 2)            8           squeeze[2][0]                    \n",
      "__________________________________________________________________________________________________\n",
      "connectivity (InputLayer)       [(None, 2)]          0                                            \n",
      "__________________________________________________________________________________________________\n",
      "node_graph_indices (InputLayer) [(None, 1)]          0                                            \n",
      "__________________________________________________________________________________________________\n",
      "message_passing (MessagePassing (None, 2)            0           atom_embedding[0][0]             \n",
      "                                                                 bond_embedding[0][0]             \n",
      "                                                                 connectivity[0][0]               \n",
      "__________________________________________________________________________________________________\n",
      "readout (Readout)               (None, 2)            0           message_passing[0][0]            \n",
      "                                                                 squeeze[0][0]                    \n",
      "__________________________________________________________________________________________________\n",
      "output (Dense)                  (None, 1)            3           readout[0][0]                    \n",
      "==================================================================================================\n",
      "Total params: 23\n",
      "Trainable params: 23\n",
      "Non-trainable params: 0\n",
      "__________________________________________________________________________________________________\n"
     ]
    }
   ],
   "source": [
    "model = make_model(2, 1)\n",
    "model.summary()"
   ]
  },
  {
   "cell_type": "markdown",
   "id": "referenced-force",
   "metadata": {},
   "source": [
    "Train it"
   ]
  },
  {
   "cell_type": "code",
   "execution_count": 21,
   "id": "civilian-nature",
   "metadata": {},
   "outputs": [
    {
     "name": "stdout",
     "output_type": "stream",
     "text": [
      "Epoch 1/2\n"
     ]
    },
    {
     "name": "stderr",
     "output_type": "stream",
     "text": [
      "/home/wardlt/miniconda3/envs/molml/lib/python3.7/site-packages/tensorflow/python/keras/engine/functional.py:543: UserWarning: Input dict contained keys ['n_atom', 'n_bond', 'bond_graph_indices'] which did not match any model input. They will be ignored by the model.\n",
      "  [n for n in tensors.keys() if n not in ref_input_names])\n",
      "/home/wardlt/miniconda3/envs/molml/lib/python3.7/site-packages/tensorflow/python/framework/indexed_slices.py:432: UserWarning: Converting sparse IndexedSlices to a dense Tensor of unknown shape. This may consume a large amount of memory.\n",
      "  \"Converting sparse IndexedSlices to a dense Tensor of unknown shape. \"\n"
     ]
    },
    {
     "name": "stdout",
     "output_type": "stream",
     "text": [
      "10125/10125 [==============================] - 10s 956us/step - loss: 0.0437\n",
      "Epoch 2/2\n",
      "10125/10125 [==============================] - 10s 941us/step - loss: 0.0016\n"
     ]
    },
    {
     "data": {
      "text/plain": [
       "<tensorflow.python.keras.callbacks.History at 0x7fbc700b8c50>"
      ]
     },
     "execution_count": 21,
     "metadata": {},
     "output_type": "execute_result"
    }
   ],
   "source": [
    "model.compile(loss='mean_squared_error')\n",
    "model.fit(loader, epochs=2)"
   ]
  },
  {
   "cell_type": "markdown",
   "id": "august-sentence",
   "metadata": {},
   "source": [
    "See how we did"
   ]
  },
  {
   "cell_type": "code",
   "execution_count": 29,
   "id": "muslim-teaching",
   "metadata": {},
   "outputs": [],
   "source": [
    "y_true = np.hstack([x[1] for x in loader])  # Pulls data out of the data loader"
   ]
  },
  {
   "cell_type": "code",
   "execution_count": 30,
   "id": "printable-gazette",
   "metadata": {},
   "outputs": [
    {
     "name": "stderr",
     "output_type": "stream",
     "text": [
      "/home/wardlt/miniconda3/envs/molml/lib/python3.7/site-packages/tensorflow/python/keras/engine/functional.py:543: UserWarning: Input dict contained keys ['n_atom', 'n_bond', 'bond_graph_indices'] which did not match any model input. They will be ignored by the model.\n",
      "  [n for n in tensors.keys() if n not in ref_input_names])\n"
     ]
    }
   ],
   "source": [
    "y_pred = model.predict(loader)"
   ]
  },
  {
   "cell_type": "code",
   "execution_count": 34,
   "id": "polish-trash",
   "metadata": {},
   "outputs": [
    {
     "data": {
      "text/plain": [
       "Text(0, 0.5, '$E_{atom}$, ML (Ha)')"
      ]
     },
     "execution_count": 34,
     "metadata": {},
     "output_type": "execute_result"
    },
    {
     "data": {
      "image/png": "[encoded data removed]",
      "text/plain": [
       "<Figure size 432x288 with 1 Axes>"
      ]
     },
     "metadata": {
      "needs_background": "light"
     },
     "output_type": "display_data"
    }
   ],
   "source": [
    "fig, ax = plt.subplots()\n",
    "ax.scatter(y_pred, y_true)\n",
    "ax.set_xlabel('$E_{atom}$, DFT (Ha)')\n",
    "ax.set_ylabel('$E_{atom}$, ML (Ha)')"
   ]
  },
  {
   "cell_type": "markdown",
   "id": "double-sucking",
   "metadata": {},
   "source": [
    "Not bad for a model with 23 parameters!"
   ]
  },
  {
   "cell_type": "code",
   "execution_count": null,
   "id": "cleared-rochester",
   "metadata": {},
   "outputs": [],
   "source": []
  }
 ],
 "metadata": {
  "kernelspec": {
   "display_name": "Python 3",
   "language": "python",
   "name": "python3"
  },
  "language_info": {
   "codemirror_mode": {
    "name": "ipython",
    "version": 3
   },
   "file_extension": ".py",
   "mimetype": "text/x-python",
   "name": "python",
   "nbconvert_exporter": "python",
   "pygments_lexer": "ipython3",
   "version": "3.7.9"
  }
 },
 "nbformat": 4,
 "nbformat_minor": 5
}
