{
 "cells": [
  {
   "cell_type": "markdown",
   "metadata": {},
   "source": [
    "# Descriptor-Based ML\n",
    "An example of approaches used to do machine learning with chemical descriptors. \n",
    "\n",
    "We are going to use [Mordred](https://jcheminf.biomedcentral.com/articles/10.1186/s13321-018-0258-y#Sec1), a Python library that wraps RDKit and other codes so that they work better with the Python data and ML libraries."
   ]
  },
  {
   "cell_type": "code",
   "execution_count": 88,
   "metadata": {},
   "outputs": [],
   "source": [
    "%matplotlib inline\n",
    "from matplotlib import pyplot as plt\n",
    "from sklearn.pipeline import Pipeline\n",
    "from sklearn.preprocessing import StandardScaler\n",
    "from sklearn.decomposition import PCA\n",
    "from sklearn.model_selection import train_test_split\n",
    "from sklearn.linear_model import LassoCV\n",
    "from sklearn.metrics import r2_score, mean_absolute_error\n",
    "from sklearn.ensemble import RandomForestRegressor\n",
    "from mordred import Calculator, descriptors\n",
    "from rdkit import Chem\n",
    "import pandas as pd\n",
    "import numpy as np"
   ]
  },
  {
   "cell_type": "markdown",
   "metadata": {},
   "source": [
    "\n",
    "## Load in the Dataset\n",
    "We are going to use a copy of the [QM9 dataset](https://www.nr2_scorecom/articles/sdata201422) for this example"
   ]
  },
  {
   "cell_type": "code",
   "execution_count": 2,
   "metadata": {},
   "outputs": [
    {
     "name": "stdout",
     "output_type": "stream",
     "text": [
      "Loaded 1000 molecules\n"
     ]
    }
   ],
   "source": [
    "data = pd.read_json('../datasets/qm9.json.gz', lines=True).sample(1000)  # Do not need the full set to make a point.\n",
    "print(f'Loaded {len(data)} molecules')"
   ]
  },
  {
   "cell_type": "markdown",
   "metadata": {},
   "source": [
    "Parse as RDKit molecule objects"
   ]
  },
  {
   "cell_type": "code",
   "execution_count": 3,
   "metadata": {},
   "outputs": [],
   "source": [
    "data['mol'] = data['smiles_0'].apply(Chem.MolFromSmiles)"
   ]
  },
  {
   "cell_type": "markdown",
   "metadata": {},
   "source": [
    "## Descriptor Calculators with Modred\n",
    "The key unit for working with Mordred is the [``Calculator``](http://mordred-descriptor.github.io/documentation/master/mordred.html#mordred.Calculator) object."
   ]
  },
  {
   "cell_type": "code",
   "execution_count": 4,
   "metadata": {},
   "outputs": [],
   "source": [
    "calc = Calculator(descriptors, ignore_3D=True)"
   ]
  },
  {
   "cell_type": "markdown",
   "metadata": {},
   "source": [
    "Modred has a lot of descriptors, and we are going to use quite a few of them to demonstrate some points about machine learning. "
   ]
  },
  {
   "cell_type": "code",
   "execution_count": 5,
   "metadata": {},
   "outputs": [
    {
     "name": "stdout",
     "output_type": "stream",
     "text": [
      "First 10 out of 1613 descriptors\n"
     ]
    },
    {
     "data": {
      "text/plain": [
       "(mordred.ABCIndex.ABCIndex(),\n",
       " mordred.ABCIndex.ABCGGIndex(),\n",
       " mordred.AcidBase.AcidicGroupCount(),\n",
       " mordred.AcidBase.BasicGroupCount(),\n",
       " mordred.AdjacencyMatrix.AdjacencyMatrix('SpAbs'),\n",
       " mordred.AdjacencyMatrix.AdjacencyMatrix('SpMax'),\n",
       " mordred.AdjacencyMatrix.AdjacencyMatrix('SpDiam'),\n",
       " mordred.AdjacencyMatrix.AdjacencyMatrix('SpAD'),\n",
       " mordred.AdjacencyMatrix.AdjacencyMatrix('SpMAD'),\n",
       " mordred.AdjacencyMatrix.AdjacencyMatrix('LogEE'))"
      ]
     },
     "execution_count": 5,
     "metadata": {},
     "output_type": "execute_result"
    }
   ],
   "source": [
    "print(f'First 10 out of {len(calc.descriptors)} descriptors')\n",
    "calc.descriptors[:10]"
   ]
  },
  {
   "cell_type": "markdown",
   "metadata": {},
   "source": [
    "Modred also lets you compute these descriptors in parallel (using Python's [multiprocessing](https://docs.python.org/3/library/multiprocessing.html)) and stores them in a Pandas dataframe.\n",
    "\n",
    "*NOTE*: This takes about 6 minutes on my desktop computer. If it takes too long, just turn down the number of molecules sampled in cell 2."
   ]
  },
  {
   "cell_type": "code",
   "execution_count": 6,
   "metadata": {},
   "outputs": [
    {
     "name": "stderr",
     "output_type": "stream",
     "text": [
      "100%|███████████████████████████████████████| 1000/1000 [04:51<00:00,  3.43it/s]\n"
     ]
    }
   ],
   "source": [
    "desc = calc.pandas(data['mol'])"
   ]
  },
  {
   "cell_type": "code",
   "execution_count": 7,
   "metadata": {},
   "outputs": [
    {
     "name": "stdout",
     "output_type": "stream",
     "text": [
      "Computed 1613 descriptors for 1000 molecules\n"
     ]
    }
   ],
   "source": [
    "print(f'Computed {len(desc.columns)} descriptors for {len(desc)} molecules')"
   ]
  },
  {
   "cell_type": "markdown",
   "metadata": {},
   "source": [
    "## Preprocessing\n",
    "The main issue before using all of these features for machine learning, especially on small datasets, is the need to perform feature selection.\n",
    "\n",
    "There are few issues to be concerned about. \n",
    "\n",
    "For one, some of the descriptors are the same for all molecules."
   ]
  },
  {
   "cell_type": "code",
   "execution_count": 8,
   "metadata": {},
   "outputs": [
    {
     "name": "stderr",
     "output_type": "stream",
     "text": [
      "/Users/wueric/opt/anaconda3/envs/applied-ai/lib/python3.7/site-packages/ipykernel_launcher.py:1: FutureWarning: Dropping of nuisance columns in DataFrame reductions (with 'numeric_only=None') is deprecated; in a future version this will raise TypeError.  Select only valid columns before calling the reduction.\n",
      "  \"\"\"Entry point for launching an IPython kernel.\n"
     ]
    }
   ],
   "source": [
    "zero_variation = [c for c, s in desc.std().items() if s == 0]"
   ]
  },
  {
   "cell_type": "code",
   "execution_count": 9,
   "metadata": {},
   "outputs": [
    {
     "name": "stdout",
     "output_type": "stream",
     "text": [
      "198 (12.3%) features are constant for the dataset. Examples: ['nB', 'nS', 'nP', 'nCl', 'nBr']\n"
     ]
    }
   ],
   "source": [
    "print(f'{len(zero_variation)} ({len(zero_variation) / len(desc.columns) *100:.1f}%) features are constant for the dataset. Examples: {zero_variation[:5]}')"
   ]
  },
  {
   "cell_type": "markdown",
   "metadata": {},
   "source": [
    "Many of these features may be improtant for some datasets but not ours. For example, our dataset contains only C, H, N, O and F so the number of boron atoms is not needed.\n",
    "\n",
    "We can safely drop these columns"
   ]
  },
  {
   "cell_type": "code",
   "execution_count": 2,
   "metadata": {},
   "outputs": [
    {
     "ename": "NameError",
     "evalue": "name 'desc' is not defined",
     "output_type": "error",
     "traceback": [
      "\u001b[0;31m---------------------------------------------------------------------------\u001b[0m",
      "\u001b[0;31mNameError\u001b[0m                                 Traceback (most recent call last)",
      "\u001b[0;32m/var/folders/07/j094z021631566crlk8cdmvm0000gn/T/ipykernel_4944/3722498112.py\u001b[0m in \u001b[0;36m<module>\u001b[0;34m\u001b[0m\n\u001b[0;32m----> 1\u001b[0;31m \u001b[0mdesc\u001b[0m\u001b[0;34m.\u001b[0m\u001b[0mdrop\u001b[0m\u001b[0;34m(\u001b[0m\u001b[0mcolumns\u001b[0m\u001b[0;34m=\u001b[0m\u001b[0mzero_variation\u001b[0m\u001b[0;34m,\u001b[0m \u001b[0minplace\u001b[0m\u001b[0;34m=\u001b[0m\u001b[0;32mTrue\u001b[0m\u001b[0;34m)\u001b[0m\u001b[0;34m\u001b[0m\u001b[0;34m\u001b[0m\u001b[0m\n\u001b[0m\u001b[1;32m      2\u001b[0m \u001b[0mprint\u001b[0m\u001b[0;34m(\u001b[0m\u001b[0;34mf'New shape: {desc.shape}'\u001b[0m\u001b[0;34m)\u001b[0m\u001b[0;34m\u001b[0m\u001b[0;34m\u001b[0m\u001b[0m\n",
      "\u001b[0;31mNameError\u001b[0m: name 'desc' is not defined"
     ]
    }
   ],
   "source": [
    "desc.drop(columns=zero_variation, inplace=True)\n",
    "print(f'New shape: {desc.shape}')"
   ]
  },
  {
   "cell_type": "markdown",
   "metadata": {},
   "source": [
    "Next, we are going to convert all of the values to numbers. It just makes things easier"
   ]
  },
  {
   "cell_type": "code",
   "execution_count": 11,
   "metadata": {},
   "outputs": [],
   "source": [
    "for c in desc.columns:\n",
    "    desc[c] = pd.to_numeric(desc[c], errors='coerce')"
   ]
  },
  {
   "cell_type": "markdown",
   "metadata": {},
   "source": [
    "Then, we look for features that have missing values. \n",
    "\n",
    "*Dev Note*: We use the [`isnull`](https://pandas.pydata.org/pandas-docs/stable/reference/api/pandas.isnull.html) and [`any`](https://pandas.pydata.org/pandas-docs/stable/reference/api/pandas.DataFrame.any.html) functions from Pandas to check if any rows of each column have a null value. In many cases, you can write complex loops in Pandas as simple efficient statements. So, if you start writing a loop over a column maybe check the Pandas docs for an example before getting too far."
   ]
  },
  {
   "cell_type": "code",
   "execution_count": 12,
   "metadata": {},
   "outputs": [
    {
     "name": "stdout",
     "output_type": "stream",
     "text": [
      "Found 387 columns with missing values\n"
     ]
    }
   ],
   "source": [
    "missing_values = desc.isnull().any()\n",
    "print(f'Found {missing_values.sum()} columns with missing values')"
   ]
  },
  {
   "cell_type": "code",
   "execution_count": 13,
   "metadata": {},
   "outputs": [
    {
     "name": "stdout",
     "output_type": "stream",
     "text": [
      "New shape: (1000, 1028)\n"
     ]
    }
   ],
   "source": [
    "desc = desc.loc[:, ~missing_values]  # Gets only columns that do not (~ means not) have missing values\n",
    "print(f'New shape: {desc.shape}')"
   ]
  },
  {
   "cell_type": "markdown",
   "metadata": {},
   "source": [
    "## Testings Components a Model Pipeline\n",
    "The data require a few more transformations before we can use them in a machine learning model\n",
    "\n",
    "### Adjust Features to the Same Scale\n",
    "First, we need to scale the data. If we randomly select a few columns, you will see that they vary wildly in values"
   ]
  },
  {
   "cell_type": "code",
   "execution_count": 14,
   "metadata": {},
   "outputs": [
    {
     "data": {
      "text/html": [
       "<div>\n",
       "<style scoped>\n",
       "    .dataframe tbody tr th:only-of-type {\n",
       "        vertical-align: middle;\n",
       "    }\n",
       "\n",
       "    .dataframe tbody tr th {\n",
       "        vertical-align: top;\n",
       "    }\n",
       "\n",
       "    .dataframe thead th {\n",
       "        text-align: right;\n",
       "    }\n",
       "</style>\n",
       "<table border=\"1\" class=\"dataframe\">\n",
       "  <thead>\n",
       "    <tr style=\"text-align: right;\">\n",
       "      <th></th>\n",
       "      <th>AATS4p</th>\n",
       "      <th>GATS1m</th>\n",
       "      <th>AMID_C</th>\n",
       "      <th>AATS1s</th>\n",
       "      <th>VSA_EState5</th>\n",
       "      <th>nHRing</th>\n",
       "      <th>AATSC4m</th>\n",
       "      <th>NaaaC</th>\n",
       "    </tr>\n",
       "  </thead>\n",
       "  <tbody>\n",
       "    <tr>\n",
       "      <th>count</th>\n",
       "      <td>1000.000000</td>\n",
       "      <td>1000.000000</td>\n",
       "      <td>1000.000000</td>\n",
       "      <td>1000.000000</td>\n",
       "      <td>1000.000000</td>\n",
       "      <td>1000.000000</td>\n",
       "      <td>1000.000000</td>\n",
       "      <td>1000.000000</td>\n",
       "    </tr>\n",
       "    <tr>\n",
       "      <th>mean</th>\n",
       "      <td>0.909157</td>\n",
       "      <td>0.863638</td>\n",
       "      <td>1.434753</td>\n",
       "      <td>3.207923</td>\n",
       "      <td>0.968365</td>\n",
       "      <td>0.982000</td>\n",
       "      <td>-4.984947</td>\n",
       "      <td>0.011000</td>\n",
       "    </tr>\n",
       "    <tr>\n",
       "      <th>std</th>\n",
       "      <td>0.152040</td>\n",
       "      <td>0.164189</td>\n",
       "      <td>0.274010</td>\n",
       "      <td>0.912939</td>\n",
       "      <td>1.589473</td>\n",
       "      <td>0.882301</td>\n",
       "      <td>8.188360</td>\n",
       "      <td>0.144568</td>\n",
       "    </tr>\n",
       "    <tr>\n",
       "      <th>min</th>\n",
       "      <td>0.395807</td>\n",
       "      <td>0.449505</td>\n",
       "      <td>0.547670</td>\n",
       "      <td>1.600000</td>\n",
       "      <td>-2.312500</td>\n",
       "      <td>0.000000</td>\n",
       "      <td>-38.016730</td>\n",
       "      <td>0.000000</td>\n",
       "    </tr>\n",
       "    <tr>\n",
       "      <th>25%</th>\n",
       "      <td>0.815400</td>\n",
       "      <td>0.750397</td>\n",
       "      <td>1.273692</td>\n",
       "      <td>2.526791</td>\n",
       "      <td>0.000000</td>\n",
       "      <td>0.000000</td>\n",
       "      <td>-9.520728</td>\n",
       "      <td>0.000000</td>\n",
       "    </tr>\n",
       "    <tr>\n",
       "      <th>50%</th>\n",
       "      <td>0.901840</td>\n",
       "      <td>0.849097</td>\n",
       "      <td>1.463444</td>\n",
       "      <td>3.060560</td>\n",
       "      <td>0.439236</td>\n",
       "      <td>1.000000</td>\n",
       "      <td>-4.721601</td>\n",
       "      <td>0.000000</td>\n",
       "    </tr>\n",
       "    <tr>\n",
       "      <th>75%</th>\n",
       "      <td>0.989257</td>\n",
       "      <td>0.969559</td>\n",
       "      <td>1.610294</td>\n",
       "      <td>3.722222</td>\n",
       "      <td>1.465278</td>\n",
       "      <td>1.000000</td>\n",
       "      <td>0.175707</td>\n",
       "      <td>0.000000</td>\n",
       "    </tr>\n",
       "    <tr>\n",
       "      <th>max</th>\n",
       "      <td>1.781128</td>\n",
       "      <td>1.444444</td>\n",
       "      <td>2.251479</td>\n",
       "      <td>7.527778</td>\n",
       "      <td>10.666667</td>\n",
       "      <td>5.000000</td>\n",
       "      <td>38.230613</td>\n",
       "      <td>2.000000</td>\n",
       "    </tr>\n",
       "  </tbody>\n",
       "</table>\n",
       "</div>"
      ],
      "text/plain": [
       "            AATS4p       GATS1m       AMID_C       AATS1s  VSA_EState5  \\\n",
       "count  1000.000000  1000.000000  1000.000000  1000.000000  1000.000000   \n",
       "mean      0.909157     0.863638     1.434753     3.207923     0.968365   \n",
       "std       0.152040     0.164189     0.274010     0.912939     1.589473   \n",
       "min       0.395807     0.449505     0.547670     1.600000    -2.312500   \n",
       "25%       0.815400     0.750397     1.273692     2.526791     0.000000   \n",
       "50%       0.901840     0.849097     1.463444     3.060560     0.439236   \n",
       "75%       0.989257     0.969559     1.610294     3.722222     1.465278   \n",
       "max       1.781128     1.444444     2.251479     7.527778    10.666667   \n",
       "\n",
       "            nHRing      AATSC4m        NaaaC  \n",
       "count  1000.000000  1000.000000  1000.000000  \n",
       "mean      0.982000    -4.984947     0.011000  \n",
       "std       0.882301     8.188360     0.144568  \n",
       "min       0.000000   -38.016730     0.000000  \n",
       "25%       0.000000    -9.520728     0.000000  \n",
       "50%       1.000000    -4.721601     0.000000  \n",
       "75%       1.000000     0.175707     0.000000  \n",
       "max       5.000000    38.230613     2.000000  "
      ]
     },
     "execution_count": 14,
     "metadata": {},
     "output_type": "execute_result"
    }
   ],
   "source": [
    "desc.sample(8, axis=1).describe()"
   ]
  },
  {
   "cell_type": "markdown",
   "metadata": {},
   "source": [
    "There are many ways to scale it. We are going to use the [`StandardScaler`](https://scikit-learn.org/stable/modules/generated/sklearn.preprocessing.StandardScaler.html) to adjust so that the mean is zero and the standard deviation is 1."
   ]
  },
  {
   "cell_type": "code",
   "execution_count": 15,
   "metadata": {},
   "outputs": [],
   "source": [
    "scaler = StandardScaler()\n",
    "feats = scaler.fit_transform(desc)"
   ]
  },
  {
   "cell_type": "markdown",
   "metadata": {},
   "source": [
    "This \"scaler\" object holds on to the means and scales of each feature so that we can then apply them to new data. You'll see where this is useful later."
   ]
  },
  {
   "cell_type": "code",
   "execution_count": 16,
   "metadata": {},
   "outputs": [
    {
     "data": {
      "text/plain": [
       "(array([6.71704700e+00, 6.82397600e+00, 7.00000000e-03, 2.91000000e-01,\n",
       "        1.08920638e+01, 2.42767765e+00, 4.62777699e+00, 1.08920638e+01]),\n",
       " array([0.76030933, 0.74780865, 0.10464703, 0.59859753, 0.98154039,\n",
       "        0.2374076 , 0.39342869, 0.98154039]))"
      ]
     },
     "execution_count": 16,
     "metadata": {},
     "output_type": "execute_result"
    }
   ],
   "source": [
    "scaler.mean_[:8], scaler.scale_[:8]"
   ]
  },
  {
   "cell_type": "code",
   "execution_count": 17,
   "metadata": {},
   "outputs": [
    {
     "data": {
      "text/plain": [
       "(array([ 5.61328761e-16, -7.54951657e-16, -2.22044605e-17, -1.77635684e-17,\n",
       "        -1.46549439e-16, -5.22248911e-16,  1.35713663e-15, -1.27009514e-16]),\n",
       " array([1., 1., 1., 1., 1., 1., 1., 1.]))"
      ]
     },
     "execution_count": 17,
     "metadata": {},
     "output_type": "execute_result"
    }
   ],
   "source": [
    "feats[:, :8].mean(axis=0), feats[:, :8].std(axis=0)"
   ]
  },
  {
   "cell_type": "markdown",
   "metadata": {},
   "source": [
    "### Compress Features\n",
    "Many of the features in the dataset are strongly correlated with each other. For larger datasets, the subtle differences between different features could be helpful in building models. For smaller datasets, the strong correlations could lead to overfitting (e.g., some algorithms will learn preferrentially from the signals that are overrepresented in the model)"
   ]
  },
  {
   "cell_type": "code",
   "execution_count": 18,
   "metadata": {},
   "outputs": [],
   "source": [
    "cross_corr = np.corrcoef(feats.T)  # Feats.T is the transpose, which allows us to easily compute the correlation between descriptors"
   ]
  },
  {
   "cell_type": "code",
   "execution_count": 19,
   "metadata": {},
   "outputs": [
    {
     "data": {
      "text/plain": [
       "Text(0.5, 0, 'Descriptor ID')"
      ]
     },
     "execution_count": 19,
     "metadata": {},
     "output_type": "execute_result"
    },
    {
     "data": {
      "image/png": "[encoded data removed]",
      "text/plain": [
       "<Figure size 432x288 with 1 Axes>"
      ]
     },
     "metadata": {
      "needs_background": "light"
     },
     "output_type": "display_data"
    }
   ],
   "source": [
    "fig, ax = plt.subplots()\n",
    "\n",
    "ax.bar(range(len(cross_corr)-1), cross_corr[0, 1:])\n",
    "\n",
    "ax.set_ylim(-1, 1)\n",
    "ax.set_ylabel(f'Correlation with {desc.columns[0]}')\n",
    "ax.set_xlabel('Descriptor ID')"
   ]
  },
  {
   "cell_type": "markdown",
   "metadata": {},
   "source": [
    "Note how many of the features are correlated strongly with each other.\n",
    "\n",
    "There are [numerous ways](https://scikit-learn.org/stable/modules/classes.html#module-sklearn.decomposition) to compress a set of features to a smaller set of the features that contain roughly the same information. We will use [Principle Component Analysis](https://scikit-learn.org/stable/modules/generated/sklearn.decomposition.PCA.html) for its relative simplicity"
   ]
  },
  {
   "cell_type": "code",
   "execution_count": 20,
   "metadata": {},
   "outputs": [],
   "source": [
    "pca = PCA().fit(feats)"
   ]
  },
  {
   "cell_type": "markdown",
   "metadata": {},
   "source": [
    "PCA creates a new set of features that are linear combinations of the descriptors. One of the best things about PCA is that it can also show how how much of the data is explained by the new features."
   ]
  },
  {
   "cell_type": "code",
   "execution_count": 21,
   "metadata": {},
   "outputs": [
    {
     "data": {
      "text/plain": [
       "Text(0, 0.5, 'Explained Variance')"
      ]
     },
     "execution_count": 21,
     "metadata": {},
     "output_type": "execute_result"
    },
    {
     "data": {
      "image/png": "[encoded data removed]",
      "text/plain": [
       "<Figure size 432x288 with 1 Axes>"
      ]
     },
     "metadata": {
      "needs_background": "light"
     },
     "output_type": "display_data"
    }
   ],
   "source": [
    "fig, ax = plt.subplots()\n",
    "\n",
    "num_features = 32\n",
    "ax.plot(1 + np.arange(num_features),\n",
    "           np.cumsum(pca.explained_variance_ratio_)[:num_features], 'o--')\n",
    "\n",
    "ax.set_xlabel('Number of Features')\n",
    "ax.set_ylabel('Explained Variance')"
   ]
  },
  {
   "cell_type": "markdown",
   "metadata": {},
   "source": [
    "Note that as we increase the number of features, we start to gradually explain more of the data.\n",
    "\n",
    "Let's pick 16 features for now to illustrate the new features"
   ]
  },
  {
   "cell_type": "code",
   "execution_count": 1,
   "metadata": {},
   "outputs": [
    {
     "ename": "NameError",
     "evalue": "name 'pca' is not defined",
     "output_type": "error",
     "traceback": [
      "\u001b[0;31m---------------------------------------------------------------------------\u001b[0m",
      "\u001b[0;31mNameError\u001b[0m                                 Traceback (most recent call last)",
      "\u001b[0;32m/var/folders/07/j094z021631566crlk8cdmvm0000gn/T/ipykernel_4944/2437217296.py\u001b[0m in \u001b[0;36m<module>\u001b[0;34m\u001b[0m\n\u001b[0;32m----> 1\u001b[0;31m \u001b[0mpca\u001b[0m\u001b[0;34m.\u001b[0m\u001b[0mn_components\u001b[0m \u001b[0;34m=\u001b[0m \u001b[0;36m16\u001b[0m\u001b[0;34m\u001b[0m\u001b[0;34m\u001b[0m\u001b[0m\n\u001b[0m\u001b[1;32m      2\u001b[0m \u001b[0mpca_feats\u001b[0m \u001b[0;34m=\u001b[0m \u001b[0mpca\u001b[0m\u001b[0;34m.\u001b[0m\u001b[0mfit_transform\u001b[0m\u001b[0;34m(\u001b[0m\u001b[0mfeats\u001b[0m\u001b[0;34m)\u001b[0m\u001b[0;34m\u001b[0m\u001b[0;34m\u001b[0m\u001b[0m\n",
      "\u001b[0;31mNameError\u001b[0m: name 'pca' is not defined"
     ]
    }
   ],
   "source": [
    "pca.n_components = 16\n",
    "pca_feats = pca.fit_transform(feats)"
   ]
  },
  {
   "cell_type": "markdown",
   "metadata": {},
   "source": [
    "These are all mutually orthogonal"
   ]
  },
  {
   "cell_type": "code",
   "execution_count": 23,
   "metadata": {},
   "outputs": [
    {
     "name": "stdout",
     "output_type": "stream",
     "text": [
      "The largest correlation between feature 0 and all others is 2.30e-17\n"
     ]
    }
   ],
   "source": [
    "cross_corr = np.corrcoef(pca_feats.T)\n",
    "print(f'The largest correlation between feature 0 and all others is {max(cross_corr[0, 1:]):.2e}')"
   ]
  },
  {
   "cell_type": "markdown",
   "metadata": {},
   "source": [
    "### Select Features\n",
    "The last issue is that not all of the features are correlated well with the target variable. "
   ]
  },
  {
   "cell_type": "code",
   "execution_count": 24,
   "metadata": {},
   "outputs": [],
   "source": [
    "feat_score = [np.corrcoef(data['bandgap'], f)[0][1] for f in pca_feats.T]"
   ]
  },
  {
   "cell_type": "code",
   "execution_count": 25,
   "metadata": {
    "scrolled": true
   },
   "outputs": [
    {
     "data": {
      "text/plain": [
       "Text(0.5, 0, 'Feature ID')"
      ]
     },
     "execution_count": 25,
     "metadata": {},
     "output_type": "execute_result"
    },
    {
     "data": {
      "image/png": "[encoded data removed]",
      "text/plain": [
       "<Figure size 432x288 with 1 Axes>"
      ]
     },
     "metadata": {
      "needs_background": "light"
     },
     "output_type": "display_data"
    }
   ],
   "source": [
    "fig, ax = plt.subplots()\n",
    "\n",
    "ax.bar(range(len(feat_score)), feat_score)\n",
    "\n",
    "ax.set_ylim(-1, 1)\n",
    "ax.set_ylabel(f'Correlation with Band Gap')\n",
    "ax.set_xlabel('Feature ID')"
   ]
  },
  {
   "cell_type": "markdown",
   "metadata": {},
   "source": [
    "This last portion means that we need to consider even more feature selection to select only those features which are relevant to the problem being modeled.\n",
    "\n",
    "For that, we are going to use [LASSO](https://scikit-learn.org/stable/modules/linear_model.html#lasso) - a linear regression model that automatically includes only the most important features. The penalty used to determine how many features are used, $\\alpha$, must be set by experimenting with different values. Scikit-Learn has the [LassoCV](https://scikit-learn.org/stable/modules/generated/sklearn.linear_model.LassoCV.html#sklearn.linear_model.LassoCV) class that automatically select the best $\\alpha$ for you using cross-validation."
   ]
  },
  {
   "cell_type": "code",
   "execution_count": 26,
   "metadata": {},
   "outputs": [],
   "source": [
    "lasso = LassoCV().fit(pca_feats, data['bandgap'])"
   ]
  },
  {
   "cell_type": "code",
   "execution_count": 27,
   "metadata": {},
   "outputs": [
    {
     "data": {
      "text/plain": [
       "Text(0.5, 0, 'Feature ID')"
      ]
     },
     "execution_count": 27,
     "metadata": {},
     "output_type": "execute_result"
    },
    {
     "data": {
      "image/png": "[encoded data removed]",
      "text/plain": [
       "<Figure size 432x288 with 1 Axes>"
      ]
     },
     "metadata": {
      "needs_background": "light"
     },
     "output_type": "display_data"
    }
   ],
   "source": [
    "fig, ax = plt.subplots()\n",
    "\n",
    "ax.bar(range(len(feat_score)), lasso.coef_)\n",
    "ax.set_xlim(ax.get_xlim())\n",
    "ax.plot(ax.get_xlim(), [0, 0], 'k--', lw=1.)\n",
    "\n",
    "ax.set_ylabel(f'Correlation with Band Gap')\n",
    "ax.set_xlabel('Feature ID')"
   ]
  },
  {
   "cell_type": "markdown",
   "metadata": {},
   "source": [
    "Depending on your configuration for this notebook, you may notice some of the coefficients are 0."
   ]
  },
  {
   "cell_type": "markdown",
   "metadata": {},
   "source": [
    "## Putting it Together\n",
    "Scikit-Learn includes a [Pipeline](https://scikit-learn.org/stable/modules/generated/sklearn.pipeline.Pipeline.html) function to make it easier to train models that contain multiple steps. It is a fantastic tool to become familiar with because, as we will demonstrate, it makes experimenting with model settings easier."
   ]
  },
  {
   "cell_type": "markdown",
   "metadata": {},
   "source": [
    "Step 1: Make a holdout-set. Not that I split both the data and the descriptors at the same time, which means the same rows (i.e., molecules) get partitioned from each array. `train_data[0]` is the same record as `train_desc[0]`"
   ]
  },
  {
   "cell_type": "code",
   "execution_count": 89,
   "metadata": {},
   "outputs": [],
   "source": [
    "train_data, test_data, train_desc, test_desc = train_test_split(data, desc, test_size=0.1)"
   ]
  },
  {
   "cell_type": "code",
   "execution_count": 90,
   "metadata": {},
   "outputs": [
    {
     "data": {
      "text/html": [
       "<div>\n",
       "<style scoped>\n",
       "    .dataframe tbody tr th:only-of-type {\n",
       "        vertical-align: middle;\n",
       "    }\n",
       "\n",
       "    .dataframe tbody tr th {\n",
       "        vertical-align: top;\n",
       "    }\n",
       "\n",
       "    .dataframe thead th {\n",
       "        text-align: right;\n",
       "    }\n",
       "</style>\n",
       "<table border=\"1\" class=\"dataframe\">\n",
       "  <thead>\n",
       "    <tr style=\"text-align: right;\">\n",
       "      <th></th>\n",
       "      <th>ABC</th>\n",
       "      <th>ABCGG</th>\n",
       "      <th>nAcid</th>\n",
       "      <th>nBase</th>\n",
       "      <th>SpAbs_A</th>\n",
       "      <th>SpMax_A</th>\n",
       "      <th>SpDiam_A</th>\n",
       "      <th>SpAD_A</th>\n",
       "      <th>SpMAD_A</th>\n",
       "      <th>LogEE_A</th>\n",
       "      <th>...</th>\n",
       "      <th>SRW10</th>\n",
       "      <th>TSRW10</th>\n",
       "      <th>MW</th>\n",
       "      <th>AMW</th>\n",
       "      <th>WPath</th>\n",
       "      <th>WPol</th>\n",
       "      <th>Zagreb1</th>\n",
       "      <th>Zagreb2</th>\n",
       "      <th>mZagreb1</th>\n",
       "      <th>mZagreb2</th>\n",
       "    </tr>\n",
       "  </thead>\n",
       "  <tbody>\n",
       "    <tr>\n",
       "      <th>8779</th>\n",
       "      <td>7.723905</td>\n",
       "      <td>7.878257</td>\n",
       "      <td>0</td>\n",
       "      <td>1</td>\n",
       "      <td>11.615198</td>\n",
       "      <td>2.707662</td>\n",
       "      <td>5.217976</td>\n",
       "      <td>11.615198</td>\n",
       "      <td>1.290578</td>\n",
       "      <td>3.348773</td>\n",
       "      <td>...</td>\n",
       "      <td>10.367001</td>\n",
       "      <td>62.863863</td>\n",
       "      <td>124.063663</td>\n",
       "      <td>7.297863</td>\n",
       "      <td>78</td>\n",
       "      <td>9</td>\n",
       "      <td>60.0</td>\n",
       "      <td>80.0</td>\n",
       "      <td>2.395833</td>\n",
       "      <td>1.777778</td>\n",
       "    </tr>\n",
       "    <tr>\n",
       "      <th>22572</th>\n",
       "      <td>5.766244</td>\n",
       "      <td>6.027282</td>\n",
       "      <td>0</td>\n",
       "      <td>0</td>\n",
       "      <td>10.472136</td>\n",
       "      <td>2.000000</td>\n",
       "      <td>4.000000</td>\n",
       "      <td>10.472136</td>\n",
       "      <td>1.163571</td>\n",
       "      <td>3.007971</td>\n",
       "      <td>...</td>\n",
       "      <td>7.739359</td>\n",
       "      <td>34.994205</td>\n",
       "      <td>128.083730</td>\n",
       "      <td>6.099225</td>\n",
       "      <td>110</td>\n",
       "      <td>7</td>\n",
       "      <td>32.0</td>\n",
       "      <td>31.0</td>\n",
       "      <td>4.361111</td>\n",
       "      <td>2.416667</td>\n",
       "    </tr>\n",
       "    <tr>\n",
       "      <th>10244</th>\n",
       "      <td>6.432911</td>\n",
       "      <td>6.454586</td>\n",
       "      <td>0</td>\n",
       "      <td>0</td>\n",
       "      <td>10.796691</td>\n",
       "      <td>2.288246</td>\n",
       "      <td>4.576491</td>\n",
       "      <td>10.796691</td>\n",
       "      <td>1.199632</td>\n",
       "      <td>3.109446</td>\n",
       "      <td>...</td>\n",
       "      <td>9.001962</td>\n",
       "      <td>38.370040</td>\n",
       "      <td>118.078250</td>\n",
       "      <td>6.214645</td>\n",
       "      <td>100</td>\n",
       "      <td>7</td>\n",
       "      <td>40.0</td>\n",
       "      <td>44.0</td>\n",
       "      <td>3.472222</td>\n",
       "      <td>2.194444</td>\n",
       "    </tr>\n",
       "    <tr>\n",
       "      <th>20290</th>\n",
       "      <td>6.302351</td>\n",
       "      <td>7.270943</td>\n",
       "      <td>0</td>\n",
       "      <td>1</td>\n",
       "      <td>11.278503</td>\n",
       "      <td>2.519914</td>\n",
       "      <td>4.570932</td>\n",
       "      <td>11.278503</td>\n",
       "      <td>1.253167</td>\n",
       "      <td>3.180780</td>\n",
       "      <td>...</td>\n",
       "      <td>9.372374</td>\n",
       "      <td>59.406478</td>\n",
       "      <td>120.068748</td>\n",
       "      <td>7.062868</td>\n",
       "      <td>89</td>\n",
       "      <td>10</td>\n",
       "      <td>44.0</td>\n",
       "      <td>54.0</td>\n",
       "      <td>4.173611</td>\n",
       "      <td>2.291667</td>\n",
       "    </tr>\n",
       "    <tr>\n",
       "      <th>24254</th>\n",
       "      <td>6.473351</td>\n",
       "      <td>6.191587</td>\n",
       "      <td>0</td>\n",
       "      <td>0</td>\n",
       "      <td>11.142106</td>\n",
       "      <td>2.200122</td>\n",
       "      <td>4.400244</td>\n",
       "      <td>11.142106</td>\n",
       "      <td>1.238012</td>\n",
       "      <td>3.089776</td>\n",
       "      <td>...</td>\n",
       "      <td>8.606851</td>\n",
       "      <td>37.313444</td>\n",
       "      <td>126.042927</td>\n",
       "      <td>8.402862</td>\n",
       "      <td>88</td>\n",
       "      <td>9</td>\n",
       "      <td>40.0</td>\n",
       "      <td>43.0</td>\n",
       "      <td>3.472222</td>\n",
       "      <td>2.166667</td>\n",
       "    </tr>\n",
       "    <tr>\n",
       "      <th>...</th>\n",
       "      <td>...</td>\n",
       "      <td>...</td>\n",
       "      <td>...</td>\n",
       "      <td>...</td>\n",
       "      <td>...</td>\n",
       "      <td>...</td>\n",
       "      <td>...</td>\n",
       "      <td>...</td>\n",
       "      <td>...</td>\n",
       "      <td>...</td>\n",
       "      <td>...</td>\n",
       "      <td>...</td>\n",
       "      <td>...</td>\n",
       "      <td>...</td>\n",
       "      <td>...</td>\n",
       "      <td>...</td>\n",
       "      <td>...</td>\n",
       "      <td>...</td>\n",
       "      <td>...</td>\n",
       "      <td>...</td>\n",
       "      <td>...</td>\n",
       "    </tr>\n",
       "    <tr>\n",
       "      <th>7368</th>\n",
       "      <td>7.057238</td>\n",
       "      <td>7.482955</td>\n",
       "      <td>0</td>\n",
       "      <td>0</td>\n",
       "      <td>11.293771</td>\n",
       "      <td>2.671726</td>\n",
       "      <td>4.966565</td>\n",
       "      <td>11.293771</td>\n",
       "      <td>1.254863</td>\n",
       "      <td>3.273091</td>\n",
       "      <td>...</td>\n",
       "      <td>10.030164</td>\n",
       "      <td>62.234591</td>\n",
       "      <td>122.073165</td>\n",
       "      <td>6.424903</td>\n",
       "      <td>86</td>\n",
       "      <td>8</td>\n",
       "      <td>52.0</td>\n",
       "      <td>67.0</td>\n",
       "      <td>3.284722</td>\n",
       "      <td>2.000000</td>\n",
       "    </tr>\n",
       "    <tr>\n",
       "      <th>5103</th>\n",
       "      <td>7.685364</td>\n",
       "      <td>7.633718</td>\n",
       "      <td>0</td>\n",
       "      <td>1</td>\n",
       "      <td>12.386741</td>\n",
       "      <td>2.653932</td>\n",
       "      <td>4.945719</td>\n",
       "      <td>12.386741</td>\n",
       "      <td>1.376305</td>\n",
       "      <td>3.372350</td>\n",
       "      <td>...</td>\n",
       "      <td>10.030693</td>\n",
       "      <td>63.733546</td>\n",
       "      <td>127.063329</td>\n",
       "      <td>7.059074</td>\n",
       "      <td>82</td>\n",
       "      <td>9</td>\n",
       "      <td>58.0</td>\n",
       "      <td>76.0</td>\n",
       "      <td>2.305556</td>\n",
       "      <td>1.805556</td>\n",
       "    </tr>\n",
       "    <tr>\n",
       "      <th>23399</th>\n",
       "      <td>7.828530</td>\n",
       "      <td>8.074563</td>\n",
       "      <td>0</td>\n",
       "      <td>1</td>\n",
       "      <td>11.148155</td>\n",
       "      <td>2.833740</td>\n",
       "      <td>5.497187</td>\n",
       "      <td>11.148155</td>\n",
       "      <td>1.238684</td>\n",
       "      <td>3.384376</td>\n",
       "      <td>...</td>\n",
       "      <td>10.853464</td>\n",
       "      <td>64.452744</td>\n",
       "      <td>125.084064</td>\n",
       "      <td>6.254203</td>\n",
       "      <td>76</td>\n",
       "      <td>9</td>\n",
       "      <td>64.0</td>\n",
       "      <td>89.0</td>\n",
       "      <td>3.097222</td>\n",
       "      <td>1.687500</td>\n",
       "    </tr>\n",
       "    <tr>\n",
       "      <th>24325</th>\n",
       "      <td>6.084081</td>\n",
       "      <td>6.128166</td>\n",
       "      <td>0</td>\n",
       "      <td>0</td>\n",
       "      <td>8.947017</td>\n",
       "      <td>2.311302</td>\n",
       "      <td>4.414525</td>\n",
       "      <td>8.947017</td>\n",
       "      <td>1.118377</td>\n",
       "      <td>3.006038</td>\n",
       "      <td>...</td>\n",
       "      <td>8.782169</td>\n",
       "      <td>50.541414</td>\n",
       "      <td>116.047344</td>\n",
       "      <td>7.252959</td>\n",
       "      <td>58</td>\n",
       "      <td>6</td>\n",
       "      <td>40.0</td>\n",
       "      <td>43.0</td>\n",
       "      <td>3.923611</td>\n",
       "      <td>1.666667</td>\n",
       "    </tr>\n",
       "    <tr>\n",
       "      <th>24245</th>\n",
       "      <td>5.875634</td>\n",
       "      <td>6.339087</td>\n",
       "      <td>0</td>\n",
       "      <td>0</td>\n",
       "      <td>10.290762</td>\n",
       "      <td>2.074313</td>\n",
       "      <td>4.148627</td>\n",
       "      <td>10.290762</td>\n",
       "      <td>1.143418</td>\n",
       "      <td>3.018430</td>\n",
       "      <td>...</td>\n",
       "      <td>8.069968</td>\n",
       "      <td>35.817252</td>\n",
       "      <td>126.079313</td>\n",
       "      <td>6.635753</td>\n",
       "      <td>100</td>\n",
       "      <td>8</td>\n",
       "      <td>34.0</td>\n",
       "      <td>34.0</td>\n",
       "      <td>4.972222</td>\n",
       "      <td>2.333333</td>\n",
       "    </tr>\n",
       "  </tbody>\n",
       "</table>\n",
       "<p>900 rows × 1028 columns</p>\n",
       "</div>"
      ],
      "text/plain": [
       "            ABC     ABCGG  nAcid  nBase    SpAbs_A   SpMax_A  SpDiam_A  \\\n",
       "8779   7.723905  7.878257      0      1  11.615198  2.707662  5.217976   \n",
       "22572  5.766244  6.027282      0      0  10.472136  2.000000  4.000000   \n",
       "10244  6.432911  6.454586      0      0  10.796691  2.288246  4.576491   \n",
       "20290  6.302351  7.270943      0      1  11.278503  2.519914  4.570932   \n",
       "24254  6.473351  6.191587      0      0  11.142106  2.200122  4.400244   \n",
       "...         ...       ...    ...    ...        ...       ...       ...   \n",
       "7368   7.057238  7.482955      0      0  11.293771  2.671726  4.966565   \n",
       "5103   7.685364  7.633718      0      1  12.386741  2.653932  4.945719   \n",
       "23399  7.828530  8.074563      0      1  11.148155  2.833740  5.497187   \n",
       "24325  6.084081  6.128166      0      0   8.947017  2.311302  4.414525   \n",
       "24245  5.875634  6.339087      0      0  10.290762  2.074313  4.148627   \n",
       "\n",
       "          SpAD_A   SpMAD_A   LogEE_A  ...      SRW10     TSRW10          MW  \\\n",
       "8779   11.615198  1.290578  3.348773  ...  10.367001  62.863863  124.063663   \n",
       "22572  10.472136  1.163571  3.007971  ...   7.739359  34.994205  128.083730   \n",
       "10244  10.796691  1.199632  3.109446  ...   9.001962  38.370040  118.078250   \n",
       "20290  11.278503  1.253167  3.180780  ...   9.372374  59.406478  120.068748   \n",
       "24254  11.142106  1.238012  3.089776  ...   8.606851  37.313444  126.042927   \n",
       "...          ...       ...       ...  ...        ...        ...         ...   \n",
       "7368   11.293771  1.254863  3.273091  ...  10.030164  62.234591  122.073165   \n",
       "5103   12.386741  1.376305  3.372350  ...  10.030693  63.733546  127.063329   \n",
       "23399  11.148155  1.238684  3.384376  ...  10.853464  64.452744  125.084064   \n",
       "24325   8.947017  1.118377  3.006038  ...   8.782169  50.541414  116.047344   \n",
       "24245  10.290762  1.143418  3.018430  ...   8.069968  35.817252  126.079313   \n",
       "\n",
       "            AMW  WPath  WPol  Zagreb1  Zagreb2  mZagreb1  mZagreb2  \n",
       "8779   7.297863     78     9     60.0     80.0  2.395833  1.777778  \n",
       "22572  6.099225    110     7     32.0     31.0  4.361111  2.416667  \n",
       "10244  6.214645    100     7     40.0     44.0  3.472222  2.194444  \n",
       "20290  7.062868     89    10     44.0     54.0  4.173611  2.291667  \n",
       "24254  8.402862     88     9     40.0     43.0  3.472222  2.166667  \n",
       "...         ...    ...   ...      ...      ...       ...       ...  \n",
       "7368   6.424903     86     8     52.0     67.0  3.284722  2.000000  \n",
       "5103   7.059074     82     9     58.0     76.0  2.305556  1.805556  \n",
       "23399  6.254203     76     9     64.0     89.0  3.097222  1.687500  \n",
       "24325  7.252959     58     6     40.0     43.0  3.923611  1.666667  \n",
       "24245  6.635753    100     8     34.0     34.0  4.972222  2.333333  \n",
       "\n",
       "[900 rows x 1028 columns]"
      ]
     },
     "execution_count": 90,
     "metadata": {},
     "output_type": "execute_result"
    }
   ],
   "source": [
    "train_desc"
   ]
  },
  {
   "cell_type": "code",
   "execution_count": 91,
   "metadata": {},
   "outputs": [
    {
     "data": {
      "text/plain": [
       "8779     0.2555\n",
       "22572    0.2878\n",
       "10244    0.2247\n",
       "20290    0.2590\n",
       "24254    0.1691\n",
       "          ...  \n",
       "7368     0.2980\n",
       "5103     0.2891\n",
       "23399    0.3036\n",
       "24325    0.3320\n",
       "24245    0.2785\n",
       "Name: bandgap, Length: 900, dtype: float64"
      ]
     },
     "execution_count": 91,
     "metadata": {},
     "output_type": "execute_result"
    }
   ],
   "source": [
    "train_data['bandgap']"
   ]
  },
  {
   "cell_type": "code",
   "execution_count": 92,
   "metadata": {},
   "outputs": [],
   "source": [
    "clf = RandomForestRegressor()"
   ]
  },
  {
   "cell_type": "code",
   "execution_count": 94,
   "metadata": {},
   "outputs": [
    {
     "data": {
      "text/plain": [
       "RandomForestRegressor()"
      ]
     },
     "execution_count": 94,
     "metadata": {},
     "output_type": "execute_result"
    }
   ],
   "source": [
    "clf.fit(train_desc, train_data['bandgap'])"
   ]
  },
  {
   "cell_type": "code",
   "execution_count": 95,
   "metadata": {},
   "outputs": [],
   "source": [
    "test_data = test_data.copy()"
   ]
  },
  {
   "cell_type": "code",
   "execution_count": 96,
   "metadata": {},
   "outputs": [],
   "source": [
    "test_data['RF_model']= clf.predict(test_desc)"
   ]
  },
  {
   "cell_type": "markdown",
   "metadata": {},
   "source": [
    "Step 2: Make a hold-out set"
   ]
  },
  {
   "cell_type": "code",
   "execution_count": 99,
   "metadata": {},
   "outputs": [],
   "source": [
    "model = Pipeline([\n",
    "    ('scale', StandardScaler()),\n",
    "    ('lasso', LassoCV())\n",
    "])"
   ]
  },
  {
   "cell_type": "code",
   "execution_count": 100,
   "metadata": {},
   "outputs": [
    {
     "name": "stderr",
     "output_type": "stream",
     "text": [
      "/Users/wueric/opt/anaconda3/envs/applied-ai/lib/python3.7/site-packages/sklearn/linear_model/_coordinate_descent.py:531: ConvergenceWarning: Objective did not converge. You might want to increase the number of iterations. Duality gap: 0.0004198948116748008, tolerance: 0.00017475521964444447\n",
      "  positive)\n",
      "/Users/wueric/opt/anaconda3/envs/applied-ai/lib/python3.7/site-packages/sklearn/linear_model/_coordinate_descent.py:531: ConvergenceWarning: Objective did not converge. You might want to increase the number of iterations. Duality gap: 0.00046683766642655056, tolerance: 0.00017475521964444447\n",
      "  positive)\n",
      "/Users/wueric/opt/anaconda3/envs/applied-ai/lib/python3.7/site-packages/sklearn/linear_model/_coordinate_descent.py:531: ConvergenceWarning: Objective did not converge. You might want to increase the number of iterations. Duality gap: 0.0006491526018999327, tolerance: 0.00017475521964444447\n",
      "  positive)\n",
      "/Users/wueric/opt/anaconda3/envs/applied-ai/lib/python3.7/site-packages/sklearn/linear_model/_coordinate_descent.py:531: ConvergenceWarning: Objective did not converge. You might want to increase the number of iterations. Duality gap: 0.0007158316916003327, tolerance: 0.00017475521964444447\n",
      "  positive)\n",
      "/Users/wueric/opt/anaconda3/envs/applied-ai/lib/python3.7/site-packages/sklearn/linear_model/_coordinate_descent.py:531: ConvergenceWarning: Objective did not converge. You might want to increase the number of iterations. Duality gap: 0.0005033002876221049, tolerance: 0.00017475521964444447\n",
      "  positive)\n",
      "/Users/wueric/opt/anaconda3/envs/applied-ai/lib/python3.7/site-packages/sklearn/linear_model/_coordinate_descent.py:531: ConvergenceWarning: Objective did not converge. You might want to increase the number of iterations. Duality gap: 0.0006774762571619408, tolerance: 0.00017475521964444447\n",
      "  positive)\n",
      "/Users/wueric/opt/anaconda3/envs/applied-ai/lib/python3.7/site-packages/sklearn/linear_model/_coordinate_descent.py:531: ConvergenceWarning: Objective did not converge. You might want to increase the number of iterations. Duality gap: 0.0002814243305609282, tolerance: 0.0001689801225777778\n",
      "  positive)\n",
      "/Users/wueric/opt/anaconda3/envs/applied-ai/lib/python3.7/site-packages/sklearn/linear_model/_coordinate_descent.py:531: ConvergenceWarning: Objective did not converge. You might want to increase the number of iterations. Duality gap: 0.00018050323976213922, tolerance: 0.0001689801225777778\n",
      "  positive)\n",
      "/Users/wueric/opt/anaconda3/envs/applied-ai/lib/python3.7/site-packages/sklearn/linear_model/_coordinate_descent.py:531: ConvergenceWarning: Objective did not converge. You might want to increase the number of iterations. Duality gap: 0.00042236502119089026, tolerance: 0.0001689801225777778\n",
      "  positive)\n",
      "/Users/wueric/opt/anaconda3/envs/applied-ai/lib/python3.7/site-packages/sklearn/linear_model/_coordinate_descent.py:531: ConvergenceWarning: Objective did not converge. You might want to increase the number of iterations. Duality gap: 0.0007342952715699153, tolerance: 0.0001689801225777778\n",
      "  positive)\n",
      "/Users/wueric/opt/anaconda3/envs/applied-ai/lib/python3.7/site-packages/sklearn/linear_model/_coordinate_descent.py:531: ConvergenceWarning: Objective did not converge. You might want to increase the number of iterations. Duality gap: 0.00028827185773673547, tolerance: 0.0001689801225777778\n",
      "  positive)\n",
      "/Users/wueric/opt/anaconda3/envs/applied-ai/lib/python3.7/site-packages/sklearn/linear_model/_coordinate_descent.py:531: ConvergenceWarning: Objective did not converge. You might want to increase the number of iterations. Duality gap: 0.0001943161356270373, tolerance: 0.0001689801225777778\n",
      "  positive)\n",
      "/Users/wueric/opt/anaconda3/envs/applied-ai/lib/python3.7/site-packages/sklearn/linear_model/_coordinate_descent.py:531: ConvergenceWarning: Objective did not converge. You might want to increase the number of iterations. Duality gap: 0.00022568788140669982, tolerance: 0.0001689801225777778\n",
      "  positive)\n",
      "/Users/wueric/opt/anaconda3/envs/applied-ai/lib/python3.7/site-packages/sklearn/linear_model/_coordinate_descent.py:531: ConvergenceWarning: Objective did not converge. You might want to increase the number of iterations. Duality gap: 0.0001971864667206502, tolerance: 0.0001689801225777778\n",
      "  positive)\n",
      "/Users/wueric/opt/anaconda3/envs/applied-ai/lib/python3.7/site-packages/sklearn/linear_model/_coordinate_descent.py:531: ConvergenceWarning: Objective did not converge. You might want to increase the number of iterations. Duality gap: 0.0002010967293683552, tolerance: 0.0001657472537777778\n",
      "  positive)\n",
      "/Users/wueric/opt/anaconda3/envs/applied-ai/lib/python3.7/site-packages/sklearn/linear_model/_coordinate_descent.py:531: ConvergenceWarning: Objective did not converge. You might want to increase the number of iterations. Duality gap: 0.0001831901339628128, tolerance: 0.0001657472537777778\n",
      "  positive)\n",
      "/Users/wueric/opt/anaconda3/envs/applied-ai/lib/python3.7/site-packages/sklearn/linear_model/_coordinate_descent.py:531: ConvergenceWarning: Objective did not converge. You might want to increase the number of iterations. Duality gap: 0.00029162588723939675, tolerance: 0.0001657472537777778\n",
      "  positive)\n",
      "/Users/wueric/opt/anaconda3/envs/applied-ai/lib/python3.7/site-packages/sklearn/linear_model/_coordinate_descent.py:531: ConvergenceWarning: Objective did not converge. You might want to increase the number of iterations. Duality gap: 0.00034702203613797, tolerance: 0.0001657472537777778\n",
      "  positive)\n",
      "/Users/wueric/opt/anaconda3/envs/applied-ai/lib/python3.7/site-packages/sklearn/linear_model/_coordinate_descent.py:531: ConvergenceWarning: Objective did not converge. You might want to increase the number of iterations. Duality gap: 0.0004510935344213818, tolerance: 0.0001657472537777778\n",
      "  positive)\n",
      "/Users/wueric/opt/anaconda3/envs/applied-ai/lib/python3.7/site-packages/sklearn/linear_model/_coordinate_descent.py:531: ConvergenceWarning: Objective did not converge. You might want to increase the number of iterations. Duality gap: 0.00028694219525196574, tolerance: 0.0001657472537777778\n",
      "  positive)\n",
      "/Users/wueric/opt/anaconda3/envs/applied-ai/lib/python3.7/site-packages/sklearn/linear_model/_coordinate_descent.py:531: ConvergenceWarning: Objective did not converge. You might want to increase the number of iterations. Duality gap: 0.0004464635442836262, tolerance: 0.0001657472537777778\n",
      "  positive)\n",
      "/Users/wueric/opt/anaconda3/envs/applied-ai/lib/python3.7/site-packages/sklearn/linear_model/_coordinate_descent.py:531: ConvergenceWarning: Objective did not converge. You might want to increase the number of iterations. Duality gap: 0.0004545341197124686, tolerance: 0.0001657472537777778\n",
      "  positive)\n",
      "/Users/wueric/opt/anaconda3/envs/applied-ai/lib/python3.7/site-packages/sklearn/linear_model/_coordinate_descent.py:531: ConvergenceWarning: Objective did not converge. You might want to increase the number of iterations. Duality gap: 0.0001810595320732855, tolerance: 0.0001661663861875\n",
      "  positive)\n",
      "/Users/wueric/opt/anaconda3/envs/applied-ai/lib/python3.7/site-packages/sklearn/linear_model/_coordinate_descent.py:531: ConvergenceWarning: Objective did not converge. You might want to increase the number of iterations. Duality gap: 0.00020856516742041864, tolerance: 0.0001661663861875\n",
      "  positive)\n",
      "/Users/wueric/opt/anaconda3/envs/applied-ai/lib/python3.7/site-packages/sklearn/linear_model/_coordinate_descent.py:531: ConvergenceWarning: Objective did not converge. You might want to increase the number of iterations. Duality gap: 0.0003502496153640622, tolerance: 0.0001661663861875\n",
      "  positive)\n",
      "/Users/wueric/opt/anaconda3/envs/applied-ai/lib/python3.7/site-packages/sklearn/linear_model/_coordinate_descent.py:531: ConvergenceWarning: Objective did not converge. You might want to increase the number of iterations. Duality gap: 0.0003164142677207493, tolerance: 0.0001661663861875\n",
      "  positive)\n",
      "/Users/wueric/opt/anaconda3/envs/applied-ai/lib/python3.7/site-packages/sklearn/linear_model/_coordinate_descent.py:531: ConvergenceWarning: Objective did not converge. You might want to increase the number of iterations. Duality gap: 0.00042997502626075657, tolerance: 0.0001661663861875\n",
      "  positive)\n",
      "/Users/wueric/opt/anaconda3/envs/applied-ai/lib/python3.7/site-packages/sklearn/linear_model/_coordinate_descent.py:531: ConvergenceWarning: Objective did not converge. You might want to increase the number of iterations. Duality gap: 0.0005186340162046943, tolerance: 0.0001661663861875\n",
      "  positive)\n"
     ]
    },
    {
     "name": "stderr",
     "output_type": "stream",
     "text": [
      "/Users/wueric/opt/anaconda3/envs/applied-ai/lib/python3.7/site-packages/sklearn/linear_model/_coordinate_descent.py:531: ConvergenceWarning: Objective did not converge. You might want to increase the number of iterations. Duality gap: 0.0003842743693008299, tolerance: 0.00016801917488750004\n",
      "  positive)\n",
      "/Users/wueric/opt/anaconda3/envs/applied-ai/lib/python3.7/site-packages/sklearn/linear_model/_coordinate_descent.py:531: ConvergenceWarning: Objective did not converge. You might want to increase the number of iterations. Duality gap: 0.00020866885302192606, tolerance: 0.00016801917488750004\n",
      "  positive)\n",
      "/Users/wueric/opt/anaconda3/envs/applied-ai/lib/python3.7/site-packages/sklearn/linear_model/_coordinate_descent.py:531: ConvergenceWarning: Objective did not converge. You might want to increase the number of iterations. Duality gap: 0.00020017817318863929, tolerance: 0.00016801917488750004\n",
      "  positive)\n",
      "/Users/wueric/opt/anaconda3/envs/applied-ai/lib/python3.7/site-packages/sklearn/linear_model/_coordinate_descent.py:531: ConvergenceWarning: Objective did not converge. You might want to increase the number of iterations. Duality gap: 0.0004713937266114798, tolerance: 0.00016801917488750004\n",
      "  positive)\n",
      "/Users/wueric/opt/anaconda3/envs/applied-ai/lib/python3.7/site-packages/sklearn/linear_model/_coordinate_descent.py:531: ConvergenceWarning: Objective did not converge. You might want to increase the number of iterations. Duality gap: 0.0005479980318049416, tolerance: 0.00016801917488750004\n",
      "  positive)\n"
     ]
    }
   ],
   "source": [
    "test_data = test_data.copy()  # Avoids some pandas issues\n",
    "test_data['Lasso_without_PCA'] = model.fit(train_desc, train_data['bandgap']).predict(test_desc)"
   ]
  },
  {
   "cell_type": "code",
   "execution_count": 97,
   "metadata": {},
   "outputs": [],
   "source": [
    "model = Pipeline([\n",
    "    ('scale', StandardScaler()),\n",
    "    ('randomforest', RandomForestRegressor())\n",
    "])"
   ]
  },
  {
   "cell_type": "code",
   "execution_count": 98,
   "metadata": {},
   "outputs": [],
   "source": [
    "test_data = test_data.copy()  # Avoids some pandas issues\n",
    "test_data['Random_forest_model'] = model.fit(train_desc, train_data['bandgap']).predict(test_desc)"
   ]
  },
  {
   "cell_type": "markdown",
   "metadata": {},
   "source": [
    "Now, let's show how to change the PCA from 16 to only 8 features."
   ]
  },
  {
   "cell_type": "code",
   "execution_count": 52,
   "metadata": {},
   "outputs": [
    {
     "data": {
      "text/plain": [
       "Pipeline(steps=[('scale', StandardScaler()), ('pca', PCA(n_components=8)),\n",
       "                ('lasso', LassoCV())])"
      ]
     },
     "execution_count": 52,
     "metadata": {},
     "output_type": "execute_result"
    }
   ],
   "source": [
    "model.set_params(pca__n_components=8)  # Notation is [step name]__[parameter name]"
   ]
  },
  {
   "cell_type": "code",
   "execution_count": 33,
   "metadata": {},
   "outputs": [],
   "source": [
    "test_data['8-ncomp-model'] = model.fit(train_desc, train_data['bandgap']).predict(test_desc)"
   ]
  },
  {
   "cell_type": "markdown",
   "metadata": {},
   "source": [
    "Compare the two to each other"
   ]
  },
  {
   "cell_type": "code",
   "execution_count": 34,
   "metadata": {},
   "outputs": [
    {
     "data": {
      "image/png": "[encoded data removed]",
      "text/plain": [
       "<Figure size 468x216 with 2 Axes>"
      ]
     },
     "metadata": {
      "needs_background": "light"
     },
     "output_type": "display_data"
    }
   ],
   "source": [
    "fig, axs = plt.subplots(1, 2, sharey=True, figsize=(6.5, 3.))\n",
    "\n",
    "# Plot both models\n",
    "for ax, col in zip(axs, ['8-ncomp-model', '16-ncomp-model']):\n",
    "    ax.set_title(f'{col.split(\"-\")[0]}-Parameter Model')\n",
    "    r2 = r2_score(test_data[col], test_data['bandgap'])\n",
    "    ax.text(0.02, 0.9, f'$R^2 = {r2:.2f}$', transform=ax.transAxes)\n",
    "    ax.scatter(test_data[col], test_data['bandgap'])\n",
    "\n",
    "# Make it look nicer\n",
    "for ax in axs:\n",
    "    ax.set_xlabel('$E_g$, ML')\n",
    "    \n",
    "    ax.set_ylim(ax.get_ylim())\n",
    "    ax.set_xlim(ax.get_ylim())\n",
    "    ax.plot(ax.get_xlim(), ax.get_xlim(), 'k--')\n",
    "    \n",
    "axs[0].set_ylabel('$E_g$, True')\n",
    "fig.tight_layout()"
   ]
  },
  {
   "cell_type": "markdown",
   "metadata": {},
   "source": [
    "You can see that you get a better model with adding additional parameters."
   ]
  },
  {
   "cell_type": "code",
   "execution_count": 101,
   "metadata": {},
   "outputs": [
    {
     "data": {
      "text/html": [
       "<div>\n",
       "<style scoped>\n",
       "    .dataframe tbody tr th:only-of-type {\n",
       "        vertical-align: middle;\n",
       "    }\n",
       "\n",
       "    .dataframe tbody tr th {\n",
       "        vertical-align: top;\n",
       "    }\n",
       "\n",
       "    .dataframe thead th {\n",
       "        text-align: right;\n",
       "    }\n",
       "</style>\n",
       "<table border=\"1\" class=\"dataframe\">\n",
       "  <thead>\n",
       "    <tr style=\"text-align: right;\">\n",
       "      <th></th>\n",
       "      <th>A</th>\n",
       "      <th>B</th>\n",
       "      <th>C</th>\n",
       "      <th>R2</th>\n",
       "      <th>alpha</th>\n",
       "      <th>atomic_charges</th>\n",
       "      <th>bandgap</th>\n",
       "      <th>cv</th>\n",
       "      <th>filename</th>\n",
       "      <th>g</th>\n",
       "      <th>...</th>\n",
       "      <th>u</th>\n",
       "      <th>u0</th>\n",
       "      <th>u0_atom</th>\n",
       "      <th>xyz</th>\n",
       "      <th>zpe</th>\n",
       "      <th>in_holdout</th>\n",
       "      <th>mol</th>\n",
       "      <th>RF_model</th>\n",
       "      <th>Random_forest_model</th>\n",
       "      <th>Lasso_without_PCA</th>\n",
       "    </tr>\n",
       "  </thead>\n",
       "  <tbody>\n",
       "    <tr>\n",
       "      <th>19292</th>\n",
       "      <td>5.73680</td>\n",
       "      <td>1.37641</td>\n",
       "      <td>1.31188</td>\n",
       "      <td>906.0150</td>\n",
       "      <td>60.16</td>\n",
       "      <td>[-0.287116, 0.284385, -0.270485, 0.155184, -0....</td>\n",
       "      <td>0.2559</td>\n",
       "      <td>22.559</td>\n",
       "      <td>dsgdb9nsd_021347.xyz</td>\n",
       "      <td>-373.741142</td>\n",
       "      <td>...</td>\n",
       "      <td>-373.702566</td>\n",
       "      <td>-373.709126</td>\n",
       "      <td>-1.985502</td>\n",
       "      <td>12\\nProperties=species:S:1:pos:R:3 unique_id=2...</td>\n",
       "      <td>0.086345</td>\n",
       "      <td>False</td>\n",
       "      <td>&lt;rdkit.Chem.rdchem.Mol object at 0x7fed94b8ebc0&gt;</td>\n",
       "      <td>0.227333</td>\n",
       "      <td>0.225521</td>\n",
       "      <td>0.265633</td>\n",
       "    </tr>\n",
       "    <tr>\n",
       "      <th>20135</th>\n",
       "      <td>3.78678</td>\n",
       "      <td>0.99062</td>\n",
       "      <td>0.95676</td>\n",
       "      <td>1314.6968</td>\n",
       "      <td>73.71</td>\n",
       "      <td>[-0.31837699999999997, -0.291788, -0.076149, -...</td>\n",
       "      <td>0.2127</td>\n",
       "      <td>31.772</td>\n",
       "      <td>dsgdb9nsd_128087.xyz</td>\n",
       "      <td>-435.292585</td>\n",
       "      <td>...</td>\n",
       "      <td>-435.248780</td>\n",
       "      <td>-435.257772</td>\n",
       "      <td>-2.705293</td>\n",
       "      <td>18\\nProperties=species:S:1:pos:R:3 unique_id=1...</td>\n",
       "      <td>0.147896</td>\n",
       "      <td>False</td>\n",
       "      <td>&lt;rdkit.Chem.rdchem.Mol object at 0x7fed94b543f0&gt;</td>\n",
       "      <td>0.224920</td>\n",
       "      <td>0.228354</td>\n",
       "      <td>0.229104</td>\n",
       "    </tr>\n",
       "    <tr>\n",
       "      <th>15844</th>\n",
       "      <td>2.96869</td>\n",
       "      <td>1.58237</td>\n",
       "      <td>1.19493</td>\n",
       "      <td>1082.9525</td>\n",
       "      <td>80.09</td>\n",
       "      <td>[-0.33535000000000004, -0.100314, -0.117821, -...</td>\n",
       "      <td>0.2951</td>\n",
       "      <td>31.398</td>\n",
       "      <td>dsgdb9nsd_081547.xyz</td>\n",
       "      <td>-403.079255</td>\n",
       "      <td>...</td>\n",
       "      <td>-403.038708</td>\n",
       "      <td>-403.046737</td>\n",
       "      <td>-2.967890</td>\n",
       "      <td>20\\nProperties=species:S:1:pos:R:3 unique_id=c...</td>\n",
       "      <td>0.171097</td>\n",
       "      <td>False</td>\n",
       "      <td>&lt;rdkit.Chem.rdchem.Mol object at 0x7fed75fda8f0&gt;</td>\n",
       "      <td>0.294256</td>\n",
       "      <td>0.293277</td>\n",
       "      <td>0.292695</td>\n",
       "    </tr>\n",
       "    <tr>\n",
       "      <th>21868</th>\n",
       "      <td>3.06918</td>\n",
       "      <td>1.30055</td>\n",
       "      <td>0.91943</td>\n",
       "      <td>1224.2967</td>\n",
       "      <td>81.30</td>\n",
       "      <td>[-0.49777499999999997, 0.130361, -0.164911, -0...</td>\n",
       "      <td>0.2074</td>\n",
       "      <td>32.108</td>\n",
       "      <td>dsgdb9nsd_132506.xyz</td>\n",
       "      <td>-426.083771</td>\n",
       "      <td>...</td>\n",
       "      <td>-426.042573</td>\n",
       "      <td>-426.050942</td>\n",
       "      <td>-2.818763</td>\n",
       "      <td>17\\nProperties=species:S:1:pos:R:3 unique_id=c...</td>\n",
       "      <td>0.136276</td>\n",
       "      <td>False</td>\n",
       "      <td>&lt;rdkit.Chem.rdchem.Mol object at 0x7fed8849d3f0&gt;</td>\n",
       "      <td>0.195551</td>\n",
       "      <td>0.196784</td>\n",
       "      <td>0.213757</td>\n",
       "    </tr>\n",
       "    <tr>\n",
       "      <th>7719</th>\n",
       "      <td>2.30211</td>\n",
       "      <td>1.42235</td>\n",
       "      <td>0.93615</td>\n",
       "      <td>1268.2842</td>\n",
       "      <td>76.53</td>\n",
       "      <td>[-0.340754, -0.390986, 0.38514699999999996, 0....</td>\n",
       "      <td>0.2195</td>\n",
       "      <td>32.942</td>\n",
       "      <td>dsgdb9nsd_128146.xyz</td>\n",
       "      <td>-431.460456</td>\n",
       "      <td>...</td>\n",
       "      <td>-431.416347</td>\n",
       "      <td>-431.425639</td>\n",
       "      <td>-2.616789</td>\n",
       "      <td>18\\nProperties=species:S:1:pos:R:3 unique_id=7...</td>\n",
       "      <td>0.149140</td>\n",
       "      <td>True</td>\n",
       "      <td>&lt;rdkit.Chem.rdchem.Mol object at 0x7fed75fb3f80&gt;</td>\n",
       "      <td>0.223624</td>\n",
       "      <td>0.222505</td>\n",
       "      <td>0.222460</td>\n",
       "    </tr>\n",
       "    <tr>\n",
       "      <th>...</th>\n",
       "      <td>...</td>\n",
       "      <td>...</td>\n",
       "      <td>...</td>\n",
       "      <td>...</td>\n",
       "      <td>...</td>\n",
       "      <td>...</td>\n",
       "      <td>...</td>\n",
       "      <td>...</td>\n",
       "      <td>...</td>\n",
       "      <td>...</td>\n",
       "      <td>...</td>\n",
       "      <td>...</td>\n",
       "      <td>...</td>\n",
       "      <td>...</td>\n",
       "      <td>...</td>\n",
       "      <td>...</td>\n",
       "      <td>...</td>\n",
       "      <td>...</td>\n",
       "      <td>...</td>\n",
       "      <td>...</td>\n",
       "      <td>...</td>\n",
       "    </tr>\n",
       "    <tr>\n",
       "      <th>4772</th>\n",
       "      <td>2.16049</td>\n",
       "      <td>1.38339</td>\n",
       "      <td>1.13158</td>\n",
       "      <td>1147.6787</td>\n",
       "      <td>69.42</td>\n",
       "      <td>[-0.430556, -0.11299000000000001, 0.121943, -0...</td>\n",
       "      <td>0.2973</td>\n",
       "      <td>34.919</td>\n",
       "      <td>dsgdb9nsd_099925.xyz</td>\n",
       "      <td>-458.921294</td>\n",
       "      <td>...</td>\n",
       "      <td>-458.877420</td>\n",
       "      <td>-458.886869</td>\n",
       "      <td>-2.610316</td>\n",
       "      <td>17\\nProperties=species:S:1:pos:R:3 unique_id=b...</td>\n",
       "      <td>0.132783</td>\n",
       "      <td>True</td>\n",
       "      <td>&lt;rdkit.Chem.rdchem.Mol object at 0x7fed76047850&gt;</td>\n",
       "      <td>0.277226</td>\n",
       "      <td>0.277700</td>\n",
       "      <td>0.272285</td>\n",
       "    </tr>\n",
       "    <tr>\n",
       "      <th>15750</th>\n",
       "      <td>5.26465</td>\n",
       "      <td>0.84328</td>\n",
       "      <td>0.82097</td>\n",
       "      <td>1398.4890</td>\n",
       "      <td>76.34</td>\n",
       "      <td>[-0.32778199999999996, 0.27106199999999997, -0...</td>\n",
       "      <td>0.3114</td>\n",
       "      <td>30.667</td>\n",
       "      <td>dsgdb9nsd_035131.xyz</td>\n",
       "      <td>-401.963417</td>\n",
       "      <td>...</td>\n",
       "      <td>-401.921252</td>\n",
       "      <td>-401.929610</td>\n",
       "      <td>-2.851309</td>\n",
       "      <td>18\\nProperties=species:S:1:pos:R:3 unique_id=8...</td>\n",
       "      <td>0.148123</td>\n",
       "      <td>False</td>\n",
       "      <td>&lt;rdkit.Chem.rdchem.Mol object at 0x7fed75ffdcb0&gt;</td>\n",
       "      <td>0.287525</td>\n",
       "      <td>0.289406</td>\n",
       "      <td>0.299857</td>\n",
       "    </tr>\n",
       "    <tr>\n",
       "      <th>4498</th>\n",
       "      <td>4.17495</td>\n",
       "      <td>0.77076</td>\n",
       "      <td>0.65811</td>\n",
       "      <td>1631.8224</td>\n",
       "      <td>73.62</td>\n",
       "      <td>[-0.43310000000000004, -0.07747699999999999, 0...</td>\n",
       "      <td>0.2359</td>\n",
       "      <td>35.403</td>\n",
       "      <td>dsgdb9nsd_099013.xyz</td>\n",
       "      <td>-472.437268</td>\n",
       "      <td>...</td>\n",
       "      <td>-472.391857</td>\n",
       "      <td>-472.401713</td>\n",
       "      <td>-2.631427</td>\n",
       "      <td>18\\nProperties=species:S:1:pos:R:3 unique_id=e...</td>\n",
       "      <td>0.147057</td>\n",
       "      <td>True</td>\n",
       "      <td>&lt;rdkit.Chem.rdchem.Mol object at 0x7fed75fb3300&gt;</td>\n",
       "      <td>0.226837</td>\n",
       "      <td>0.225217</td>\n",
       "      <td>0.241060</td>\n",
       "    </tr>\n",
       "    <tr>\n",
       "      <th>316</th>\n",
       "      <td>2.57551</td>\n",
       "      <td>1.19417</td>\n",
       "      <td>0.96646</td>\n",
       "      <td>1381.5442</td>\n",
       "      <td>94.21</td>\n",
       "      <td>[-0.393065, -0.19408399999999998, 0.0025889999...</td>\n",
       "      <td>0.2635</td>\n",
       "      <td>37.606</td>\n",
       "      <td>dsgdb9nsd_112117.xyz</td>\n",
       "      <td>-352.417802</td>\n",
       "      <td>...</td>\n",
       "      <td>-352.374183</td>\n",
       "      <td>-352.383809</td>\n",
       "      <td>-3.758493</td>\n",
       "      <td>25\\nProperties=species:S:1:pos:R:3 unique_id=a...</td>\n",
       "      <td>0.230227</td>\n",
       "      <td>True</td>\n",
       "      <td>&lt;rdkit.Chem.rdchem.Mol object at 0x7fed75fda940&gt;</td>\n",
       "      <td>0.252807</td>\n",
       "      <td>0.253150</td>\n",
       "      <td>0.276427</td>\n",
       "    </tr>\n",
       "    <tr>\n",
       "      <th>24217</th>\n",
       "      <td>3.49098</td>\n",
       "      <td>0.71155</td>\n",
       "      <td>0.62452</td>\n",
       "      <td>1776.5180</td>\n",
       "      <td>81.90</td>\n",
       "      <td>[-0.251083, -0.19281299999999998, 0.128878, -0...</td>\n",
       "      <td>0.2231</td>\n",
       "      <td>33.606</td>\n",
       "      <td>dsgdb9nsd_116708.xyz</td>\n",
       "      <td>-439.108725</td>\n",
       "      <td>...</td>\n",
       "      <td>-439.062578</td>\n",
       "      <td>-439.072387</td>\n",
       "      <td>-2.776279</td>\n",
       "      <td>18\\nProperties=species:S:1:pos:R:3 unique_id=8...</td>\n",
       "      <td>0.144767</td>\n",
       "      <td>False</td>\n",
       "      <td>&lt;rdkit.Chem.rdchem.Mol object at 0x7fed75fda800&gt;</td>\n",
       "      <td>0.216973</td>\n",
       "      <td>0.222545</td>\n",
       "      <td>0.218133</td>\n",
       "    </tr>\n",
       "  </tbody>\n",
       "</table>\n",
       "<p>100 rows × 39 columns</p>\n",
       "</div>"
      ],
      "text/plain": [
       "             A        B        C         R2  alpha  \\\n",
       "19292  5.73680  1.37641  1.31188   906.0150  60.16   \n",
       "20135  3.78678  0.99062  0.95676  1314.6968  73.71   \n",
       "15844  2.96869  1.58237  1.19493  1082.9525  80.09   \n",
       "21868  3.06918  1.30055  0.91943  1224.2967  81.30   \n",
       "7719   2.30211  1.42235  0.93615  1268.2842  76.53   \n",
       "...        ...      ...      ...        ...    ...   \n",
       "4772   2.16049  1.38339  1.13158  1147.6787  69.42   \n",
       "15750  5.26465  0.84328  0.82097  1398.4890  76.34   \n",
       "4498   4.17495  0.77076  0.65811  1631.8224  73.62   \n",
       "316    2.57551  1.19417  0.96646  1381.5442  94.21   \n",
       "24217  3.49098  0.71155  0.62452  1776.5180  81.90   \n",
       "\n",
       "                                          atomic_charges  bandgap      cv  \\\n",
       "19292  [-0.287116, 0.284385, -0.270485, 0.155184, -0....   0.2559  22.559   \n",
       "20135  [-0.31837699999999997, -0.291788, -0.076149, -...   0.2127  31.772   \n",
       "15844  [-0.33535000000000004, -0.100314, -0.117821, -...   0.2951  31.398   \n",
       "21868  [-0.49777499999999997, 0.130361, -0.164911, -0...   0.2074  32.108   \n",
       "7719   [-0.340754, -0.390986, 0.38514699999999996, 0....   0.2195  32.942   \n",
       "...                                                  ...      ...     ...   \n",
       "4772   [-0.430556, -0.11299000000000001, 0.121943, -0...   0.2973  34.919   \n",
       "15750  [-0.32778199999999996, 0.27106199999999997, -0...   0.3114  30.667   \n",
       "4498   [-0.43310000000000004, -0.07747699999999999, 0...   0.2359  35.403   \n",
       "316    [-0.393065, -0.19408399999999998, 0.0025889999...   0.2635  37.606   \n",
       "24217  [-0.251083, -0.19281299999999998, 0.128878, -0...   0.2231  33.606   \n",
       "\n",
       "                   filename           g  ...           u          u0  \\\n",
       "19292  dsgdb9nsd_021347.xyz -373.741142  ... -373.702566 -373.709126   \n",
       "20135  dsgdb9nsd_128087.xyz -435.292585  ... -435.248780 -435.257772   \n",
       "15844  dsgdb9nsd_081547.xyz -403.079255  ... -403.038708 -403.046737   \n",
       "21868  dsgdb9nsd_132506.xyz -426.083771  ... -426.042573 -426.050942   \n",
       "7719   dsgdb9nsd_128146.xyz -431.460456  ... -431.416347 -431.425639   \n",
       "...                     ...         ...  ...         ...         ...   \n",
       "4772   dsgdb9nsd_099925.xyz -458.921294  ... -458.877420 -458.886869   \n",
       "15750  dsgdb9nsd_035131.xyz -401.963417  ... -401.921252 -401.929610   \n",
       "4498   dsgdb9nsd_099013.xyz -472.437268  ... -472.391857 -472.401713   \n",
       "316    dsgdb9nsd_112117.xyz -352.417802  ... -352.374183 -352.383809   \n",
       "24217  dsgdb9nsd_116708.xyz -439.108725  ... -439.062578 -439.072387   \n",
       "\n",
       "        u0_atom                                                xyz       zpe  \\\n",
       "19292 -1.985502  12\\nProperties=species:S:1:pos:R:3 unique_id=2...  0.086345   \n",
       "20135 -2.705293  18\\nProperties=species:S:1:pos:R:3 unique_id=1...  0.147896   \n",
       "15844 -2.967890  20\\nProperties=species:S:1:pos:R:3 unique_id=c...  0.171097   \n",
       "21868 -2.818763  17\\nProperties=species:S:1:pos:R:3 unique_id=c...  0.136276   \n",
       "7719  -2.616789  18\\nProperties=species:S:1:pos:R:3 unique_id=7...  0.149140   \n",
       "...         ...                                                ...       ...   \n",
       "4772  -2.610316  17\\nProperties=species:S:1:pos:R:3 unique_id=b...  0.132783   \n",
       "15750 -2.851309  18\\nProperties=species:S:1:pos:R:3 unique_id=8...  0.148123   \n",
       "4498  -2.631427  18\\nProperties=species:S:1:pos:R:3 unique_id=e...  0.147057   \n",
       "316   -3.758493  25\\nProperties=species:S:1:pos:R:3 unique_id=a...  0.230227   \n",
       "24217 -2.776279  18\\nProperties=species:S:1:pos:R:3 unique_id=8...  0.144767   \n",
       "\n",
       "       in_holdout                                               mol  RF_model  \\\n",
       "19292       False  <rdkit.Chem.rdchem.Mol object at 0x7fed94b8ebc0>  0.227333   \n",
       "20135       False  <rdkit.Chem.rdchem.Mol object at 0x7fed94b543f0>  0.224920   \n",
       "15844       False  <rdkit.Chem.rdchem.Mol object at 0x7fed75fda8f0>  0.294256   \n",
       "21868       False  <rdkit.Chem.rdchem.Mol object at 0x7fed8849d3f0>  0.195551   \n",
       "7719         True  <rdkit.Chem.rdchem.Mol object at 0x7fed75fb3f80>  0.223624   \n",
       "...           ...                                               ...       ...   \n",
       "4772         True  <rdkit.Chem.rdchem.Mol object at 0x7fed76047850>  0.277226   \n",
       "15750       False  <rdkit.Chem.rdchem.Mol object at 0x7fed75ffdcb0>  0.287525   \n",
       "4498         True  <rdkit.Chem.rdchem.Mol object at 0x7fed75fb3300>  0.226837   \n",
       "316          True  <rdkit.Chem.rdchem.Mol object at 0x7fed75fda940>  0.252807   \n",
       "24217       False  <rdkit.Chem.rdchem.Mol object at 0x7fed75fda800>  0.216973   \n",
       "\n",
       "       Random_forest_model Lasso_without_PCA  \n",
       "19292             0.225521          0.265633  \n",
       "20135             0.228354          0.229104  \n",
       "15844             0.293277          0.292695  \n",
       "21868             0.196784          0.213757  \n",
       "7719              0.222505          0.222460  \n",
       "...                    ...               ...  \n",
       "4772              0.277700          0.272285  \n",
       "15750             0.289406          0.299857  \n",
       "4498              0.225217          0.241060  \n",
       "316               0.253150          0.276427  \n",
       "24217             0.222545          0.218133  \n",
       "\n",
       "[100 rows x 39 columns]"
      ]
     },
     "execution_count": 101,
     "metadata": {},
     "output_type": "execute_result"
    }
   ],
   "source": [
    "test_data"
   ]
  },
  {
   "cell_type": "code",
   "execution_count": null,
   "metadata": {},
   "outputs": [],
   "source": [
    "plt.bar([10, 100, 1000, 10000],[])"
   ]
  }
 ],
 "metadata": {
  "kernelspec": {
   "display_name": "Python 3 (ipykernel)",
   "language": "python",
   "name": "python3"
  },
  "language_info": {
   "codemirror_mode": {
    "name": "ipython",
    "version": 3
   },
   "file_extension": ".py",
   "mimetype": "text/x-python",
   "name": "python",
   "nbconvert_exporter": "python",
   "pygments_lexer": "ipython3",
   "version": "3.7.11"
  }
 },
 "nbformat": 4,
 "nbformat_minor": 4
}
