{
 "cells": [
  {
   "cell_type": "markdown",
   "id": "94453cd9",
   "metadata": {},
   "source": [
    "# Import all packages and library"
   ]
  },
  {
   "cell_type": "code",
   "execution_count": 1,
   "id": "604b7292",
   "metadata": {},
   "outputs": [],
   "source": [
    "%matplotlib inline\n",
    "from matplotlib import pyplot as plt\n",
    "from sklearn.pipeline import Pipeline\n",
    "from sklearn.preprocessing import StandardScaler\n",
    "from sklearn.decomposition import PCA\n",
    "from sklearn.model_selection import train_test_split\n",
    "from sklearn.linear_model import LassoCV\n",
    "from sklearn.metrics import r2_score, mean_absolute_error\n",
    "from mordred import Calculator, descriptors\n",
    "from sklearn.ensemble import RandomForestRegressor\n",
    "from rdkit import Chem\n",
    "import pickle #to save the desc file \n",
    "import pandas as pd\n",
    "import numpy as np"
   ]
  },
  {
   "cell_type": "code",
   "execution_count": 2,
   "id": "435429cc",
   "metadata": {},
   "outputs": [
    {
     "name": "stdout",
     "output_type": "stream",
     "text": [
      "Loaded 25000 molecules\n"
     ]
    }
   ],
   "source": [
    "data = pd.read_json('../datasets/qm9.json.gz', lines=True)  # Do not need the full set to make a point.\n",
    "print(f'Loaded {len(data)} molecules')\n"
   ]
  },
  {
   "cell_type": "code",
   "execution_count": 3,
   "id": "2ef15c64",
   "metadata": {},
   "outputs": [],
   "source": [
    "data['mol'] = data['smiles_0'].apply(Chem.MolFromSmiles)"
   ]
  },
  {
   "cell_type": "code",
   "execution_count": 4,
   "id": "4f699841",
   "metadata": {},
   "outputs": [],
   "source": [
    "calc = Calculator(descriptors, ignore_3D=True)"
   ]
  },
  {
   "cell_type": "code",
   "execution_count": 5,
   "id": "1c888e1c",
   "metadata": {},
   "outputs": [
    {
     "name": "stdout",
     "output_type": "stream",
     "text": [
      "First 10 out of 1613 descriptors\n"
     ]
    },
    {
     "data": {
      "text/plain": [
       "(mordred.ABCIndex.ABCIndex(),\n",
       " mordred.ABCIndex.ABCGGIndex(),\n",
       " mordred.AcidBase.AcidicGroupCount(),\n",
       " mordred.AcidBase.BasicGroupCount(),\n",
       " mordred.AdjacencyMatrix.AdjacencyMatrix('SpAbs'),\n",
       " mordred.AdjacencyMatrix.AdjacencyMatrix('SpMax'),\n",
       " mordred.AdjacencyMatrix.AdjacencyMatrix('SpDiam'),\n",
       " mordred.AdjacencyMatrix.AdjacencyMatrix('SpAD'),\n",
       " mordred.AdjacencyMatrix.AdjacencyMatrix('SpMAD'),\n",
       " mordred.AdjacencyMatrix.AdjacencyMatrix('LogEE'))"
      ]
     },
     "execution_count": 5,
     "metadata": {},
     "output_type": "execute_result"
    }
   ],
   "source": [
    "print(f'First 10 out of {len(calc.descriptors)} descriptors')\n",
    "calc.descriptors[:10]\n"
   ]
  },
  {
   "cell_type": "code",
   "execution_count": 6,
   "id": "f131fea8",
   "metadata": {},
   "outputs": [],
   "source": [
    "#desc = calc.pandas(data['mol'])\n"
   ]
  },
  {
   "cell_type": "code",
   "execution_count": 7,
   "id": "58ea6f01",
   "metadata": {},
   "outputs": [],
   "source": [
    "#f = open(\"desc.dat\", \"wb\")"
   ]
  },
  {
   "cell_type": "code",
   "execution_count": 8,
   "id": "8ba25818",
   "metadata": {},
   "outputs": [],
   "source": [
    "#pickle.dump(desc,f)"
   ]
  },
  {
   "cell_type": "code",
   "execution_count": 9,
   "id": "a1ee628b",
   "metadata": {},
   "outputs": [],
   "source": [
    "#f.close()"
   ]
  },
  {
   "cell_type": "code",
   "execution_count": 10,
   "id": "2ff9949e",
   "metadata": {},
   "outputs": [],
   "source": [
    "f = open(\"desc.dat\", \"rb\")"
   ]
  },
  {
   "cell_type": "code",
   "execution_count": 11,
   "id": "59d61096",
   "metadata": {},
   "outputs": [],
   "source": [
    "desc=pickle.load(f)"
   ]
  },
  {
   "cell_type": "code",
   "execution_count": 12,
   "id": "89542558",
   "metadata": {},
   "outputs": [],
   "source": [
    "f.close()"
   ]
  },
  {
   "cell_type": "code",
   "execution_count": 13,
   "id": "697fbcd5",
   "metadata": {},
   "outputs": [
    {
     "name": "stdout",
     "output_type": "stream",
     "text": [
      "Computed 1613 descriptors for 25000 molecules\n"
     ]
    }
   ],
   "source": [
    "print(f'Computed {len(desc.columns)} descriptors for {len(desc)} molecules')"
   ]
  },
  {
   "cell_type": "markdown",
   "id": "f633f824",
   "metadata": {},
   "source": [
    "# Drop missing values"
   ]
  },
  {
   "cell_type": "code",
   "execution_count": 14,
   "id": "4f02a91c",
   "metadata": {},
   "outputs": [
    {
     "name": "stderr",
     "output_type": "stream",
     "text": [
      "/Users/wueric/opt/anaconda3/envs/applied-ai/lib/python3.7/site-packages/ipykernel_launcher.py:1: FutureWarning: Dropping of nuisance columns in DataFrame reductions (with 'numeric_only=None') is deprecated; in a future version this will raise TypeError.  Select only valid columns before calling the reduction.\n",
      "  \"\"\"Entry point for launching an IPython kernel.\n"
     ]
    }
   ],
   "source": [
    "zero_variation = [c for c, s in desc.std().items() if s == 0]"
   ]
  },
  {
   "cell_type": "code",
   "execution_count": 15,
   "id": "dbf945a4",
   "metadata": {},
   "outputs": [
    {
     "name": "stdout",
     "output_type": "stream",
     "text": [
      "188 (11.7%) features are constant for the dataset. Examples: ['nB', 'nS', 'nP', 'nCl', 'nBr']\n"
     ]
    }
   ],
   "source": [
    "print(f'{len(zero_variation)} ({len(zero_variation) / len(desc.columns) *100:.1f}%) features are constant for the dataset. Examples: {zero_variation[:5]}')"
   ]
  },
  {
   "cell_type": "code",
   "execution_count": 16,
   "id": "b2f121d5",
   "metadata": {},
   "outputs": [
    {
     "name": "stdout",
     "output_type": "stream",
     "text": [
      "New shape: (25000, 1425)\n"
     ]
    }
   ],
   "source": [
    "desc.drop(columns=zero_variation, inplace=True)\n",
    "print(f'New shape: {desc.shape}')"
   ]
  },
  {
   "cell_type": "code",
   "execution_count": 17,
   "id": "9be58155",
   "metadata": {},
   "outputs": [],
   "source": [
    "for c in desc.columns:\n",
    "    desc[c] = pd.to_numeric(desc[c], errors='coerce')"
   ]
  },
  {
   "cell_type": "code",
   "execution_count": 18,
   "id": "666364f8",
   "metadata": {},
   "outputs": [
    {
     "name": "stdout",
     "output_type": "stream",
     "text": [
      "Found 546 columns with missing values\n"
     ]
    }
   ],
   "source": [
    "missing_values = desc.isnull().any()\n",
    "print(f'Found {missing_values.sum()} columns with missing values')"
   ]
  },
  {
   "cell_type": "code",
   "execution_count": 19,
   "id": "a0a9ef7f",
   "metadata": {},
   "outputs": [
    {
     "name": "stdout",
     "output_type": "stream",
     "text": [
      "New shape: (25000, 879)\n"
     ]
    }
   ],
   "source": [
    "desc = desc.loc[:, ~missing_values]  # Gets only columns that do not (~ means not) have missing values\n",
    "print(f'New shape: {desc.shape}')"
   ]
  },
  {
   "cell_type": "markdown",
   "id": "2d854993",
   "metadata": {},
   "source": [
    "\n"
   ]
  },
  {
   "cell_type": "markdown",
   "id": "43394e31",
   "metadata": {},
   "source": [
    "# LASSOCV and RandomForest training\n"
   ]
  },
  {
   "cell_type": "code",
   "execution_count": 20,
   "id": "b1255456",
   "metadata": {},
   "outputs": [],
   "source": [
    "model_wPCA = Pipeline([\n",
    "    ('scale', StandardScaler()),\n",
    "    ('pca', PCA(n_components=8)),\n",
    "    ('lasso', LassoCV())\n",
    "])"
   ]
  },
  {
   "cell_type": "code",
   "execution_count": 21,
   "id": "1d601a11",
   "metadata": {},
   "outputs": [],
   "source": [
    "model_woPCA = Pipeline([\n",
    "    ('scale', StandardScaler()),\n",
    "    ('lasso', LassoCV())\n",
    "])"
   ]
  },
  {
   "cell_type": "code",
   "execution_count": 22,
   "id": "516faa52",
   "metadata": {},
   "outputs": [],
   "source": [
    "model_RFR = Pipeline([\n",
    "    ('scale', StandardScaler()),\n",
    "    ('randomforest', RandomForestRegressor())\n",
    "])"
   ]
  },
  {
   "cell_type": "markdown",
   "id": "6e2b423c",
   "metadata": {},
   "source": [
    "# Training_size=10000\n"
   ]
  },
  {
   "cell_type": "code",
   "execution_count": 23,
   "id": "d9b2c25e",
   "metadata": {},
   "outputs": [],
   "source": [
    "train_data, test_data, train_desc, test_desc = train_test_split(data, desc, train_size=10000, test_size=2000)"
   ]
  },
  {
   "cell_type": "code",
   "execution_count": 24,
   "id": "c1536cba",
   "metadata": {},
   "outputs": [],
   "source": [
    "test_data = test_data.copy()  \n",
    "test_data['LASSOCV-wPCA-model'] = model_wPCA.fit(train_desc, train_data['bandgap']).predict(test_desc)"
   ]
  },
  {
   "cell_type": "code",
   "execution_count": 25,
   "id": "fada7f70",
   "metadata": {
    "scrolled": true
   },
   "outputs": [
    {
     "name": "stderr",
     "output_type": "stream",
     "text": [
      "/Users/wueric/opt/anaconda3/envs/applied-ai/lib/python3.7/site-packages/sklearn/linear_model/_coordinate_descent.py:527: ConvergenceWarning: Objective did not converge. You might want to increase the number of iterations. Duality gap: 0.0020451452875112075, tolerance: 0.001750531801878875\n",
      "  tol, rng, random, positive)\n",
      "/Users/wueric/opt/anaconda3/envs/applied-ai/lib/python3.7/site-packages/sklearn/linear_model/_coordinate_descent.py:527: ConvergenceWarning: Objective did not converge. You might want to increase the number of iterations. Duality gap: 0.0018815574074322328, tolerance: 0.00175234656395\n",
      "  tol, rng, random, positive)\n",
      "/Users/wueric/opt/anaconda3/envs/applied-ai/lib/python3.7/site-packages/sklearn/linear_model/_coordinate_descent.py:527: ConvergenceWarning: Objective did not converge. You might want to increase the number of iterations. Duality gap: 0.003955704959108353, tolerance: 0.00175234656395\n",
      "  tol, rng, random, positive)\n",
      "/Users/wueric/opt/anaconda3/envs/applied-ai/lib/python3.7/site-packages/sklearn/linear_model/_coordinate_descent.py:527: ConvergenceWarning: Objective did not converge. You might want to increase the number of iterations. Duality gap: 0.005519855666587414, tolerance: 0.00175234656395\n",
      "  tol, rng, random, positive)\n",
      "/Users/wueric/opt/anaconda3/envs/applied-ai/lib/python3.7/site-packages/sklearn/linear_model/_coordinate_descent.py:527: ConvergenceWarning: Objective did not converge. You might want to increase the number of iterations. Duality gap: 0.004694436456423645, tolerance: 0.00175234656395\n",
      "  tol, rng, random, positive)\n",
      "/Users/wueric/opt/anaconda3/envs/applied-ai/lib/python3.7/site-packages/sklearn/linear_model/_coordinate_descent.py:527: ConvergenceWarning: Objective did not converge. You might want to increase the number of iterations. Duality gap: 0.0019019344045785314, tolerance: 0.0017345080281555\n",
      "  tol, rng, random, positive)\n",
      "/Users/wueric/opt/anaconda3/envs/applied-ai/lib/python3.7/site-packages/sklearn/linear_model/_coordinate_descent.py:527: ConvergenceWarning: Objective did not converge. You might want to increase the number of iterations. Duality gap: 0.0018926886114321029, tolerance: 0.0017345080281555\n",
      "  tol, rng, random, positive)\n",
      "/Users/wueric/opt/anaconda3/envs/applied-ai/lib/python3.7/site-packages/sklearn/linear_model/_coordinate_descent.py:527: ConvergenceWarning: Objective did not converge. You might want to increase the number of iterations. Duality gap: 0.00434858051791176, tolerance: 0.0017345080281555\n",
      "  tol, rng, random, positive)\n",
      "/Users/wueric/opt/anaconda3/envs/applied-ai/lib/python3.7/site-packages/sklearn/linear_model/_coordinate_descent.py:527: ConvergenceWarning: Objective did not converge. You might want to increase the number of iterations. Duality gap: 0.001813674054666814, tolerance: 0.0017610321185680007\n",
      "  tol, rng, random, positive)\n",
      "/Users/wueric/opt/anaconda3/envs/applied-ai/lib/python3.7/site-packages/sklearn/linear_model/_coordinate_descent.py:527: ConvergenceWarning: Objective did not converge. You might want to increase the number of iterations. Duality gap: 0.0038770751222090283, tolerance: 0.0017610321185680007\n",
      "  tol, rng, random, positive)\n",
      "/Users/wueric/opt/anaconda3/envs/applied-ai/lib/python3.7/site-packages/sklearn/linear_model/_coordinate_descent.py:527: ConvergenceWarning: Objective did not converge. You might want to increase the number of iterations. Duality gap: 0.007461364811645943, tolerance: 0.0017610321185680007\n",
      "  tol, rng, random, positive)\n",
      "/Users/wueric/opt/anaconda3/envs/applied-ai/lib/python3.7/site-packages/sklearn/linear_model/_coordinate_descent.py:527: ConvergenceWarning: Objective did not converge. You might want to increase the number of iterations. Duality gap: 0.00308398664975984, tolerance: 0.0017260415025048752\n",
      "  tol, rng, random, positive)\n",
      "/Users/wueric/opt/anaconda3/envs/applied-ai/lib/python3.7/site-packages/sklearn/linear_model/_coordinate_descent.py:527: ConvergenceWarning: Objective did not converge. You might want to increase the number of iterations. Duality gap: 0.002887552313791897, tolerance: 0.0017260415025048752\n",
      "  tol, rng, random, positive)\n",
      "/Users/wueric/opt/anaconda3/envs/applied-ai/lib/python3.7/site-packages/sklearn/linear_model/_coordinate_descent.py:527: ConvergenceWarning: Objective did not converge. You might want to increase the number of iterations. Duality gap: 0.006031077925981565, tolerance: 0.0017260415025048752\n",
      "  tol, rng, random, positive)\n",
      "/Users/wueric/opt/anaconda3/envs/applied-ai/lib/python3.7/site-packages/sklearn/linear_model/_coordinate_descent.py:527: ConvergenceWarning: Objective did not converge. You might want to increase the number of iterations. Duality gap: 0.005262356363877618, tolerance: 0.0017260415025048752\n",
      "  tol, rng, random, positive)\n",
      "/Users/wueric/opt/anaconda3/envs/applied-ai/lib/python3.7/site-packages/sklearn/linear_model/_coordinate_descent.py:531: ConvergenceWarning: Objective did not converge. You might want to increase the number of iterations. Duality gap: 0.27425528166947255, tolerance: 0.0021811761125198996\n",
      "  positive)\n"
     ]
    }
   ],
   "source": [
    "test_data = test_data.copy()  \n",
    "test_data['LASSOCV-woPCA-model'] = model_woPCA.fit(train_desc, train_data['bandgap']).predict(test_desc)"
   ]
  },
  {
   "cell_type": "code",
   "execution_count": 26,
   "id": "e204aba5",
   "metadata": {},
   "outputs": [],
   "source": [
    "test_data = test_data.copy()  \n",
    "test_data['RFR-model'] = model_RFR.fit(train_desc, train_data['bandgap']).predict(test_desc)"
   ]
  },
  {
   "cell_type": "code",
   "execution_count": 27,
   "id": "8b44d20a",
   "metadata": {},
   "outputs": [
    {
     "data": {
      "text/plain": [
       "0.02632304809792565"
      ]
     },
     "execution_count": 27,
     "metadata": {},
     "output_type": "execute_result"
    }
   ],
   "source": [
    "MSE_LASSOCV_wPCA_model_10000 = mean_absolute_error(test_data['bandgap'],test_data['LASSOCV-wPCA-model'])\n",
    "MSE_LASSOCV_wPCA_model_10000"
   ]
  },
  {
   "cell_type": "code",
   "execution_count": 28,
   "id": "1927a3c5",
   "metadata": {},
   "outputs": [
    {
     "data": {
      "text/plain": [
       "0.01150158833677827"
      ]
     },
     "execution_count": 28,
     "metadata": {},
     "output_type": "execute_result"
    }
   ],
   "source": [
    "MSE_LASSOCV_woPCA_model_10000 = mean_absolute_error(test_data['bandgap'],test_data['LASSOCV-woPCA-model'])\n",
    "MSE_LASSOCV_woPCA_model_10000"
   ]
  },
  {
   "cell_type": "code",
   "execution_count": 29,
   "id": "6a038038",
   "metadata": {},
   "outputs": [
    {
     "data": {
      "text/plain": [
       "0.008924283999999998"
      ]
     },
     "execution_count": 29,
     "metadata": {},
     "output_type": "execute_result"
    }
   ],
   "source": [
    "MSE_RFR_model_10000 = mean_absolute_error(test_data['bandgap'],test_data['RFR-model'])\n",
    "MSE_RFR_model_10000"
   ]
  },
  {
   "cell_type": "markdown",
   "id": "579a38ad",
   "metadata": {},
   "source": [
    "# Training_size=1000\n"
   ]
  },
  {
   "cell_type": "code",
   "execution_count": 30,
   "id": "760b8d3a",
   "metadata": {},
   "outputs": [],
   "source": [
    "train_data, test_data, train_desc, test_desc = train_test_split(data, desc, train_size=1000, test_size=2000)"
   ]
  },
  {
   "cell_type": "code",
   "execution_count": 31,
   "id": "6bf2ea6c",
   "metadata": {},
   "outputs": [],
   "source": [
    "test_data = test_data.copy()  \n",
    "test_data['LASSOCV-wPCA-model'] = model_wPCA.fit(train_desc, train_data['bandgap']).predict(test_desc)"
   ]
  },
  {
   "cell_type": "code",
   "execution_count": 32,
   "id": "ada8d15a",
   "metadata": {},
   "outputs": [
    {
     "name": "stderr",
     "output_type": "stream",
     "text": [
      "/Users/wueric/opt/anaconda3/envs/applied-ai/lib/python3.7/site-packages/sklearn/linear_model/_coordinate_descent.py:531: ConvergenceWarning: Objective did not converge. You might want to increase the number of iterations. Duality gap: 0.00033334168809573406, tolerance: 0.00018028708688\n",
      "  positive)\n",
      "/Users/wueric/opt/anaconda3/envs/applied-ai/lib/python3.7/site-packages/sklearn/linear_model/_coordinate_descent.py:531: ConvergenceWarning: Objective did not converge. You might want to increase the number of iterations. Duality gap: 0.0004378296588957442, tolerance: 0.00018028708688\n",
      "  positive)\n",
      "/Users/wueric/opt/anaconda3/envs/applied-ai/lib/python3.7/site-packages/sklearn/linear_model/_coordinate_descent.py:531: ConvergenceWarning: Objective did not converge. You might want to increase the number of iterations. Duality gap: 0.00019469983641154376, tolerance: 0.00018028708688\n",
      "  positive)\n",
      "/Users/wueric/opt/anaconda3/envs/applied-ai/lib/python3.7/site-packages/sklearn/linear_model/_coordinate_descent.py:531: ConvergenceWarning: Objective did not converge. You might want to increase the number of iterations. Duality gap: 0.00027753012324245596, tolerance: 0.00018028708688\n",
      "  positive)\n",
      "/Users/wueric/opt/anaconda3/envs/applied-ai/lib/python3.7/site-packages/sklearn/linear_model/_coordinate_descent.py:531: ConvergenceWarning: Objective did not converge. You might want to increase the number of iterations. Duality gap: 0.00041248989044823103, tolerance: 0.00018028708688\n",
      "  positive)\n",
      "/Users/wueric/opt/anaconda3/envs/applied-ai/lib/python3.7/site-packages/sklearn/linear_model/_coordinate_descent.py:531: ConvergenceWarning: Objective did not converge. You might want to increase the number of iterations. Duality gap: 0.00025120356316574166, tolerance: 0.00017428903829875005\n",
      "  positive)\n",
      "/Users/wueric/opt/anaconda3/envs/applied-ai/lib/python3.7/site-packages/sklearn/linear_model/_coordinate_descent.py:531: ConvergenceWarning: Objective did not converge. You might want to increase the number of iterations. Duality gap: 0.00035587776336182264, tolerance: 0.00017428903829875005\n",
      "  positive)\n",
      "/Users/wueric/opt/anaconda3/envs/applied-ai/lib/python3.7/site-packages/sklearn/linear_model/_coordinate_descent.py:531: ConvergenceWarning: Objective did not converge. You might want to increase the number of iterations. Duality gap: 0.00030893381946139886, tolerance: 0.00017428903829875005\n",
      "  positive)\n",
      "/Users/wueric/opt/anaconda3/envs/applied-ai/lib/python3.7/site-packages/sklearn/linear_model/_coordinate_descent.py:531: ConvergenceWarning: Objective did not converge. You might want to increase the number of iterations. Duality gap: 0.00027474644012781546, tolerance: 0.00017428903829875005\n",
      "  positive)\n",
      "/Users/wueric/opt/anaconda3/envs/applied-ai/lib/python3.7/site-packages/sklearn/linear_model/_coordinate_descent.py:531: ConvergenceWarning: Objective did not converge. You might want to increase the number of iterations. Duality gap: 0.0002999633755851605, tolerance: 0.00017428903829875005\n",
      "  positive)\n",
      "/Users/wueric/opt/anaconda3/envs/applied-ai/lib/python3.7/site-packages/sklearn/linear_model/_coordinate_descent.py:531: ConvergenceWarning: Objective did not converge. You might want to increase the number of iterations. Duality gap: 0.0002818843970342766, tolerance: 0.00017428903829875005\n",
      "  positive)\n",
      "/Users/wueric/opt/anaconda3/envs/applied-ai/lib/python3.7/site-packages/sklearn/linear_model/_coordinate_descent.py:531: ConvergenceWarning: Objective did not converge. You might want to increase the number of iterations. Duality gap: 0.00021700162333389283, tolerance: 0.00017428903829875005\n",
      "  positive)\n",
      "/Users/wueric/opt/anaconda3/envs/applied-ai/lib/python3.7/site-packages/sklearn/linear_model/_coordinate_descent.py:531: ConvergenceWarning: Objective did not converge. You might want to increase the number of iterations. Duality gap: 0.00026552305212851346, tolerance: 0.00017428903829875005\n",
      "  positive)\n",
      "/Users/wueric/opt/anaconda3/envs/applied-ai/lib/python3.7/site-packages/sklearn/linear_model/_coordinate_descent.py:531: ConvergenceWarning: Objective did not converge. You might want to increase the number of iterations. Duality gap: 0.00030848725931310883, tolerance: 0.00017428903829875005\n",
      "  positive)\n",
      "/Users/wueric/opt/anaconda3/envs/applied-ai/lib/python3.7/site-packages/sklearn/linear_model/_coordinate_descent.py:531: ConvergenceWarning: Objective did not converge. You might want to increase the number of iterations. Duality gap: 0.0003527107785060435, tolerance: 0.00017428903829875005\n",
      "  positive)\n",
      "/Users/wueric/opt/anaconda3/envs/applied-ai/lib/python3.7/site-packages/sklearn/linear_model/_coordinate_descent.py:531: ConvergenceWarning: Objective did not converge. You might want to increase the number of iterations. Duality gap: 0.0006587970975242691, tolerance: 0.00017428903829875005\n",
      "  positive)\n",
      "/Users/wueric/opt/anaconda3/envs/applied-ai/lib/python3.7/site-packages/sklearn/linear_model/_coordinate_descent.py:531: ConvergenceWarning: Objective did not converge. You might want to increase the number of iterations. Duality gap: 0.0007317575531258225, tolerance: 0.00017428903829875005\n",
      "  positive)\n",
      "/Users/wueric/opt/anaconda3/envs/applied-ai/lib/python3.7/site-packages/sklearn/linear_model/_coordinate_descent.py:531: ConvergenceWarning: Objective did not converge. You might want to increase the number of iterations. Duality gap: 0.00019767961047761906, tolerance: 0.000180239976355\n",
      "  positive)\n",
      "/Users/wueric/opt/anaconda3/envs/applied-ai/lib/python3.7/site-packages/sklearn/linear_model/_coordinate_descent.py:531: ConvergenceWarning: Objective did not converge. You might want to increase the number of iterations. Duality gap: 0.0003299747647325102, tolerance: 0.000180239976355\n",
      "  positive)\n",
      "/Users/wueric/opt/anaconda3/envs/applied-ai/lib/python3.7/site-packages/sklearn/linear_model/_coordinate_descent.py:531: ConvergenceWarning: Objective did not converge. You might want to increase the number of iterations. Duality gap: 0.00040204461032714023, tolerance: 0.000180239976355\n",
      "  positive)\n",
      "/Users/wueric/opt/anaconda3/envs/applied-ai/lib/python3.7/site-packages/sklearn/linear_model/_coordinate_descent.py:531: ConvergenceWarning: Objective did not converge. You might want to increase the number of iterations. Duality gap: 0.00026888663286964154, tolerance: 0.000180239976355\n",
      "  positive)\n",
      "/Users/wueric/opt/anaconda3/envs/applied-ai/lib/python3.7/site-packages/sklearn/linear_model/_coordinate_descent.py:531: ConvergenceWarning: Objective did not converge. You might want to increase the number of iterations. Duality gap: 0.0005531883080275857, tolerance: 0.000180239976355\n",
      "  positive)\n",
      "/Users/wueric/opt/anaconda3/envs/applied-ai/lib/python3.7/site-packages/sklearn/linear_model/_coordinate_descent.py:531: ConvergenceWarning: Objective did not converge. You might want to increase the number of iterations. Duality gap: 0.00038199705753577673, tolerance: 0.000180239976355\n",
      "  positive)\n",
      "/Users/wueric/opt/anaconda3/envs/applied-ai/lib/python3.7/site-packages/sklearn/linear_model/_coordinate_descent.py:531: ConvergenceWarning: Objective did not converge. You might want to increase the number of iterations. Duality gap: 0.00043145030251806604, tolerance: 0.000180239976355\n",
      "  positive)\n",
      "/Users/wueric/opt/anaconda3/envs/applied-ai/lib/python3.7/site-packages/sklearn/linear_model/_coordinate_descent.py:531: ConvergenceWarning: Objective did not converge. You might want to increase the number of iterations. Duality gap: 0.0008501312378226961, tolerance: 0.000180239976355\n",
      "  positive)\n",
      "/Users/wueric/opt/anaconda3/envs/applied-ai/lib/python3.7/site-packages/sklearn/linear_model/_coordinate_descent.py:531: ConvergenceWarning: Objective did not converge. You might want to increase the number of iterations. Duality gap: 0.00024096747760071757, tolerance: 0.00018017221479875003\n",
      "  positive)\n",
      "/Users/wueric/opt/anaconda3/envs/applied-ai/lib/python3.7/site-packages/sklearn/linear_model/_coordinate_descent.py:531: ConvergenceWarning: Objective did not converge. You might want to increase the number of iterations. Duality gap: 0.00027854156925946616, tolerance: 0.00018017221479875003\n",
      "  positive)\n",
      "/Users/wueric/opt/anaconda3/envs/applied-ai/lib/python3.7/site-packages/sklearn/linear_model/_coordinate_descent.py:531: ConvergenceWarning: Objective did not converge. You might want to increase the number of iterations. Duality gap: 0.0006042669048474947, tolerance: 0.00018017221479875003\n",
      "  positive)\n"
     ]
    },
    {
     "name": "stderr",
     "output_type": "stream",
     "text": [
      "/Users/wueric/opt/anaconda3/envs/applied-ai/lib/python3.7/site-packages/sklearn/linear_model/_coordinate_descent.py:531: ConvergenceWarning: Objective did not converge. You might want to increase the number of iterations. Duality gap: 0.0008414060453448974, tolerance: 0.00018017221479875003\n",
      "  positive)\n",
      "/Users/wueric/opt/anaconda3/envs/applied-ai/lib/python3.7/site-packages/sklearn/linear_model/_coordinate_descent.py:531: ConvergenceWarning: Objective did not converge. You might want to increase the number of iterations. Duality gap: 0.00032349705497472514, tolerance: 0.00017528670515500004\n",
      "  positive)\n",
      "/Users/wueric/opt/anaconda3/envs/applied-ai/lib/python3.7/site-packages/sklearn/linear_model/_coordinate_descent.py:531: ConvergenceWarning: Objective did not converge. You might want to increase the number of iterations. Duality gap: 0.0004541388076657049, tolerance: 0.00017528670515500004\n",
      "  positive)\n",
      "/Users/wueric/opt/anaconda3/envs/applied-ai/lib/python3.7/site-packages/sklearn/linear_model/_coordinate_descent.py:531: ConvergenceWarning: Objective did not converge. You might want to increase the number of iterations. Duality gap: 0.0003066466968584258, tolerance: 0.00017528670515500004\n",
      "  positive)\n",
      "/Users/wueric/opt/anaconda3/envs/applied-ai/lib/python3.7/site-packages/sklearn/linear_model/_coordinate_descent.py:531: ConvergenceWarning: Objective did not converge. You might want to increase the number of iterations. Duality gap: 0.0003323531722216333, tolerance: 0.00017528670515500004\n",
      "  positive)\n",
      "/Users/wueric/opt/anaconda3/envs/applied-ai/lib/python3.7/site-packages/sklearn/linear_model/_coordinate_descent.py:531: ConvergenceWarning: Objective did not converge. You might want to increase the number of iterations. Duality gap: 0.00028919397824661575, tolerance: 0.00017528670515500004\n",
      "  positive)\n",
      "/Users/wueric/opt/anaconda3/envs/applied-ai/lib/python3.7/site-packages/sklearn/linear_model/_coordinate_descent.py:531: ConvergenceWarning: Objective did not converge. You might want to increase the number of iterations. Duality gap: 0.0002956387951137951, tolerance: 0.00017528670515500004\n",
      "  positive)\n",
      "/Users/wueric/opt/anaconda3/envs/applied-ai/lib/python3.7/site-packages/sklearn/linear_model/_coordinate_descent.py:531: ConvergenceWarning: Objective did not converge. You might want to increase the number of iterations. Duality gap: 0.0002969554450051315, tolerance: 0.00017528670515500004\n",
      "  positive)\n",
      "/Users/wueric/opt/anaconda3/envs/applied-ai/lib/python3.7/site-packages/sklearn/linear_model/_coordinate_descent.py:531: ConvergenceWarning: Objective did not converge. You might want to increase the number of iterations. Duality gap: 0.00027482389764044157, tolerance: 0.00017528670515500004\n",
      "  positive)\n",
      "/Users/wueric/opt/anaconda3/envs/applied-ai/lib/python3.7/site-packages/sklearn/linear_model/_coordinate_descent.py:531: ConvergenceWarning: Objective did not converge. You might want to increase the number of iterations. Duality gap: 0.0003667093487211559, tolerance: 0.00017528670515500004\n",
      "  positive)\n",
      "/Users/wueric/opt/anaconda3/envs/applied-ai/lib/python3.7/site-packages/sklearn/linear_model/_coordinate_descent.py:531: ConvergenceWarning: Objective did not converge. You might want to increase the number of iterations. Duality gap: 0.00020473587740191257, tolerance: 0.00017528670515500004\n",
      "  positive)\n",
      "/Users/wueric/opt/anaconda3/envs/applied-ai/lib/python3.7/site-packages/sklearn/linear_model/_coordinate_descent.py:531: ConvergenceWarning: Objective did not converge. You might want to increase the number of iterations. Duality gap: 0.000450457167644025, tolerance: 0.00017528670515500004\n",
      "  positive)\n",
      "/Users/wueric/opt/anaconda3/envs/applied-ai/lib/python3.7/site-packages/sklearn/linear_model/_coordinate_descent.py:531: ConvergenceWarning: Objective did not converge. You might want to increase the number of iterations. Duality gap: 0.00044840183027265723, tolerance: 0.00017528670515500004\n",
      "  positive)\n",
      "/Users/wueric/opt/anaconda3/envs/applied-ai/lib/python3.7/site-packages/sklearn/linear_model/_coordinate_descent.py:531: ConvergenceWarning: Objective did not converge. You might want to increase the number of iterations. Duality gap: 0.0006280463811561415, tolerance: 0.00017528670515500004\n",
      "  positive)\n"
     ]
    }
   ],
   "source": [
    "test_data = test_data.copy()  \n",
    "test_data['LASSOCV-woPCA-model'] = model_woPCA.fit(train_desc, train_data['bandgap']).predict(test_desc)"
   ]
  },
  {
   "cell_type": "code",
   "execution_count": 33,
   "id": "3c309656",
   "metadata": {},
   "outputs": [],
   "source": [
    "test_data = test_data.copy()  \n",
    "test_data['RFR-model'] = model_RFR.fit(train_desc, train_data['bandgap']).predict(test_desc)"
   ]
  },
  {
   "cell_type": "code",
   "execution_count": 34,
   "id": "b17165ee",
   "metadata": {},
   "outputs": [
    {
     "data": {
      "text/plain": [
       "0.02557094814121244"
      ]
     },
     "execution_count": 34,
     "metadata": {},
     "output_type": "execute_result"
    }
   ],
   "source": [
    "MSE_LASSOCV_wPCA_model_1000 = mean_absolute_error(test_data['bandgap'],test_data['LASSOCV-wPCA-model'])\n",
    "MSE_LASSOCV_wPCA_model_1000"
   ]
  },
  {
   "cell_type": "code",
   "execution_count": 35,
   "id": "ea307f8f",
   "metadata": {},
   "outputs": [
    {
     "data": {
      "text/plain": [
       "0.013300532579149447"
      ]
     },
     "execution_count": 35,
     "metadata": {},
     "output_type": "execute_result"
    }
   ],
   "source": [
    "MSE_LASSOCV_woPCA_model_1000 = mean_absolute_error(test_data['bandgap'],test_data['LASSOCV-woPCA-model'])\n",
    "MSE_LASSOCV_woPCA_model_1000"
   ]
  },
  {
   "cell_type": "code",
   "execution_count": 36,
   "id": "78b4ac86",
   "metadata": {},
   "outputs": [
    {
     "data": {
      "text/plain": [
       "0.012246986999999997"
      ]
     },
     "execution_count": 36,
     "metadata": {},
     "output_type": "execute_result"
    }
   ],
   "source": [
    "MSE_RFR_model_1000 = mean_absolute_error(test_data['bandgap'],test_data['RFR-model'])\n",
    "MSE_RFR_model_1000"
   ]
  },
  {
   "cell_type": "markdown",
   "id": "e80f651a",
   "metadata": {},
   "source": [
    "# Training_size=100\n"
   ]
  },
  {
   "cell_type": "code",
   "execution_count": 37,
   "id": "68ebcec3",
   "metadata": {},
   "outputs": [],
   "source": [
    "train_data, test_data, train_desc, test_desc = train_test_split(data, desc, train_size=100, test_size=2000)# Training_size=10000\n"
   ]
  },
  {
   "cell_type": "code",
   "execution_count": 38,
   "id": "ca8cacbd",
   "metadata": {},
   "outputs": [],
   "source": [
    "test_data = test_data.copy()  \n",
    "test_data['LASSOCV-wPCA-model'] = model_wPCA.fit(train_desc, train_data['bandgap']).predict(test_desc)"
   ]
  },
  {
   "cell_type": "code",
   "execution_count": 39,
   "id": "296cb0e9",
   "metadata": {},
   "outputs": [
    {
     "name": "stderr",
     "output_type": "stream",
     "text": [
      "/Users/wueric/opt/anaconda3/envs/applied-ai/lib/python3.7/site-packages/sklearn/linear_model/_coordinate_descent.py:531: ConvergenceWarning: Objective did not converge. You might want to increase the number of iterations. Duality gap: 2.1031942023098764e-05, tolerance: 1.7337913950000005e-05\n",
      "  positive)\n",
      "/Users/wueric/opt/anaconda3/envs/applied-ai/lib/python3.7/site-packages/sklearn/linear_model/_coordinate_descent.py:531: ConvergenceWarning: Objective did not converge. You might want to increase the number of iterations. Duality gap: 1.8137533677338316e-05, tolerance: 1.7337913950000005e-05\n",
      "  positive)\n",
      "/Users/wueric/opt/anaconda3/envs/applied-ai/lib/python3.7/site-packages/sklearn/linear_model/_coordinate_descent.py:531: ConvergenceWarning: Objective did not converge. You might want to increase the number of iterations. Duality gap: 2.1646608653482435e-05, tolerance: 1.7337913950000005e-05\n",
      "  positive)\n",
      "/Users/wueric/opt/anaconda3/envs/applied-ai/lib/python3.7/site-packages/sklearn/linear_model/_coordinate_descent.py:531: ConvergenceWarning: Objective did not converge. You might want to increase the number of iterations. Duality gap: 2.6593691069699832e-05, tolerance: 1.7337913950000005e-05\n",
      "  positive)\n",
      "/Users/wueric/opt/anaconda3/envs/applied-ai/lib/python3.7/site-packages/sklearn/linear_model/_coordinate_descent.py:531: ConvergenceWarning: Objective did not converge. You might want to increase the number of iterations. Duality gap: 3.00187080147577e-05, tolerance: 1.7337913950000005e-05\n",
      "  positive)\n",
      "/Users/wueric/opt/anaconda3/envs/applied-ai/lib/python3.7/site-packages/sklearn/linear_model/_coordinate_descent.py:531: ConvergenceWarning: Objective did not converge. You might want to increase the number of iterations. Duality gap: 3.020269231788738e-05, tolerance: 1.7337913950000005e-05\n",
      "  positive)\n",
      "/Users/wueric/opt/anaconda3/envs/applied-ai/lib/python3.7/site-packages/sklearn/linear_model/_coordinate_descent.py:531: ConvergenceWarning: Objective did not converge. You might want to increase the number of iterations. Duality gap: 3.106224801877587e-05, tolerance: 1.7337913950000005e-05\n",
      "  positive)\n",
      "/Users/wueric/opt/anaconda3/envs/applied-ai/lib/python3.7/site-packages/sklearn/linear_model/_coordinate_descent.py:531: ConvergenceWarning: Objective did not converge. You might want to increase the number of iterations. Duality gap: 2.968985427878948e-05, tolerance: 1.7337913950000005e-05\n",
      "  positive)\n",
      "/Users/wueric/opt/anaconda3/envs/applied-ai/lib/python3.7/site-packages/sklearn/linear_model/_coordinate_descent.py:531: ConvergenceWarning: Objective did not converge. You might want to increase the number of iterations. Duality gap: 2.4190307468452388e-05, tolerance: 1.7337913950000005e-05\n",
      "  positive)\n",
      "/Users/wueric/opt/anaconda3/envs/applied-ai/lib/python3.7/site-packages/sklearn/linear_model/_coordinate_descent.py:531: ConvergenceWarning: Objective did not converge. You might want to increase the number of iterations. Duality gap: 1.796290576318939e-05, tolerance: 1.7337913950000005e-05\n",
      "  positive)\n",
      "/Users/wueric/opt/anaconda3/envs/applied-ai/lib/python3.7/site-packages/sklearn/linear_model/_coordinate_descent.py:531: ConvergenceWarning: Objective did not converge. You might want to increase the number of iterations. Duality gap: 2.009148018220202e-05, tolerance: 2.0039102800000004e-05\n",
      "  positive)\n",
      "/Users/wueric/opt/anaconda3/envs/applied-ai/lib/python3.7/site-packages/sklearn/linear_model/_coordinate_descent.py:531: ConvergenceWarning: Objective did not converge. You might want to increase the number of iterations. Duality gap: 2.2835070342328446e-05, tolerance: 2.0039102800000004e-05\n",
      "  positive)\n",
      "/Users/wueric/opt/anaconda3/envs/applied-ai/lib/python3.7/site-packages/sklearn/linear_model/_coordinate_descent.py:531: ConvergenceWarning: Objective did not converge. You might want to increase the number of iterations. Duality gap: 2.245455436202014e-05, tolerance: 2.0039102800000004e-05\n",
      "  positive)\n",
      "/Users/wueric/opt/anaconda3/envs/applied-ai/lib/python3.7/site-packages/sklearn/linear_model/_coordinate_descent.py:531: ConvergenceWarning: Objective did not converge. You might want to increase the number of iterations. Duality gap: 1.769951696748871e-05, tolerance: 1.62320743875e-05\n",
      "  positive)\n",
      "/Users/wueric/opt/anaconda3/envs/applied-ai/lib/python3.7/site-packages/sklearn/linear_model/_coordinate_descent.py:531: ConvergenceWarning: Objective did not converge. You might want to increase the number of iterations. Duality gap: 1.795917754488874e-05, tolerance: 1.62320743875e-05\n",
      "  positive)\n"
     ]
    }
   ],
   "source": [
    "test_data = test_data.copy()  \n",
    "test_data['LASSOCV-woPCA-model'] = model_woPCA.fit(train_desc, train_data['bandgap']).predict(test_desc)"
   ]
  },
  {
   "cell_type": "code",
   "execution_count": 40,
   "id": "d271ba3d",
   "metadata": {},
   "outputs": [],
   "source": [
    "test_data = test_data.copy()  \n",
    "test_data['RFR-model'] = model_RFR.fit(train_desc, train_data['bandgap']).predict(test_desc)"
   ]
  },
  {
   "cell_type": "code",
   "execution_count": 41,
   "id": "58c0e5f2",
   "metadata": {},
   "outputs": [
    {
     "data": {
      "text/plain": [
       "0.029052758355669075"
      ]
     },
     "execution_count": 41,
     "metadata": {},
     "output_type": "execute_result"
    }
   ],
   "source": [
    "MSE_LASSOCV_wPCA_model_100 = mean_absolute_error(test_data['bandgap'],test_data['LASSOCV-wPCA-model'])\n",
    "MSE_LASSOCV_wPCA_model_100"
   ]
  },
  {
   "cell_type": "code",
   "execution_count": 42,
   "id": "e14de816",
   "metadata": {},
   "outputs": [
    {
     "data": {
      "text/plain": [
       "0.0191066697101104"
      ]
     },
     "execution_count": 42,
     "metadata": {},
     "output_type": "execute_result"
    }
   ],
   "source": [
    "MSE_LASSOCV_woPCA_model_100 = mean_absolute_error(test_data['bandgap'],test_data['LASSOCV-woPCA-model'])\n",
    "MSE_LASSOCV_woPCA_model_100"
   ]
  },
  {
   "cell_type": "code",
   "execution_count": 43,
   "id": "dde75f4d",
   "metadata": {},
   "outputs": [
    {
     "data": {
      "text/plain": [
       "0.017696689500000005"
      ]
     },
     "execution_count": 43,
     "metadata": {},
     "output_type": "execute_result"
    }
   ],
   "source": [
    "MSE_RFR_model_100 = mean_absolute_error(test_data['bandgap'],test_data['RFR-model'])\n",
    "MSE_RFR_model_100"
   ]
  },
  {
   "cell_type": "markdown",
   "id": "a8d8ff60",
   "metadata": {},
   "source": [
    "# Training_size=10\n"
   ]
  },
  {
   "cell_type": "code",
   "execution_count": 44,
   "id": "2f3ac621",
   "metadata": {},
   "outputs": [
    {
     "data": {
      "text/plain": [
       "('test_data,',\n",
       " 'train_desc,',\n",
       " 'test_desc',\n",
       " '=',\n",
       " 'train_test_split(data,',\n",
       " 'desc,',\n",
       " 'train_size=10,',\n",
       " 'test_size=2000)')"
      ]
     },
     "execution_count": 44,
     "metadata": {},
     "output_type": "execute_result"
    }
   ],
   "source": [
    "train_data# Training_size=10000\n",
    ", test_data, train_desc, test_desc = train_test_split(data, desc, train_size=10, test_size=2000)"
   ]
  },
  {
   "cell_type": "code",
   "execution_count": 45,
   "id": "30d4d9e3",
   "metadata": {},
   "outputs": [],
   "source": [
    "test_data = test_data.copy()  \n",
    "test_data['LASSOCV-wPCA-model'] = model_wPCA.fit(train_desc, train_data['bandgap']).predict(test_desc)"
   ]
  },
  {
   "cell_type": "code",
   "execution_count": 46,
   "id": "4295556a",
   "metadata": {},
   "outputs": [
    {
     "name": "stderr",
     "output_type": "stream",
     "text": [
      "/Users/wueric/opt/anaconda3/envs/applied-ai/lib/python3.7/site-packages/sklearn/linear_model/_coordinate_descent.py:531: ConvergenceWarning: Objective did not converge. You might want to increase the number of iterations. Duality gap: 2.1031942023098764e-05, tolerance: 1.7337913950000005e-05\n",
      "  positive)\n",
      "/Users/wueric/opt/anaconda3/envs/applied-ai/lib/python3.7/site-packages/sklearn/linear_model/_coordinate_descent.py:531: ConvergenceWarning: Objective did not converge. You might want to increase the number of iterations. Duality gap: 1.8137533677338316e-05, tolerance: 1.7337913950000005e-05\n",
      "  positive)\n",
      "/Users/wueric/opt/anaconda3/envs/applied-ai/lib/python3.7/site-packages/sklearn/linear_model/_coordinate_descent.py:531: ConvergenceWarning: Objective did not converge. You might want to increase the number of iterations. Duality gap: 2.1646608653482435e-05, tolerance: 1.7337913950000005e-05\n",
      "  positive)\n",
      "/Users/wueric/opt/anaconda3/envs/applied-ai/lib/python3.7/site-packages/sklearn/linear_model/_coordinate_descent.py:531: ConvergenceWarning: Objective did not converge. You might want to increase the number of iterations. Duality gap: 2.6593691069699832e-05, tolerance: 1.7337913950000005e-05\n",
      "  positive)\n",
      "/Users/wueric/opt/anaconda3/envs/applied-ai/lib/python3.7/site-packages/sklearn/linear_model/_coordinate_descent.py:531: ConvergenceWarning: Objective did not converge. You might want to increase the number of iterations. Duality gap: 3.00187080147577e-05, tolerance: 1.7337913950000005e-05\n",
      "  positive)\n",
      "/Users/wueric/opt/anaconda3/envs/applied-ai/lib/python3.7/site-packages/sklearn/linear_model/_coordinate_descent.py:531: ConvergenceWarning: Objective did not converge. You might want to increase the number of iterations. Duality gap: 3.020269231788738e-05, tolerance: 1.7337913950000005e-05\n",
      "  positive)\n",
      "/Users/wueric/opt/anaconda3/envs/applied-ai/lib/python3.7/site-packages/sklearn/linear_model/_coordinate_descent.py:531: ConvergenceWarning: Objective did not converge. You might want to increase the number of iterations. Duality gap: 3.106224801877587e-05, tolerance: 1.7337913950000005e-05\n",
      "  positive)\n",
      "/Users/wueric/opt/anaconda3/envs/applied-ai/lib/python3.7/site-packages/sklearn/linear_model/_coordinate_descent.py:531: ConvergenceWarning: Objective did not converge. You might want to increase the number of iterations. Duality gap: 2.968985427878948e-05, tolerance: 1.7337913950000005e-05\n",
      "  positive)\n",
      "/Users/wueric/opt/anaconda3/envs/applied-ai/lib/python3.7/site-packages/sklearn/linear_model/_coordinate_descent.py:531: ConvergenceWarning: Objective did not converge. You might want to increase the number of iterations. Duality gap: 2.4190307468452388e-05, tolerance: 1.7337913950000005e-05\n",
      "  positive)\n",
      "/Users/wueric/opt/anaconda3/envs/applied-ai/lib/python3.7/site-packages/sklearn/linear_model/_coordinate_descent.py:531: ConvergenceWarning: Objective did not converge. You might want to increase the number of iterations. Duality gap: 1.796290576318939e-05, tolerance: 1.7337913950000005e-05\n",
      "  positive)\n",
      "/Users/wueric/opt/anaconda3/envs/applied-ai/lib/python3.7/site-packages/sklearn/linear_model/_coordinate_descent.py:531: ConvergenceWarning: Objective did not converge. You might want to increase the number of iterations. Duality gap: 2.009148018220202e-05, tolerance: 2.0039102800000004e-05\n",
      "  positive)\n",
      "/Users/wueric/opt/anaconda3/envs/applied-ai/lib/python3.7/site-packages/sklearn/linear_model/_coordinate_descent.py:531: ConvergenceWarning: Objective did not converge. You might want to increase the number of iterations. Duality gap: 2.2835070342328446e-05, tolerance: 2.0039102800000004e-05\n",
      "  positive)\n",
      "/Users/wueric/opt/anaconda3/envs/applied-ai/lib/python3.7/site-packages/sklearn/linear_model/_coordinate_descent.py:531: ConvergenceWarning: Objective did not converge. You might want to increase the number of iterations. Duality gap: 2.245455436202014e-05, tolerance: 2.0039102800000004e-05\n",
      "  positive)\n",
      "/Users/wueric/opt/anaconda3/envs/applied-ai/lib/python3.7/site-packages/sklearn/linear_model/_coordinate_descent.py:531: ConvergenceWarning: Objective did not converge. You might want to increase the number of iterations. Duality gap: 1.769951696748871e-05, tolerance: 1.62320743875e-05\n",
      "  positive)\n",
      "/Users/wueric/opt/anaconda3/envs/applied-ai/lib/python3.7/site-packages/sklearn/linear_model/_coordinate_descent.py:531: ConvergenceWarning: Objective did not converge. You might want to increase the number of iterations. Duality gap: 1.795917754488874e-05, tolerance: 1.62320743875e-05\n",
      "  positive)\n"
     ]
    }
   ],
   "source": [
    "test_data = test_data.copy()  \n",
    "test_data['LASSOCV-woPCA-model'] = model_woPCA.fit(train_desc, train_data['bandgap']).predict(test_desc)"
   ]
  },
  {
   "cell_type": "code",
   "execution_count": 47,
   "id": "a0703473",
   "metadata": {},
   "outputs": [],
   "source": [
    "test_data = test_data.copy()  \n",
    "test_data['RFR-model'] = model_RFR.fit(train_desc, train_data['bandgap']).predict(test_desc)"
   ]
  },
  {
   "cell_type": "code",
   "execution_count": 48,
   "id": "03e857f0",
   "metadata": {},
   "outputs": [
    {
     "data": {
      "text/plain": [
       "0.029053020960381985"
      ]
     },
     "execution_count": 48,
     "metadata": {},
     "output_type": "execute_result"
    }
   ],
   "source": [
    "MSE_LASSOCV_wPCA_model_10 = mean_absolute_error(test_data['bandgap'],test_data['LASSOCV-wPCA-model'])\n",
    "MSE_LASSOCV_wPCA_model_10"
   ]
  },
  {
   "cell_type": "code",
   "execution_count": 49,
   "id": "ad758d2b",
   "metadata": {},
   "outputs": [
    {
     "data": {
      "text/plain": [
       "0.0191066697101104"
      ]
     },
     "execution_count": 49,
     "metadata": {},
     "output_type": "execute_result"
    }
   ],
   "source": [
    "MSE_LASSOCV_woPCA_model_10 = mean_absolute_error(test_data['bandgap'],test_data['LASSOCV-woPCA-model'])\n",
    "MSE_LASSOCV_woPCA_model_10"
   ]
  },
  {
   "cell_type": "code",
   "execution_count": 50,
   "id": "95579a8f",
   "metadata": {},
   "outputs": [
    {
     "data": {
      "text/plain": [
       "0.017779839000000002"
      ]
     },
     "execution_count": 50,
     "metadata": {},
     "output_type": "execute_result"
    }
   ],
   "source": [
    "MSE_RFR_model_10 = mean_absolute_error(test_data['bandgap'],test_data['RFR-model'])\n",
    "MSE_RFR_model_10"
   ]
  },
  {
   "cell_type": "code",
   "execution_count": 62,
   "id": "b70238f2",
   "metadata": {},
   "outputs": [
    {
     "data": {
      "text/plain": [
       "Text(0, 0.5, 'MSE')"
      ]
     },
     "execution_count": 62,
     "metadata": {},
     "output_type": "execute_result"
    },
    {
     "data": {
      "image/png": "[encoded data removed]",
      "text/plain": [
       "<Figure size 432x288 with 1 Axes>"
      ]
     },
     "metadata": {
      "needs_background": "light"
     },
     "output_type": "display_data"
    }
   ],
   "source": [
    "plt.bar([1, 2, 3, 4],[MSE_LASSOCV_wPCA_model_10,MSE_LASSOCV_wPCA_model_100,MSE_LASSOCV_wPCA_model_1000,MSE_LASSOCV_wPCA_model_10000])\n",
    "plt.title('MSE of LASSOCV model with PCA n=8')\n",
    "plt.xlabel('log(N_train)')\n",
    "plt.ylabel('MSE')"
   ]
  },
  {
   "cell_type": "code",
   "execution_count": 63,
   "id": "13ec3dae",
   "metadata": {},
   "outputs": [
    {
     "data": {
      "text/plain": [
       "Text(0, 0.5, 'MSE')"
      ]
     },
     "execution_count": 63,
     "metadata": {},
     "output_type": "execute_result"
    },
    {
     "data": {
      "image/png": "[encoded data removed]",
      "text/plain": [
       "<Figure size 432x288 with 1 Axes>"
      ]
     },
     "metadata": {
      "needs_background": "light"
     },
     "output_type": "display_data"
    }
   ],
   "source": [
    "plt.bar([1, 2, 3, 4],[MSE_LASSOCV_woPCA_model_10,MSE_LASSOCV_woPCA_model_100,MSE_LASSOCV_woPCA_model_1000,MSE_LASSOCV_woPCA_model_10000])\n",
    "plt.title('MSE of LASSOCV model w/o PCA ')\n",
    "plt.xlabel('log(N_train)')\n",
    "plt.ylabel('MSE')"
   ]
  },
  {
   "cell_type": "code",
   "execution_count": 64,
   "id": "f6880265",
   "metadata": {},
   "outputs": [
    {
     "data": {
      "text/plain": [
       "Text(0, 0.5, 'MSE')"
      ]
     },
     "execution_count": 64,
     "metadata": {},
     "output_type": "execute_result"
    },
    {
     "data": {
      "image/png": "[encoded data removed]",
      "text/plain": [
       "<Figure size 432x288 with 1 Axes>"
      ]
     },
     "metadata": {
      "needs_background": "light"
     },
     "output_type": "display_data"
    }
   ],
   "source": [
    "plt.bar([1, 2, 3, 4],[MSE_RFR_model_10,MSE_RFR_model_100,MSE_RFR_model_1000,MSE_RFR_model_10000])\n",
    "plt.title('MSE of RandomForest model')\n",
    "plt.xlabel('log(N_train)')\n",
    "plt.ylabel('MSE')"
   ]
  },
  {
   "cell_type": "markdown",
   "id": "80ac75f1",
   "metadata": {},
   "source": [
    "# Chemical Descriptors Q1:"
   ]
  },
  {
   "cell_type": "markdown",
   "id": "44ff5971",
   "metadata": {},
   "source": [
    "\n",
    "Figures have been shown as above. Observe the MSE between three models, we can see that LASSOCV model with PCA(n=8) gives the larger error no matter how large the traning set size is. The LASSOCV model without PCA ranks second and the Random Forset model gives the best prediction. \n",
    "\n",
    "\n",
    "Q1:How do the results compare? Why do some models continue to improve at large training set sizes while others do not?\n",
    "\n",
    "\n",
    "Observe the changes of MSE as the training set sizes increase, we found that LASSOCV model with PCA(n=8) doesn't improve as the training set sizes change from 1000 to 10000. This is because we only allowed 8 main features to fit the data points, but only 8 main features is not enough to describe the whole 10000 data points. Thus even with the larger training set size, the model didn't give the better results. RF and LASSOCV without PCA contain all features so their performance become better with larger training set size. "
   ]
  },
  {
   "cell_type": "markdown",
   "id": "4e2e064a",
   "metadata": {},
   "source": [
    "# Chemical Descriptors Q2:"
   ]
  },
  {
   "cell_type": "code",
   "execution_count": 51,
   "id": "de8dceb5",
   "metadata": {},
   "outputs": [],
   "source": [
    "train_data, test_data, train_desc, test_desc = train_test_split(data, desc, train_size=10000, test_size=2000)"
   ]
  },
  {
   "cell_type": "code",
   "execution_count": 73,
   "id": "22af5824",
   "metadata": {},
   "outputs": [],
   "source": [
    "scaler = StandardScaler()\n",
    "feats = scaler.fit_transform(train_desc)"
   ]
  },
  {
   "cell_type": "code",
   "execution_count": 75,
   "id": "be69c9a9",
   "metadata": {},
   "outputs": [
    {
     "name": "stderr",
     "output_type": "stream",
     "text": [
      "/Users/wueric/opt/anaconda3/envs/applied-ai/lib/python3.7/site-packages/sklearn/linear_model/_coordinate_descent.py:527: ConvergenceWarning: Objective did not converge. You might want to increase the number of iterations. Duality gap: 0.002641366367725162, tolerance: 0.0017768059704988753\n",
      "  tol, rng, random, positive)\n",
      "/Users/wueric/opt/anaconda3/envs/applied-ai/lib/python3.7/site-packages/sklearn/linear_model/_coordinate_descent.py:527: ConvergenceWarning: Objective did not converge. You might want to increase the number of iterations. Duality gap: 0.0023426394462977562, tolerance: 0.0017768059704988753\n",
      "  tol, rng, random, positive)\n",
      "/Users/wueric/opt/anaconda3/envs/applied-ai/lib/python3.7/site-packages/sklearn/linear_model/_coordinate_descent.py:527: ConvergenceWarning: Objective did not converge. You might want to increase the number of iterations. Duality gap: 0.0033649699870270666, tolerance: 0.0017698046942688753\n",
      "  tol, rng, random, positive)\n",
      "/Users/wueric/opt/anaconda3/envs/applied-ai/lib/python3.7/site-packages/sklearn/linear_model/_coordinate_descent.py:527: ConvergenceWarning: Objective did not converge. You might want to increase the number of iterations. Duality gap: 0.0030518167931390394, tolerance: 0.0017698046942688753\n",
      "  tol, rng, random, positive)\n",
      "/Users/wueric/opt/anaconda3/envs/applied-ai/lib/python3.7/site-packages/sklearn/linear_model/_coordinate_descent.py:527: ConvergenceWarning: Objective did not converge. You might want to increase the number of iterations. Duality gap: 0.0026629122311421227, tolerance: 0.0017698046942688753\n",
      "  tol, rng, random, positive)\n",
      "/Users/wueric/opt/anaconda3/envs/applied-ai/lib/python3.7/site-packages/sklearn/linear_model/_coordinate_descent.py:527: ConvergenceWarning: Objective did not converge. You might want to increase the number of iterations. Duality gap: 0.0019824516935340597, tolerance: 0.0018049495317948748\n",
      "  tol, rng, random, positive)\n",
      "/Users/wueric/opt/anaconda3/envs/applied-ai/lib/python3.7/site-packages/sklearn/linear_model/_coordinate_descent.py:527: ConvergenceWarning: Objective did not converge. You might want to increase the number of iterations. Duality gap: 0.0028313955660812518, tolerance: 0.0018049495317948748\n",
      "  tol, rng, random, positive)\n",
      "/Users/wueric/opt/anaconda3/envs/applied-ai/lib/python3.7/site-packages/sklearn/linear_model/_coordinate_descent.py:527: ConvergenceWarning: Objective did not converge. You might want to increase the number of iterations. Duality gap: 0.003098086095119079, tolerance: 0.0017720658816338748\n",
      "  tol, rng, random, positive)\n",
      "/Users/wueric/opt/anaconda3/envs/applied-ai/lib/python3.7/site-packages/sklearn/linear_model/_coordinate_descent.py:527: ConvergenceWarning: Objective did not converge. You might want to increase the number of iterations. Duality gap: 0.0027199964268294075, tolerance: 0.0017720658816338748\n",
      "  tol, rng, random, positive)\n",
      "/Users/wueric/opt/anaconda3/envs/applied-ai/lib/python3.7/site-packages/sklearn/linear_model/_coordinate_descent.py:531: ConvergenceWarning: Objective did not converge. You might want to increase the number of iterations. Duality gap: 0.2591146188739921, tolerance: 0.0022214306620031003\n",
      "  positive)\n"
     ]
    }
   ],
   "source": [
    "lasso_woPCA = LassoCV().fit(feats, train_data['bandgap'])\n"
   ]
  },
  {
   "cell_type": "code",
   "execution_count": 76,
   "id": "b9c64380",
   "metadata": {},
   "outputs": [],
   "source": [
    "RFR = RandomForestRegressor().fit(feats,train_data['bandgap'])"
   ]
  },
  {
   "cell_type": "code",
   "execution_count": 157,
   "id": "e20ffdc8",
   "metadata": {},
   "outputs": [],
   "source": [
    "lasso_features_ranking = np.argsort(lasso_woPCA.coef_) #times -1 to sort in the descending order "
   ]
  },
  {
   "cell_type": "code",
   "execution_count": 160,
   "id": "81bafc65",
   "metadata": {},
   "outputs": [
    {
     "data": {
      "text/plain": [
       "array([303,  30, 695, 176, 718, 531, 302, 554, 702, 204])"
      ]
     },
     "execution_count": 160,
     "metadata": {},
     "output_type": "execute_result"
    }
   ],
   "source": [
    "lasso_features_ranking[-10:]"
   ]
  },
  {
   "cell_type": "code",
   "execution_count": 164,
   "id": "5c7b7480",
   "metadata": {},
   "outputs": [],
   "source": [
    "RF_features_ranking = np.argsort(RFR.feature_importances_)"
   ]
  },
  {
   "cell_type": "code",
   "execution_count": 165,
   "id": "b875c088",
   "metadata": {},
   "outputs": [
    {
     "data": {
      "text/plain": [
       "array([  3, 322, 592, 443, 454, 717, 460, 593, 300, 448])"
      ]
     },
     "execution_count": 165,
     "metadata": {},
     "output_type": "execute_result"
    }
   ],
   "source": [
    "RF_features_ranking[-10:]"
   ]
  },
  {
   "cell_type": "markdown",
   "id": "4b4fd441",
   "metadata": {},
   "source": [
    "Q2-1:Compare the top 10 features with lasso and random forest. Are any the same? Why is this expected?\n",
    "\n",
    "None of features in both model are the same. Since some of the relationship obtained from the random forest are not well-represented by the linear regression model.\n"
   ]
  },
  {
   "cell_type": "markdown",
   "id": "889cafde",
   "metadata": {},
   "source": [
    "Q2-2... Give up.... sorry...."
   ]
  },
  {
   "cell_type": "markdown",
   "id": "d1c39cfe",
   "metadata": {},
   "source": [
    "# Molecular Fingerprints\n"
   ]
  },
  {
   "cell_type": "code",
   "execution_count": 1,
   "id": "eede30e1",
   "metadata": {},
   "outputs": [],
   "source": [
    "%matplotlib inline\n",
    "from matplotlib import pyplot as plt\n",
    "from sklearn.model_selection import train_test_split\n",
    "from sklearn.neighbors import KNeighborsRegressor\n",
    "from sklearn.pipeline import Pipeline\n",
    "from sklearn.metrics import r2_score, mean_absolute_error\n",
    "from sklearn.base import BaseEstimator, TransformerMixin\n",
    "from sklearn.feature_selection import RFE\n",
    "from sklearn.ensemble import RandomForestRegressor\n",
    "from sklearn.ensemble import RandomForestClassifier\n",
    "from rdkit.Chem import AllChem\n",
    "from rdkit import DataStructs\n",
    "from rdkit import Chem\n",
    "from tqdm import tqdm\n",
    "import pandas as pd\n",
    "import numpy as np"
   ]
  },
  {
   "cell_type": "code",
   "execution_count": 2,
   "id": "addea575",
   "metadata": {},
   "outputs": [],
   "source": [
    "data = pd.read_json('../datasets/qm9.json.gz', lines=True)"
   ]
  },
  {
   "cell_type": "code",
   "execution_count": 3,
   "id": "8e454472",
   "metadata": {},
   "outputs": [],
   "source": [
    "def compute_morgan_fingerprints(smiles: str, fingerprint_length: int, fingerprint_radius: int):\n",
    "    \"\"\"Get Morgan Fingerprint of a specific SMILES string.\n",
    "    Adapted from: <https://github.com/google-research/google-research/blob/\n",
    "    dfac4178ccf521e8d6eae45f7b0a33a6a5b691ee/mol_dqn/chemgraph/dqn/deep_q_networks.py#L750>\n",
    "    Args:\n",
    "      graph (str): The molecule as a SMILES string\n",
    "      fingerprint_length (int): Bit-length of fingerprint\n",
    "      fingerprint_radius (int): Radius used to compute fingerprint\n",
    "    Returns:\n",
    "      np.array. shape = [hparams, fingerprint_length]. The Morgan fingerprint.\n",
    "    \"\"\"\n",
    "    # Parse the molecule\n",
    "    molecule = Chem.MolFromSmiles(smiles)\n",
    "\n",
    "    # Compute the fingerprint\n",
    "    fingerprint = AllChem.GetMorganFingerprintAsBitVect(\n",
    "        molecule, fingerprint_radius, fingerprint_length)\n",
    "    arr = np.zeros((1,), dtype=np.bool)\n",
    "\n",
    "    # ConvertToNumpyArray takes ~ 0.19 ms, while\n",
    "    # np.asarray takes ~ 4.69 ms\n",
    "    DataStructs.ConvertToNumpyArray(fingerprint, arr)\n",
    "    return arr"
   ]
  },
  {
   "cell_type": "code",
   "execution_count": 4,
   "id": "c49a1386",
   "metadata": {},
   "outputs": [],
   "source": [
    "class MorganFingerprintTransformer(BaseEstimator, TransformerMixin):\n",
    "    \"\"\"Class that converts SMILES strings to fingerprint vectors\"\"\"\n",
    "    \n",
    "    def __init__(self, length: int = 128, radius: int = 3):\n",
    "        self.length = length\n",
    "        self.radius = radius\n",
    "    \n",
    "    def fit(self, X, y=None):\n",
    "        return self  # Do need to do anything\n",
    "    \n",
    "    def transform(self, X, y=None):\n",
    "        \"\"\"Compute the fingerprints\n",
    "        \n",
    "        Args:\n",
    "            X: List of SMILES strings\n",
    "        Returns:\n",
    "            Array of fingerprints\n",
    "        \"\"\"\n",
    "        \n",
    "        fing = [compute_morgan_fingerprints(m, self.length, self.radius) for m in X]\n",
    "        return np.vstack(fing)"
   ]
  },
  {
   "cell_type": "code",
   "execution_count": 5,
   "id": "be71c077",
   "metadata": {},
   "outputs": [],
   "source": [
    "model = Pipeline([\n",
    "    ('fingerprint', MorganFingerprintTransformer()),\n",
    "    ('knn', KNeighborsRegressor(n_neighbors=1, metric='jaccard', n_jobs=-1))  # n_jobs = -1 lets the model run all available processors\n",
    "])"
   ]
  },
  {
   "cell_type": "code",
   "execution_count": 6,
   "id": "f9e4110e",
   "metadata": {},
   "outputs": [],
   "source": [
    "train_data, test_data = train_test_split(data, train_size=1000, test_size=2000)"
   ]
  },
  {
   "cell_type": "code",
   "execution_count": 7,
   "id": "6c70232a",
   "metadata": {},
   "outputs": [],
   "source": [
    "kNN_neighbor_1 = model.fit(train_data['smiles_0'],train_data['bandgap']).predict(test_data['smiles_0'])"
   ]
  },
  {
   "cell_type": "code",
   "execution_count": 8,
   "id": "f04fa94b",
   "metadata": {},
   "outputs": [
    {
     "data": {
      "text/plain": [
       "Pipeline(steps=[('fingerprint', MorganFingerprintTransformer()),\n",
       "                ('knn',\n",
       "                 KNeighborsRegressor(metric='jaccard', n_jobs=-1,\n",
       "                                     n_neighbors=2))])"
      ]
     },
     "execution_count": 8,
     "metadata": {},
     "output_type": "execute_result"
    }
   ],
   "source": [
    "model.set_params(knn__n_neighbors=2)"
   ]
  },
  {
   "cell_type": "code",
   "execution_count": 9,
   "id": "755b8762",
   "metadata": {},
   "outputs": [],
   "source": [
    "kNN_neighbor_2 = model.fit(train_data['smiles_0'],train_data['bandgap']).predict(test_data['smiles_0'])"
   ]
  },
  {
   "cell_type": "code",
   "execution_count": 10,
   "id": "96f2d4fa",
   "metadata": {},
   "outputs": [
    {
     "data": {
      "text/plain": [
       "Pipeline(steps=[('fingerprint', MorganFingerprintTransformer()),\n",
       "                ('knn',\n",
       "                 KNeighborsRegressor(metric='jaccard', n_jobs=-1,\n",
       "                                     n_neighbors=4))])"
      ]
     },
     "execution_count": 10,
     "metadata": {},
     "output_type": "execute_result"
    }
   ],
   "source": [
    "model.set_params(knn__n_neighbors=4)"
   ]
  },
  {
   "cell_type": "code",
   "execution_count": 11,
   "id": "d1c35b80",
   "metadata": {},
   "outputs": [],
   "source": [
    "kNN_neighbor_4 = model.fit(train_data['smiles_0'],train_data['bandgap']).predict(test_data['smiles_0'])"
   ]
  },
  {
   "cell_type": "code",
   "execution_count": 12,
   "id": "7cee63e1",
   "metadata": {},
   "outputs": [
    {
     "data": {
      "text/plain": [
       "Pipeline(steps=[('fingerprint', MorganFingerprintTransformer()),\n",
       "                ('knn',\n",
       "                 KNeighborsRegressor(metric='jaccard', n_jobs=-1,\n",
       "                                     n_neighbors=8))])"
      ]
     },
     "execution_count": 12,
     "metadata": {},
     "output_type": "execute_result"
    }
   ],
   "source": [
    "model.set_params(knn__n_neighbors=8)"
   ]
  },
  {
   "cell_type": "code",
   "execution_count": 13,
   "id": "3d6f17dc",
   "metadata": {},
   "outputs": [],
   "source": [
    "kNN_neighbor_8 = model.fit(train_data['smiles_0'],train_data['bandgap']).predict(test_data['smiles_0'])"
   ]
  },
  {
   "cell_type": "code",
   "execution_count": 14,
   "id": "ac20acfd",
   "metadata": {},
   "outputs": [
    {
     "data": {
      "text/plain": [
       "Pipeline(steps=[('fingerprint', MorganFingerprintTransformer()),\n",
       "                ('knn',\n",
       "                 KNeighborsRegressor(metric='jaccard', n_jobs=-1,\n",
       "                                     n_neighbors=16))])"
      ]
     },
     "execution_count": 14,
     "metadata": {},
     "output_type": "execute_result"
    }
   ],
   "source": [
    "model.set_params(knn__n_neighbors=16)"
   ]
  },
  {
   "cell_type": "code",
   "execution_count": 15,
   "id": "14ad3b39",
   "metadata": {},
   "outputs": [],
   "source": [
    "kNN_neighbor_16 = model.fit(train_data['smiles_0'],train_data['bandgap']).predict(test_data['smiles_0'])"
   ]
  },
  {
   "cell_type": "code",
   "execution_count": 16,
   "id": "e5aefa30",
   "metadata": {},
   "outputs": [
    {
     "data": {
      "text/plain": [
       "Pipeline(steps=[('fingerprint', MorganFingerprintTransformer()),\n",
       "                ('knn',\n",
       "                 KNeighborsRegressor(metric='jaccard', n_jobs=-1,\n",
       "                                     n_neighbors=32))])"
      ]
     },
     "execution_count": 16,
     "metadata": {},
     "output_type": "execute_result"
    }
   ],
   "source": [
    "model.set_params(knn__n_neighbors=32)"
   ]
  },
  {
   "cell_type": "code",
   "execution_count": 17,
   "id": "8c15f54e",
   "metadata": {},
   "outputs": [],
   "source": [
    "kNN_neighbor_32 = model.fit(train_data['smiles_0'],train_data['bandgap']).predict(test_data['smiles_0'])"
   ]
  },
  {
   "cell_type": "code",
   "execution_count": 18,
   "id": "2b705de9",
   "metadata": {},
   "outputs": [
    {
     "data": {
      "text/plain": [
       "Pipeline(steps=[('fingerprint', MorganFingerprintTransformer()),\n",
       "                ('knn',\n",
       "                 KNeighborsRegressor(metric='jaccard', n_jobs=-1,\n",
       "                                     n_neighbors=64))])"
      ]
     },
     "execution_count": 18,
     "metadata": {},
     "output_type": "execute_result"
    }
   ],
   "source": [
    "model.set_params(knn__n_neighbors=64)"
   ]
  },
  {
   "cell_type": "code",
   "execution_count": 19,
   "id": "a64aa069",
   "metadata": {},
   "outputs": [],
   "source": [
    "kNN_neighbor_64 = model.fit(train_data['smiles_0'],train_data['bandgap']).predict(test_data['smiles_0'])"
   ]
  },
  {
   "cell_type": "code",
   "execution_count": 20,
   "id": "f3182e9a",
   "metadata": {},
   "outputs": [
    {
     "data": {
      "text/plain": [
       "Pipeline(steps=[('fingerprint', MorganFingerprintTransformer()),\n",
       "                ('knn',\n",
       "                 KNeighborsRegressor(metric='jaccard', n_jobs=-1,\n",
       "                                     n_neighbors=128))])"
      ]
     },
     "execution_count": 20,
     "metadata": {},
     "output_type": "execute_result"
    }
   ],
   "source": [
    "model.set_params(knn__n_neighbors=128)"
   ]
  },
  {
   "cell_type": "code",
   "execution_count": 21,
   "id": "6b9acd10",
   "metadata": {},
   "outputs": [],
   "source": [
    "kNN_neighbor_128 = model.fit(train_data['smiles_0'],train_data['bandgap']).predict(test_data['smiles_0'])"
   ]
  },
  {
   "cell_type": "code",
   "execution_count": 22,
   "id": "d3b9bf4a",
   "metadata": {
    "scrolled": true
   },
   "outputs": [
    {
     "data": {
      "text/plain": [
       "Text(0, 0.5, 'MSE')"
      ]
     },
     "execution_count": 22,
     "metadata": {},
     "output_type": "execute_result"
    },
    {
     "data": {
      "image/png": "[encoded data removed]",
      "text/plain": [
       "<Figure size 432x288 with 1 Axes>"
      ]
     },
     "metadata": {
      "needs_background": "light"
     },
     "output_type": "display_data"
    }
   ],
   "source": [
    "fig1 = plt.bar([0, 1, 2, 3, 4, 5, 6, 7],[mean_absolute_error(kNN_neighbor_1,test_data['bandgap']),mean_absolute_error(kNN_neighbor_2,test_data['bandgap']),mean_absolute_error(kNN_neighbor_4,test_data['bandgap']),mean_absolute_error(kNN_neighbor_8,test_data['bandgap']),mean_absolute_error(kNN_neighbor_16,test_data['bandgap']),mean_absolute_error(kNN_neighbor_32,test_data['bandgap']),mean_absolute_error(kNN_neighbor_64,test_data['bandgap']),mean_absolute_error(kNN_neighbor_128,test_data['bandgap'])])\n",
    "plt.title('MSE of kNN versus different n_neighbors')\n",
    "plt.xlabel('log2(n_neighbors)')\n",
    "plt.ylabel('MSE')"
   ]
  },
  {
   "cell_type": "markdown",
   "id": "e8aee3cc",
   "metadata": {},
   "source": [
    "Q1:Explain why the MAE improves when increasing from 1 and then worsens as you increase past 2^4.\n",
    "\n",
    "\n",
    "A:This is the trade-off between overfitting and underfitting, when number of neighbor is not enough, the data will be overfitted while the number of neighbor is too much will lead to the underfitting. \n"
   ]
  },
  {
   "cell_type": "code",
   "execution_count": 23,
   "id": "3ca9b13e",
   "metadata": {},
   "outputs": [],
   "source": [
    "model = Pipeline([\n",
    "    ('fingerprint', MorganFingerprintTransformer()),\n",
    "    ('RFE', RFE(RandomForestRegressor(), n_features_to_select=32, step=4)),\n",
    "    ('knn', KNeighborsRegressor(n_neighbors=1, metric='jaccard', n_jobs=-1))  # n_jobs = -1 lets the model run all available processors\n",
    "])"
   ]
  },
  {
   "cell_type": "code",
   "execution_count": 24,
   "id": "6480bbee",
   "metadata": {},
   "outputs": [],
   "source": [
    "kNN_neighbor_RFE_1 = model.fit(train_data['smiles_0'],train_data['bandgap']).predict(test_data['smiles_0'])"
   ]
  },
  {
   "cell_type": "code",
   "execution_count": 25,
   "id": "dbdde750",
   "metadata": {},
   "outputs": [
    {
     "data": {
      "text/plain": [
       "Pipeline(steps=[('fingerprint', MorganFingerprintTransformer()),\n",
       "                ('RFE',\n",
       "                 RFE(estimator=RandomForestRegressor(), n_features_to_select=32,\n",
       "                     step=4)),\n",
       "                ('knn',\n",
       "                 KNeighborsRegressor(metric='jaccard', n_jobs=-1,\n",
       "                                     n_neighbors=2))])"
      ]
     },
     "execution_count": 25,
     "metadata": {},
     "output_type": "execute_result"
    }
   ],
   "source": [
    "model.set_params(knn__n_neighbors=2)"
   ]
  },
  {
   "cell_type": "code",
   "execution_count": 26,
   "id": "4b7f8f4d",
   "metadata": {},
   "outputs": [],
   "source": [
    "kNN_neighbor_RFE_2 = model.fit(train_data['smiles_0'],train_data['bandgap']).predict(test_data['smiles_0'])"
   ]
  },
  {
   "cell_type": "code",
   "execution_count": 27,
   "id": "6b2a551a",
   "metadata": {},
   "outputs": [
    {
     "data": {
      "text/plain": [
       "Pipeline(steps=[('fingerprint', MorganFingerprintTransformer()),\n",
       "                ('RFE',\n",
       "                 RFE(estimator=RandomForestRegressor(), n_features_to_select=32,\n",
       "                     step=4)),\n",
       "                ('knn',\n",
       "                 KNeighborsRegressor(metric='jaccard', n_jobs=-1,\n",
       "                                     n_neighbors=4))])"
      ]
     },
     "execution_count": 27,
     "metadata": {},
     "output_type": "execute_result"
    }
   ],
   "source": [
    "model.set_params(knn__n_neighbors=4)"
   ]
  },
  {
   "cell_type": "code",
   "execution_count": 28,
   "id": "7e1f65db",
   "metadata": {},
   "outputs": [],
   "source": [
    "kNN_neighbor_RFE_4 = model.fit(train_data['smiles_0'],train_data['bandgap']).predict(test_data['smiles_0'])"
   ]
  },
  {
   "cell_type": "code",
   "execution_count": 29,
   "id": "df7397b3",
   "metadata": {},
   "outputs": [
    {
     "data": {
      "text/plain": [
       "Pipeline(steps=[('fingerprint', MorganFingerprintTransformer()),\n",
       "                ('RFE',\n",
       "                 RFE(estimator=RandomForestRegressor(), n_features_to_select=32,\n",
       "                     step=4)),\n",
       "                ('knn',\n",
       "                 KNeighborsRegressor(metric='jaccard', n_jobs=-1,\n",
       "                                     n_neighbors=8))])"
      ]
     },
     "execution_count": 29,
     "metadata": {},
     "output_type": "execute_result"
    }
   ],
   "source": [
    "model.set_params(knn__n_neighbors=8)"
   ]
  },
  {
   "cell_type": "code",
   "execution_count": 30,
   "id": "f4362bb6",
   "metadata": {},
   "outputs": [],
   "source": [
    "kNN_neighbor_RFE_8 = model.fit(train_data['smiles_0'],train_data['bandgap']).predict(test_data['smiles_0'])"
   ]
  },
  {
   "cell_type": "code",
   "execution_count": 31,
   "id": "acfb1a87",
   "metadata": {},
   "outputs": [
    {
     "data": {
      "text/plain": [
       "Pipeline(steps=[('fingerprint', MorganFingerprintTransformer()),\n",
       "                ('RFE',\n",
       "                 RFE(estimator=RandomForestRegressor(), n_features_to_select=32,\n",
       "                     step=4)),\n",
       "                ('knn',\n",
       "                 KNeighborsRegressor(metric='jaccard', n_jobs=-1,\n",
       "                                     n_neighbors=16))])"
      ]
     },
     "execution_count": 31,
     "metadata": {},
     "output_type": "execute_result"
    }
   ],
   "source": [
    "model.set_params(knn__n_neighbors=16)"
   ]
  },
  {
   "cell_type": "code",
   "execution_count": 32,
   "id": "8fb704ac",
   "metadata": {},
   "outputs": [],
   "source": [
    "kNN_neighbor_RFE_16 = model.fit(train_data['smiles_0'],train_data['bandgap']).predict(test_data['smiles_0'])"
   ]
  },
  {
   "cell_type": "code",
   "execution_count": 33,
   "id": "441797fd",
   "metadata": {},
   "outputs": [
    {
     "data": {
      "text/plain": [
       "Pipeline(steps=[('fingerprint', MorganFingerprintTransformer()),\n",
       "                ('RFE',\n",
       "                 RFE(estimator=RandomForestRegressor(), n_features_to_select=32,\n",
       "                     step=4)),\n",
       "                ('knn',\n",
       "                 KNeighborsRegressor(metric='jaccard', n_jobs=-1,\n",
       "                                     n_neighbors=32))])"
      ]
     },
     "execution_count": 33,
     "metadata": {},
     "output_type": "execute_result"
    }
   ],
   "source": [
    "model.set_params(knn__n_neighbors=32)"
   ]
  },
  {
   "cell_type": "code",
   "execution_count": 34,
   "id": "d0ad1447",
   "metadata": {},
   "outputs": [],
   "source": [
    "kNN_neighbor_RFE_32 = model.fit(train_data['smiles_0'],train_data['bandgap']).predict(test_data['smiles_0'])"
   ]
  },
  {
   "cell_type": "code",
   "execution_count": 35,
   "id": "c78fcb0b",
   "metadata": {},
   "outputs": [
    {
     "data": {
      "text/plain": [
       "Pipeline(steps=[('fingerprint', MorganFingerprintTransformer()),\n",
       "                ('RFE',\n",
       "                 RFE(estimator=RandomForestRegressor(), n_features_to_select=32,\n",
       "                     step=4)),\n",
       "                ('knn',\n",
       "                 KNeighborsRegressor(metric='jaccard', n_jobs=-1,\n",
       "                                     n_neighbors=64))])"
      ]
     },
     "execution_count": 35,
     "metadata": {},
     "output_type": "execute_result"
    }
   ],
   "source": [
    "model.set_params(knn__n_neighbors=64)"
   ]
  },
  {
   "cell_type": "code",
   "execution_count": 36,
   "id": "7934d891",
   "metadata": {},
   "outputs": [],
   "source": [
    "kNN_neighbor_RFE_64 = model.fit(train_data['smiles_0'],train_data['bandgap']).predict(test_data['smiles_0'])"
   ]
  },
  {
   "cell_type": "code",
   "execution_count": 37,
   "id": "762ef11c",
   "metadata": {},
   "outputs": [
    {
     "data": {
      "text/plain": [
       "Pipeline(steps=[('fingerprint', MorganFingerprintTransformer()),\n",
       "                ('RFE',\n",
       "                 RFE(estimator=RandomForestRegressor(), n_features_to_select=32,\n",
       "                     step=4)),\n",
       "                ('knn',\n",
       "                 KNeighborsRegressor(metric='jaccard', n_jobs=-1,\n",
       "                                     n_neighbors=128))])"
      ]
     },
     "execution_count": 37,
     "metadata": {},
     "output_type": "execute_result"
    }
   ],
   "source": [
    "model.set_params(knn__n_neighbors=128)"
   ]
  },
  {
   "cell_type": "code",
   "execution_count": 38,
   "id": "9d7f24f7",
   "metadata": {},
   "outputs": [],
   "source": [
    "kNN_neighbor_RFE_128 = model.fit(train_data['smiles_0'],train_data['bandgap']).predict(test_data['smiles_0'])"
   ]
  },
  {
   "cell_type": "code",
   "execution_count": 48,
   "id": "2969cf84",
   "metadata": {
    "scrolled": true
   },
   "outputs": [
    {
     "data": {
      "text/plain": [
       "<matplotlib.legend.Legend at 0x7fc54e85e2d0>"
      ]
     },
     "execution_count": 48,
     "metadata": {},
     "output_type": "execute_result"
    },
    {
     "data": {
      "image/png": "[encoded data removed]",
      "text/plain": [
       "<Figure size 432x288 with 1 Axes>"
      ]
     },
     "metadata": {
      "needs_background": "light"
     },
     "output_type": "display_data"
    }
   ],
   "source": [
    "plt.plot([0, 1, 2, 3, 4, 5, 6, 7],[mean_absolute_error(kNN_neighbor_1,test_data['bandgap']),mean_absolute_error(kNN_neighbor_2,test_data['bandgap']),mean_absolute_error(kNN_neighbor_4,test_data['bandgap']),mean_absolute_error(kNN_neighbor_8,test_data['bandgap']),mean_absolute_error(kNN_neighbor_16,test_data['bandgap']),mean_absolute_error(kNN_neighbor_32,test_data['bandgap']),mean_absolute_error(kNN_neighbor_64,test_data['bandgap']),mean_absolute_error(kNN_neighbor_128,test_data['bandgap'])],\n",
    "    [0, 1, 2, 3, 4, 5, 6, 7],[mean_absolute_error(kNN_neighbor_RFE_1,test_data['bandgap']),mean_absolute_error(kNN_neighbor_RFE_2,test_data['bandgap']),mean_absolute_error(kNN_neighbor_RFE_4,test_data['bandgap']),mean_absolute_error(kNN_neighbor_RFE_8,test_data['bandgap']),mean_absolute_error(kNN_neighbor_RFE_16,test_data['bandgap']),mean_absolute_error(kNN_neighbor_RFE_32,test_data['bandgap']),mean_absolute_error(kNN_neighbor_RFE_64,test_data['bandgap']),mean_absolute_error(kNN_neighbor_RFE_128,test_data['bandgap'])])\n",
    "plt.title('MSE of kNN with RFE versus different n_neighbors')\n",
    "plt.xlabel('log2(n_neighbors)')\n",
    "plt.ylabel('MSE')\n",
    "plt.legend(['w/o RFE','w/ RFE'])"
   ]
  },
  {
   "cell_type": "markdown",
   "id": "56273e93",
   "metadata": {},
   "source": [
    "Q2:Compare the MAE versus number of neighbors to kNN without feature selection.\n",
    "\n",
    "\n",
    "It is clear that the MAE of kNN with feature selection is smaller than those without. \n"
   ]
  },
  {
   "cell_type": "markdown",
   "id": "0e0fedbe",
   "metadata": {},
   "source": [
    "Q3:Why would the model with the feature selection perform better? In general terms, explain the disadvantage of using a general-purpose distance metrics such as fingerprints and how must one must account for that.\n",
    "\n",
    "With the feature selection before the fitting, we can train the model with those important features and this could decrease the noise from irrelevant features. \n"
   ]
  },
  {
   "cell_type": "code",
   "execution_count": null,
   "id": "0768ce5e",
   "metadata": {},
   "outputs": [],
   "source": []
  }
 ],
 "metadata": {
  "kernelspec": {
   "display_name": "Python 3 (ipykernel)",
   "language": "python",
   "name": "python3"
  },
  "language_info": {
   "codemirror_mode": {
    "name": "ipython",
    "version": 3
   },
   "file_extension": ".py",
   "mimetype": "text/x-python",
   "name": "python",
   "nbconvert_exporter": "python",
   "pygments_lexer": "ipython3",
   "version": "3.7.11"
  }
 },
 "nbformat": 4,
 "nbformat_minor": 5
}
