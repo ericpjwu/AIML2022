{
 "cells": [
  {
   "cell_type": "code",
   "execution_count": 1,
   "id": "4e12bbdd",
   "metadata": {},
   "outputs": [],
   "source": [
    "%matplotlib inline\n",
    "from matplotlib import pyplot as plt\n",
    "from sklearn.model_selection import train_test_split\n",
    "from sklearn.neighbors import KNeighborsRegressor\n",
    "from sklearn.pipeline import Pipeline\n",
    "from sklearn.metrics import r2_score, mean_absolute_error\n",
    "from sklearn.base import BaseEstimator, TransformerMixin\n",
    "from sklearn.feature_selection import RFE\n",
    "from sklearn.ensemble import RandomForestRegressor\n",
    "from sklearn.ensemble import RandomForestClassifier\n",
    "from rdkit.Chem import AllChem\n",
    "from rdkit import DataStructs\n",
    "from rdkit import Chem\n",
    "from tqdm import tqdm\n",
    "import pandas as pd\n",
    "import numpy as np"
   ]
  },
  {
   "cell_type": "code",
   "execution_count": 2,
   "id": "b35fbafa",
   "metadata": {},
   "outputs": [],
   "source": [
    "data = pd.read_json('../datasets/qm9.json.gz', lines=True)"
   ]
  },
  {
   "cell_type": "code",
   "execution_count": 3,
   "id": "6fd0d580",
   "metadata": {},
   "outputs": [],
   "source": [
    "def compute_morgan_fingerprints(smiles: str, fingerprint_length: int, fingerprint_radius: int):\n",
    "    \"\"\"Get Morgan Fingerprint of a specific SMILES string.\n",
    "    Adapted from: <https://github.com/google-research/google-research/blob/\n",
    "    dfac4178ccf521e8d6eae45f7b0a33a6a5b691ee/mol_dqn/chemgraph/dqn/deep_q_networks.py#L750>\n",
    "    Args:\n",
    "      graph (str): The molecule as a SMILES string\n",
    "      fingerprint_length (int): Bit-length of fingerprint\n",
    "      fingerprint_radius (int): Radius used to compute fingerprint\n",
    "    Returns:\n",
    "      np.array. shape = [hparams, fingerprint_length]. The Morgan fingerprint.\n",
    "    \"\"\"\n",
    "    # Parse the molecule\n",
    "    molecule = Chem.MolFromSmiles(smiles)\n",
    "\n",
    "    # Compute the fingerprint\n",
    "    fingerprint = AllChem.GetMorganFingerprintAsBitVect(\n",
    "        molecule, fingerprint_radius, fingerprint_length)\n",
    "    arr = np.zeros((1,), dtype=np.bool)\n",
    "\n",
    "    # ConvertToNumpyArray takes ~ 0.19 ms, while\n",
    "    # np.asarray takes ~ 4.69 ms\n",
    "    DataStructs.ConvertToNumpyArray(fingerprint, arr)\n",
    "    return arr"
   ]
  },
  {
   "cell_type": "code",
   "execution_count": 4,
   "id": "4affff47",
   "metadata": {},
   "outputs": [],
   "source": [
    "class MorganFingerprintTransformer(BaseEstimator, TransformerMixin):\n",
    "    \"\"\"Class that converts SMILES strings to fingerprint vectors\"\"\"\n",
    "    \n",
    "    def __init__(self, length: int = 128, radius: int = 3):\n",
    "        self.length = length\n",
    "        self.radius = radius\n",
    "    \n",
    "    def fit(self, X, y=None):\n",
    "        return self  # Do need to do anything\n",
    "    \n",
    "    def transform(self, X, y=None):\n",
    "        \"\"\"Compute the fingerprints\n",
    "        \n",
    "        Args:\n",
    "            X: List of SMILES strings\n",
    "        Returns:\n",
    "            Array of fingerprints\n",
    "        \"\"\"\n",
    "        \n",
    "        fing = [compute_morgan_fingerprints(m, self.length, self.radius) for m in X]\n",
    "        return np.vstack(fing)"
   ]
  },
  {
   "cell_type": "code",
   "execution_count": 5,
   "id": "1fdaf6ee",
   "metadata": {},
   "outputs": [],
   "source": [
    "model = Pipeline([\n",
    "    ('fingerprint', MorganFingerprintTransformer()),\n",
    "    ('knn', KNeighborsRegressor(n_neighbors=1, metric='jaccard', n_jobs=-1))  # n_jobs = -1 lets the model run all available processors\n",
    "])"
   ]
  },
  {
   "cell_type": "code",
   "execution_count": 6,
   "id": "e106497f",
   "metadata": {},
   "outputs": [],
   "source": [
    "train_data, test_data = train_test_split(data, train_size=1000, test_size=2000)"
   ]
  },
  {
   "cell_type": "code",
   "execution_count": 7,
   "id": "3db3a547",
   "metadata": {},
   "outputs": [],
   "source": [
    "kNN_neighbor_1 = model.fit(train_data['smiles_0'],train_data['bandgap']).predict(test_data['smiles_0'])"
   ]
  },
  {
   "cell_type": "code",
   "execution_count": 8,
   "id": "b4e6dfe4",
   "metadata": {},
   "outputs": [
    {
     "data": {
      "text/plain": [
       "Pipeline(steps=[('fingerprint', MorganFingerprintTransformer()),\n",
       "                ('knn',\n",
       "                 KNeighborsRegressor(metric='jaccard', n_jobs=-1,\n",
       "                                     n_neighbors=2))])"
      ]
     },
     "execution_count": 8,
     "metadata": {},
     "output_type": "execute_result"
    }
   ],
   "source": [
    "model.set_params(knn__n_neighbors=2)"
   ]
  },
  {
   "cell_type": "code",
   "execution_count": 9,
   "id": "dfd3005d",
   "metadata": {},
   "outputs": [],
   "source": [
    "kNN_neighbor_2 = model.fit(train_data['smiles_0'],train_data['bandgap']).predict(test_data['smiles_0'])"
   ]
  },
  {
   "cell_type": "code",
   "execution_count": 10,
   "id": "4536763f",
   "metadata": {},
   "outputs": [
    {
     "data": {
      "text/plain": [
       "Pipeline(steps=[('fingerprint', MorganFingerprintTransformer()),\n",
       "                ('knn',\n",
       "                 KNeighborsRegressor(metric='jaccard', n_jobs=-1,\n",
       "                                     n_neighbors=4))])"
      ]
     },
     "execution_count": 10,
     "metadata": {},
     "output_type": "execute_result"
    }
   ],
   "source": [
    "model.set_params(knn__n_neighbors=4)"
   ]
  },
  {
   "cell_type": "code",
   "execution_count": 11,
   "id": "7fb9ec5f",
   "metadata": {},
   "outputs": [],
   "source": [
    "kNN_neighbor_4 = model.fit(train_data['smiles_0'],train_data['bandgap']).predict(test_data['smiles_0'])"
   ]
  },
  {
   "cell_type": "code",
   "execution_count": 12,
   "id": "ca736404",
   "metadata": {},
   "outputs": [
    {
     "data": {
      "text/plain": [
       "Pipeline(steps=[('fingerprint', MorganFingerprintTransformer()),\n",
       "                ('knn',\n",
       "                 KNeighborsRegressor(metric='jaccard', n_jobs=-1,\n",
       "                                     n_neighbors=8))])"
      ]
     },
     "execution_count": 12,
     "metadata": {},
     "output_type": "execute_result"
    }
   ],
   "source": [
    "model.set_params(knn__n_neighbors=8)"
   ]
  },
  {
   "cell_type": "code",
   "execution_count": 13,
   "id": "281c21fb",
   "metadata": {},
   "outputs": [],
   "source": [
    "kNN_neighbor_8 = model.fit(train_data['smiles_0'],train_data['bandgap']).predict(test_data['smiles_0'])"
   ]
  },
  {
   "cell_type": "code",
   "execution_count": 14,
   "id": "2157e3f1",
   "metadata": {},
   "outputs": [
    {
     "data": {
      "text/plain": [
       "Pipeline(steps=[('fingerprint', MorganFingerprintTransformer()),\n",
       "                ('knn',\n",
       "                 KNeighborsRegressor(metric='jaccard', n_jobs=-1,\n",
       "                                     n_neighbors=16))])"
      ]
     },
     "execution_count": 14,
     "metadata": {},
     "output_type": "execute_result"
    }
   ],
   "source": [
    "model.set_params(knn__n_neighbors=16)"
   ]
  },
  {
   "cell_type": "code",
   "execution_count": 15,
   "id": "d5d8aee3",
   "metadata": {},
   "outputs": [],
   "source": [
    "kNN_neighbor_16 = model.fit(train_data['smiles_0'],train_data['bandgap']).predict(test_data['smiles_0'])"
   ]
  },
  {
   "cell_type": "code",
   "execution_count": 16,
   "id": "7b0dfe83",
   "metadata": {},
   "outputs": [
    {
     "data": {
      "text/plain": [
       "Pipeline(steps=[('fingerprint', MorganFingerprintTransformer()),\n",
       "                ('knn',\n",
       "                 KNeighborsRegressor(metric='jaccard', n_jobs=-1,\n",
       "                                     n_neighbors=32))])"
      ]
     },
     "execution_count": 16,
     "metadata": {},
     "output_type": "execute_result"
    }
   ],
   "source": [
    "model.set_params(knn__n_neighbors=32)"
   ]
  },
  {
   "cell_type": "code",
   "execution_count": 17,
   "id": "3498ab33",
   "metadata": {},
   "outputs": [],
   "source": [
    "kNN_neighbor_32 = model.fit(train_data['smiles_0'],train_data['bandgap']).predict(test_data['smiles_0'])"
   ]
  },
  {
   "cell_type": "code",
   "execution_count": 18,
   "id": "6722296f",
   "metadata": {},
   "outputs": [
    {
     "data": {
      "text/plain": [
       "Pipeline(steps=[('fingerprint', MorganFingerprintTransformer()),\n",
       "                ('knn',\n",
       "                 KNeighborsRegressor(metric='jaccard', n_jobs=-1,\n",
       "                                     n_neighbors=64))])"
      ]
     },
     "execution_count": 18,
     "metadata": {},
     "output_type": "execute_result"
    }
   ],
   "source": [
    "model.set_params(knn__n_neighbors=64)"
   ]
  },
  {
   "cell_type": "code",
   "execution_count": 19,
   "id": "f70f31a8",
   "metadata": {},
   "outputs": [],
   "source": [
    "kNN_neighbor_64 = model.fit(train_data['smiles_0'],train_data['bandgap']).predict(test_data['smiles_0'])"
   ]
  },
  {
   "cell_type": "code",
   "execution_count": 20,
   "id": "c14b8791",
   "metadata": {},
   "outputs": [
    {
     "data": {
      "text/plain": [
       "Pipeline(steps=[('fingerprint', MorganFingerprintTransformer()),\n",
       "                ('knn',\n",
       "                 KNeighborsRegressor(metric='jaccard', n_jobs=-1,\n",
       "                                     n_neighbors=128))])"
      ]
     },
     "execution_count": 20,
     "metadata": {},
     "output_type": "execute_result"
    }
   ],
   "source": [
    "model.set_params(knn__n_neighbors=128)"
   ]
  },
  {
   "cell_type": "code",
   "execution_count": 21,
   "id": "dbc4b3b7",
   "metadata": {},
   "outputs": [],
   "source": [
    "kNN_neighbor_128 = model.fit(train_data['smiles_0'],train_data['bandgap']).predict(test_data['smiles_0'])"
   ]
  },
  {
   "cell_type": "code",
   "execution_count": 22,
   "id": "5b0c8cb7",
   "metadata": {},
   "outputs": [
    {
     "data": {
      "text/plain": [
       "Text(0, 0.5, 'MSE')"
      ]
     },
     "execution_count": 22,
     "metadata": {},
     "output_type": "execute_result"
    },
    {
     "data": {
      "image/png": "[encoded data removed]",
      "text/plain": [
       "<Figure size 432x288 with 1 Axes>"
      ]
     },
     "metadata": {
      "needs_background": "light"
     },
     "output_type": "display_data"
    }
   ],
   "source": [
    "fig1 = plt.bar([0, 1, 2, 3, 4, 5, 6, 7],[mean_absolute_error(kNN_neighbor_1,test_data['bandgap']),mean_absolute_error(kNN_neighbor_2,test_data['bandgap']),mean_absolute_error(kNN_neighbor_4,test_data['bandgap']),mean_absolute_error(kNN_neighbor_8,test_data['bandgap']),mean_absolute_error(kNN_neighbor_16,test_data['bandgap']),mean_absolute_error(kNN_neighbor_32,test_data['bandgap']),mean_absolute_error(kNN_neighbor_64,test_data['bandgap']),mean_absolute_error(kNN_neighbor_128,test_data['bandgap'])])\n",
    "plt.title('MSE of kNN versus different n_neighbors')\n",
    "plt.xlabel('log2(n_neighbors)')\n",
    "plt.ylabel('MSE')"
   ]
  },
  {
   "cell_type": "code",
   "execution_count": 23,
   "id": "cde21966",
   "metadata": {},
   "outputs": [],
   "source": [
    "model = Pipeline([\n",
    "    ('fingerprint', MorganFingerprintTransformer()),\n",
    "    ('RFE', RFE(RandomForestRegressor(), n_features_to_select=32, step=4)),\n",
    "    ('knn', KNeighborsRegressor(n_neighbors=1, metric='jaccard', n_jobs=-1))  # n_jobs = -1 lets the model run all available processors\n",
    "])"
   ]
  },
  {
   "cell_type": "code",
   "execution_count": 24,
   "id": "2bad5c13",
   "metadata": {},
   "outputs": [],
   "source": [
    "kNN_neighbor_RFE_1 = model.fit(train_data['smiles_0'],train_data['bandgap']).predict(test_data['smiles_0'])"
   ]
  },
  {
   "cell_type": "code",
   "execution_count": 25,
   "id": "781d1655",
   "metadata": {},
   "outputs": [
    {
     "data": {
      "text/plain": [
       "Pipeline(steps=[('fingerprint', MorganFingerprintTransformer()),\n",
       "                ('RFE',\n",
       "                 RFE(estimator=RandomForestRegressor(), n_features_to_select=32,\n",
       "                     step=4)),\n",
       "                ('knn',\n",
       "                 KNeighborsRegressor(metric='jaccard', n_jobs=-1,\n",
       "                                     n_neighbors=2))])"
      ]
     },
     "execution_count": 25,
     "metadata": {},
     "output_type": "execute_result"
    }
   ],
   "source": [
    "model.set_params(knn__n_neighbors=2)"
   ]
  },
  {
   "cell_type": "code",
   "execution_count": 26,
   "id": "fd2f6139",
   "metadata": {},
   "outputs": [],
   "source": [
    "kNN_neighbor_RFE_2 = model.fit(train_data['smiles_0'],train_data['bandgap']).predict(test_data['smiles_0'])"
   ]
  },
  {
   "cell_type": "code",
   "execution_count": 27,
   "id": "42ce0e31",
   "metadata": {},
   "outputs": [
    {
     "data": {
      "text/plain": [
       "Pipeline(steps=[('fingerprint', MorganFingerprintTransformer()),\n",
       "                ('RFE',\n",
       "                 RFE(estimator=RandomForestRegressor(), n_features_to_select=32,\n",
       "                     step=4)),\n",
       "                ('knn',\n",
       "                 KNeighborsRegressor(metric='jaccard', n_jobs=-1,\n",
       "                                     n_neighbors=4))])"
      ]
     },
     "execution_count": 27,
     "metadata": {},
     "output_type": "execute_result"
    }
   ],
   "source": [
    "model.set_params(knn__n_neighbors=4)"
   ]
  },
  {
   "cell_type": "code",
   "execution_count": 28,
   "id": "f4cf191c",
   "metadata": {},
   "outputs": [],
   "source": [
    "kNN_neighbor_RFE_4 = model.fit(train_data['smiles_0'],train_data['bandgap']).predict(test_data['smiles_0'])"
   ]
  },
  {
   "cell_type": "code",
   "execution_count": 29,
   "id": "b5df91c7",
   "metadata": {},
   "outputs": [
    {
     "data": {
      "text/plain": [
       "Pipeline(steps=[('fingerprint', MorganFingerprintTransformer()),\n",
       "                ('RFE',\n",
       "                 RFE(estimator=RandomForestRegressor(), n_features_to_select=32,\n",
       "                     step=4)),\n",
       "                ('knn',\n",
       "                 KNeighborsRegressor(metric='jaccard', n_jobs=-1,\n",
       "                                     n_neighbors=8))])"
      ]
     },
     "execution_count": 29,
     "metadata": {},
     "output_type": "execute_result"
    }
   ],
   "source": [
    "model.set_params(knn__n_neighbors=8)"
   ]
  },
  {
   "cell_type": "code",
   "execution_count": 30,
   "id": "fe5b5399",
   "metadata": {},
   "outputs": [],
   "source": [
    "kNN_neighbor_RFE_8 = model.fit(train_data['smiles_0'],train_data['bandgap']).predict(test_data['smiles_0'])"
   ]
  },
  {
   "cell_type": "code",
   "execution_count": 31,
   "id": "c49b71bb",
   "metadata": {},
   "outputs": [
    {
     "data": {
      "text/plain": [
       "Pipeline(steps=[('fingerprint', MorganFingerprintTransformer()),\n",
       "                ('RFE',\n",
       "                 RFE(estimator=RandomForestRegressor(), n_features_to_select=32,\n",
       "                     step=4)),\n",
       "                ('knn',\n",
       "                 KNeighborsRegressor(metric='jaccard', n_jobs=-1,\n",
       "                                     n_neighbors=16))])"
      ]
     },
     "execution_count": 31,
     "metadata": {},
     "output_type": "execute_result"
    }
   ],
   "source": [
    "model.set_params(knn__n_neighbors=16)"
   ]
  },
  {
   "cell_type": "code",
   "execution_count": 32,
   "id": "15f18904",
   "metadata": {},
   "outputs": [],
   "source": [
    "kNN_neighbor_RFE_16 = model.fit(train_data['smiles_0'],train_data['bandgap']).predict(test_data['smiles_0'])"
   ]
  },
  {
   "cell_type": "code",
   "execution_count": 33,
   "id": "f2891657",
   "metadata": {},
   "outputs": [
    {
     "data": {
      "text/plain": [
       "Pipeline(steps=[('fingerprint', MorganFingerprintTransformer()),\n",
       "                ('RFE',\n",
       "                 RFE(estimator=RandomForestRegressor(), n_features_to_select=32,\n",
       "                     step=4)),\n",
       "                ('knn',\n",
       "                 KNeighborsRegressor(metric='jaccard', n_jobs=-1,\n",
       "                                     n_neighbors=32))])"
      ]
     },
     "execution_count": 33,
     "metadata": {},
     "output_type": "execute_result"
    }
   ],
   "source": [
    "model.set_params(knn__n_neighbors=32)"
   ]
  },
  {
   "cell_type": "code",
   "execution_count": 34,
   "id": "1b0f2dfa",
   "metadata": {},
   "outputs": [],
   "source": [
    "kNN_neighbor_RFE_32 = model.fit(train_data['smiles_0'],train_data['bandgap']).predict(test_data['smiles_0'])"
   ]
  },
  {
   "cell_type": "code",
   "execution_count": 35,
   "id": "02c8ebf9",
   "metadata": {},
   "outputs": [
    {
     "data": {
      "text/plain": [
       "Pipeline(steps=[('fingerprint', MorganFingerprintTransformer()),\n",
       "                ('RFE',\n",
       "                 RFE(estimator=RandomForestRegressor(), n_features_to_select=32,\n",
       "                     step=4)),\n",
       "                ('knn',\n",
       "                 KNeighborsRegressor(metric='jaccard', n_jobs=-1,\n",
       "                                     n_neighbors=64))])"
      ]
     },
     "execution_count": 35,
     "metadata": {},
     "output_type": "execute_result"
    }
   ],
   "source": [
    "model.set_params(knn__n_neighbors=64)"
   ]
  },
  {
   "cell_type": "code",
   "execution_count": 36,
   "id": "20976a3d",
   "metadata": {},
   "outputs": [],
   "source": [
    "kNN_neighbor_RFE_64 = model.fit(train_data['smiles_0'],train_data['bandgap']).predict(test_data['smiles_0'])"
   ]
  },
  {
   "cell_type": "code",
   "execution_count": 37,
   "id": "5e5d419c",
   "metadata": {},
   "outputs": [
    {
     "data": {
      "text/plain": [
       "Pipeline(steps=[('fingerprint', MorganFingerprintTransformer()),\n",
       "                ('RFE',\n",
       "                 RFE(estimator=RandomForestRegressor(), n_features_to_select=32,\n",
       "                     step=4)),\n",
       "                ('knn',\n",
       "                 KNeighborsRegressor(metric='jaccard', n_jobs=-1,\n",
       "                                     n_neighbors=128))])"
      ]
     },
     "execution_count": 37,
     "metadata": {},
     "output_type": "execute_result"
    }
   ],
   "source": [
    "model.set_params(knn__n_neighbors=128)"
   ]
  },
  {
   "cell_type": "code",
   "execution_count": 38,
   "id": "f91b9377",
   "metadata": {},
   "outputs": [],
   "source": [
    "kNN_neighbor_RFE_128 = model.fit(train_data['smiles_0'],train_data['bandgap']).predict(test_data['smiles_0'])"
   ]
  },
  {
   "cell_type": "code",
   "execution_count": 48,
   "id": "9477ceaa",
   "metadata": {},
   "outputs": [
    {
     "data": {
      "text/plain": [
       "<matplotlib.legend.Legend at 0x7fc54e85e2d0>"
      ]
     },
     "execution_count": 48,
     "metadata": {},
     "output_type": "execute_result"
    },
    {
     "data": {
      "image/png": "[encoded data removed]",
      "text/plain": [
       "<Figure size 432x288 with 1 Axes>"
      ]
     },
     "metadata": {
      "needs_background": "light"
     },
     "output_type": "display_data"
    }
   ],
   "source": [
    "plt.plot([0, 1, 2, 3, 4, 5, 6, 7],[mean_absolute_error(kNN_neighbor_1,test_data['bandgap']),mean_absolute_error(kNN_neighbor_2,test_data['bandgap']),mean_absolute_error(kNN_neighbor_4,test_data['bandgap']),mean_absolute_error(kNN_neighbor_8,test_data['bandgap']),mean_absolute_error(kNN_neighbor_16,test_data['bandgap']),mean_absolute_error(kNN_neighbor_32,test_data['bandgap']),mean_absolute_error(kNN_neighbor_64,test_data['bandgap']),mean_absolute_error(kNN_neighbor_128,test_data['bandgap'])],\n",
    "    [0, 1, 2, 3, 4, 5, 6, 7],[mean_absolute_error(kNN_neighbor_RFE_1,test_data['bandgap']),mean_absolute_error(kNN_neighbor_RFE_2,test_data['bandgap']),mean_absolute_error(kNN_neighbor_RFE_4,test_data['bandgap']),mean_absolute_error(kNN_neighbor_RFE_8,test_data['bandgap']),mean_absolute_error(kNN_neighbor_RFE_16,test_data['bandgap']),mean_absolute_error(kNN_neighbor_RFE_32,test_data['bandgap']),mean_absolute_error(kNN_neighbor_RFE_64,test_data['bandgap']),mean_absolute_error(kNN_neighbor_RFE_128,test_data['bandgap'])])\n",
    "plt.title('MSE of kNN with RFE versus different n_neighbors')\n",
    "plt.xlabel('log2(n_neighbors)')\n",
    "plt.ylabel('MSE')\n",
    "plt.legend(['w/o RFE','w/ RFE'])"
   ]
  },
  {
   "cell_type": "code",
   "execution_count": null,
   "id": "80866e64",
   "metadata": {},
   "outputs": [],
   "source": []
  }
 ],
 "metadata": {
  "kernelspec": {
   "display_name": "Python 3 (ipykernel)",
   "language": "python",
   "name": "python3"
  },
  "language_info": {
   "codemirror_mode": {
    "name": "ipython",
    "version": 3
   },
   "file_extension": ".py",
   "mimetype": "text/x-python",
   "name": "python",
   "nbconvert_exporter": "python",
   "pygments_lexer": "ipython3",
   "version": "3.7.11"
  }
 },
 "nbformat": 4,
 "nbformat_minor": 5
}
